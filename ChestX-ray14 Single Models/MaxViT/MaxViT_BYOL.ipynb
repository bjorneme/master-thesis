{
 "cells": [
  {
   "cell_type": "markdown",
   "metadata": {},
   "source": [
    "**Sources:**\n",
    "\n",
    "The code is a further development of this preliminary project:\n",
    "\n",
    "[1] https://github.com/bjorneme/preliminary/tree/main\n",
    "\n",
    "The state-of-the-art model used as inspiration for multi-label classification on ChestX-ray14 is:\n",
    "\n",
    "[2] https://github.com/syednabilashraf/SynthEnsemble/tree/main\n",
    "\n",
    "The code used for develop BYOL architecture is:\n",
    "\n",
    "[3] https://docs.lightly.ai/self-supervised-learning/examples/byol.html\n",
    "\n",
    "The code used for TTA is:\n",
    "\n",
    "[4] https://github.com/taheeraahmed/master-thesis"
   ]
  },
  {
   "cell_type": "markdown",
   "metadata": {},
   "source": [
    "**Import Libraries**"
   ]
  },
  {
   "cell_type": "code",
   "execution_count": 1,
   "metadata": {},
   "outputs": [
    {
     "name": "stdout",
     "output_type": "stream",
     "text": [
      "Requirement already satisfied: lightly in /cluster/home/bjorneme/.conda/envs/master_thesis/lib/python3.11/site-packages (1.5.14)\n",
      "Requirement already satisfied: mambavision in /cluster/home/bjorneme/.conda/envs/master_thesis/lib/python3.11/site-packages (1.1.0)\n",
      "Requirement already satisfied: transformers in /cluster/home/bjorneme/.conda/envs/master_thesis/lib/python3.11/site-packages (4.50.0)\n",
      "Requirement already satisfied: mamba_ssm in /cluster/home/bjorneme/.conda/envs/master_thesis/lib/python3.11/site-packages (2.2.4)\n",
      "Requirement already satisfied: timm in /cluster/home/bjorneme/.conda/envs/master_thesis/lib/python3.11/site-packages (1.0.15)\n",
      "Requirement already satisfied: certifi>=14.05.14 in /cluster/home/bjorneme/.conda/envs/master_thesis/lib/python3.11/site-packages (from lightly) (2024.8.30)\n",
      "Requirement already satisfied: hydra-core>=1.0.0 in /cluster/home/bjorneme/.conda/envs/master_thesis/lib/python3.11/site-packages (from lightly) (1.3.2)\n",
      "Requirement already satisfied: lightly-utils~=0.0.0 in /cluster/home/bjorneme/.conda/envs/master_thesis/lib/python3.11/site-packages (from lightly) (0.0.2)\n",
      "Requirement already satisfied: numpy>=1.18.1 in /cluster/home/bjorneme/.conda/envs/master_thesis/lib/python3.11/site-packages (from lightly) (2.0.2)\n",
      "Requirement already satisfied: python-dateutil>=2.5.3 in /cluster/home/bjorneme/.local/lib/python3.11/site-packages (from lightly) (2.9.0.post0)\n",
      "Requirement already satisfied: requests>=2.23.0 in /cluster/home/bjorneme/.conda/envs/master_thesis/lib/python3.11/site-packages (from lightly) (2.32.3)\n",
      "Requirement already satisfied: six>=1.10 in /cluster/home/bjorneme/.local/lib/python3.11/site-packages (from lightly) (1.16.0)\n",
      "Requirement already satisfied: tqdm>=4.44 in /cluster/home/bjorneme/.conda/envs/master_thesis/lib/python3.11/site-packages (from lightly) (4.66.5)\n",
      "Requirement already satisfied: torch in /cluster/home/bjorneme/.conda/envs/master_thesis/lib/python3.11/site-packages (from lightly) (2.4.0)\n",
      "Requirement already satisfied: torchvision in /cluster/home/bjorneme/.conda/envs/master_thesis/lib/python3.11/site-packages (from lightly) (0.19.0)\n",
      "Requirement already satisfied: pydantic>=1.10.5 in /cluster/home/bjorneme/.conda/envs/master_thesis/lib/python3.11/site-packages (from lightly) (2.9.2)\n",
      "Requirement already satisfied: pytorch-lightning>=1.0.4 in /cluster/home/bjorneme/.conda/envs/master_thesis/lib/python3.11/site-packages (from lightly) (1.9.5)\n",
      "Requirement already satisfied: urllib3>=1.25.3 in /cluster/home/bjorneme/.conda/envs/master_thesis/lib/python3.11/site-packages (from lightly) (2.2.3)\n",
      "Requirement already satisfied: aenum>=3.1.11 in /cluster/home/bjorneme/.conda/envs/master_thesis/lib/python3.11/site-packages (from lightly) (3.1.15)\n",
      "Requirement already satisfied: einops==0.8.1 in /cluster/home/bjorneme/.conda/envs/master_thesis/lib/python3.11/site-packages (from mambavision) (0.8.1)\n",
      "Requirement already satisfied: tensorboardX==2.6.2.2 in /cluster/home/bjorneme/.conda/envs/master_thesis/lib/python3.11/site-packages (from mambavision) (2.6.2.2)\n",
      "Requirement already satisfied: Pillow==11.1.0 in /cluster/home/bjorneme/.conda/envs/master_thesis/lib/python3.11/site-packages (from mambavision) (11.1.0)\n",
      "Requirement already satisfied: filelock in /cluster/home/bjorneme/.local/lib/python3.11/site-packages (from transformers) (3.16.1)\n",
      "Requirement already satisfied: huggingface-hub<1.0,>=0.26.0 in /cluster/home/bjorneme/.conda/envs/master_thesis/lib/python3.11/site-packages (from transformers) (0.26.2)\n",
      "Requirement already satisfied: packaging>=20.0 in /cluster/home/bjorneme/.conda/envs/master_thesis/lib/python3.11/site-packages (from transformers) (24.2)\n",
      "Requirement already satisfied: pyyaml>=5.1 in /cluster/home/bjorneme/.conda/envs/master_thesis/lib/python3.11/site-packages (from transformers) (6.0.2)\n",
      "Requirement already satisfied: regex!=2019.12.17 in /cluster/home/bjorneme/.conda/envs/master_thesis/lib/python3.11/site-packages (from transformers) (2024.11.6)\n",
      "Requirement already satisfied: tokenizers<0.22,>=0.21 in /cluster/home/bjorneme/.conda/envs/master_thesis/lib/python3.11/site-packages (from transformers) (0.21.1)\n",
      "Requirement already satisfied: safetensors>=0.4.3 in /cluster/home/bjorneme/.conda/envs/master_thesis/lib/python3.11/site-packages (from transformers) (0.4.5)\n",
      "Requirement already satisfied: ninja in /cluster/home/bjorneme/.conda/envs/master_thesis/lib/python3.11/site-packages (from mamba_ssm) (1.11.1.3)\n",
      "Requirement already satisfied: setuptools>=61.0.0 in /cluster/home/bjorneme/.conda/envs/master_thesis/lib/python3.11/site-packages (from mamba_ssm) (75.1.0)\n",
      "Requirement already satisfied: charset-normalizer<4,>=2 in /cluster/home/bjorneme/.conda/envs/master_thesis/lib/python3.11/site-packages (from requests>=2.23.0->lightly) (3.4.0)\n",
      "Requirement already satisfied: idna<4,>=2.5 in /cluster/home/bjorneme/.conda/envs/master_thesis/lib/python3.11/site-packages (from requests>=2.23.0->lightly) (3.10)\n",
      "Requirement already satisfied: protobuf>=3.20 in /cluster/home/bjorneme/.conda/envs/master_thesis/lib/python3.11/site-packages (from tensorboardX==2.6.2.2->mambavision) (5.28.3)\n",
      "Requirement already satisfied: fsspec>=2023.5.0 in /cluster/home/bjorneme/.local/lib/python3.11/site-packages (from huggingface-hub<1.0,>=0.26.0->transformers) (2024.9.0)\n",
      "Requirement already satisfied: typing-extensions>=3.7.4.3 in /cluster/home/bjorneme/.local/lib/python3.11/site-packages (from huggingface-hub<1.0,>=0.26.0->transformers) (4.12.2)\n",
      "Requirement already satisfied: omegaconf<2.4,>=2.2 in /cluster/home/bjorneme/.conda/envs/master_thesis/lib/python3.11/site-packages (from hydra-core>=1.0.0->lightly) (2.3.0)\n",
      "Requirement already satisfied: antlr4-python3-runtime==4.9.* in /cluster/home/bjorneme/.conda/envs/master_thesis/lib/python3.11/site-packages (from hydra-core>=1.0.0->lightly) (4.9.3)\n",
      "Requirement already satisfied: annotated-types>=0.6.0 in /cluster/home/bjorneme/.conda/envs/master_thesis/lib/python3.11/site-packages (from pydantic>=1.10.5->lightly) (0.7.0)\n",
      "Requirement already satisfied: pydantic-core==2.23.4 in /cluster/home/bjorneme/.conda/envs/master_thesis/lib/python3.11/site-packages (from pydantic>=1.10.5->lightly) (2.23.4)\n",
      "Requirement already satisfied: torchmetrics>=0.7.0 in /cluster/home/bjorneme/.conda/envs/master_thesis/lib/python3.11/site-packages (from pytorch-lightning>=1.0.4->lightly) (1.6.0)\n",
      "Requirement already satisfied: lightning-utilities>=0.6.0.post0 in /cluster/home/bjorneme/.conda/envs/master_thesis/lib/python3.11/site-packages (from pytorch-lightning>=1.0.4->lightly) (0.11.9)\n",
      "Requirement already satisfied: sympy in /cluster/home/bjorneme/.conda/envs/master_thesis/lib/python3.11/site-packages (from torch->lightly) (1.14.0)\n",
      "Requirement already satisfied: networkx in /cluster/home/bjorneme/.local/lib/python3.11/site-packages (from torch->lightly) (3.3)\n",
      "Requirement already satisfied: jinja2 in /cluster/home/bjorneme/.local/lib/python3.11/site-packages (from torch->lightly) (3.1.4)\n",
      "Requirement already satisfied: nvidia-cuda-nvrtc-cu12==12.1.105 in /cluster/home/bjorneme/.conda/envs/master_thesis/lib/python3.11/site-packages (from torch->lightly) (12.1.105)\n",
      "Requirement already satisfied: nvidia-cuda-runtime-cu12==12.1.105 in /cluster/home/bjorneme/.conda/envs/master_thesis/lib/python3.11/site-packages (from torch->lightly) (12.1.105)\n",
      "Requirement already satisfied: nvidia-cuda-cupti-cu12==12.1.105 in /cluster/home/bjorneme/.conda/envs/master_thesis/lib/python3.11/site-packages (from torch->lightly) (12.1.105)\n",
      "Requirement already satisfied: nvidia-cudnn-cu12==9.1.0.70 in /cluster/home/bjorneme/.conda/envs/master_thesis/lib/python3.11/site-packages (from torch->lightly) (9.1.0.70)\n",
      "Requirement already satisfied: nvidia-cublas-cu12==12.1.3.1 in /cluster/home/bjorneme/.conda/envs/master_thesis/lib/python3.11/site-packages (from torch->lightly) (12.1.3.1)\n",
      "Requirement already satisfied: nvidia-cufft-cu12==11.0.2.54 in /cluster/home/bjorneme/.conda/envs/master_thesis/lib/python3.11/site-packages (from torch->lightly) (11.0.2.54)\n",
      "Requirement already satisfied: nvidia-curand-cu12==10.3.2.106 in /cluster/home/bjorneme/.conda/envs/master_thesis/lib/python3.11/site-packages (from torch->lightly) (10.3.2.106)\n",
      "Requirement already satisfied: nvidia-cusolver-cu12==11.4.5.107 in /cluster/home/bjorneme/.conda/envs/master_thesis/lib/python3.11/site-packages (from torch->lightly) (11.4.5.107)\n",
      "Requirement already satisfied: nvidia-cusparse-cu12==12.1.0.106 in /cluster/home/bjorneme/.conda/envs/master_thesis/lib/python3.11/site-packages (from torch->lightly) (12.1.0.106)\n",
      "Requirement already satisfied: nvidia-nccl-cu12==2.20.5 in /cluster/home/bjorneme/.conda/envs/master_thesis/lib/python3.11/site-packages (from torch->lightly) (2.20.5)\n",
      "Requirement already satisfied: nvidia-nvtx-cu12==12.1.105 in /cluster/home/bjorneme/.conda/envs/master_thesis/lib/python3.11/site-packages (from torch->lightly) (12.1.105)\n",
      "Requirement already satisfied: triton==3.0.0 in /cluster/home/bjorneme/.conda/envs/master_thesis/lib/python3.11/site-packages (from torch->lightly) (3.0.0)\n",
      "Requirement already satisfied: nvidia-nvjitlink-cu12 in /cluster/home/bjorneme/.conda/envs/master_thesis/lib/python3.11/site-packages (from nvidia-cusolver-cu12==11.4.5.107->torch->lightly) (12.6.85)\n",
      "Requirement already satisfied: aiohttp!=4.0.0a0,!=4.0.0a1 in /cluster/home/bjorneme/.conda/envs/master_thesis/lib/python3.11/site-packages (from fsspec[http]>2021.06.0->pytorch-lightning>=1.0.4->lightly) (3.11.7)\n",
      "Requirement already satisfied: MarkupSafe>=2.0 in /cluster/home/bjorneme/.local/lib/python3.11/site-packages (from jinja2->torch->lightly) (2.1.5)\n",
      "Requirement already satisfied: mpmath<1.4,>=1.1.0 in /cluster/home/bjorneme/.local/lib/python3.11/site-packages (from sympy->torch->lightly) (1.3.0)\n",
      "Requirement already satisfied: aiohappyeyeballs>=2.3.0 in /cluster/home/bjorneme/.conda/envs/master_thesis/lib/python3.11/site-packages (from aiohttp!=4.0.0a0,!=4.0.0a1->fsspec[http]>2021.06.0->pytorch-lightning>=1.0.4->lightly) (2.4.3)\n",
      "Requirement already satisfied: aiosignal>=1.1.2 in /cluster/home/bjorneme/.conda/envs/master_thesis/lib/python3.11/site-packages (from aiohttp!=4.0.0a0,!=4.0.0a1->fsspec[http]>2021.06.0->pytorch-lightning>=1.0.4->lightly) (1.3.1)\n",
      "Requirement already satisfied: attrs>=17.3.0 in /cluster/home/bjorneme/.conda/envs/master_thesis/lib/python3.11/site-packages (from aiohttp!=4.0.0a0,!=4.0.0a1->fsspec[http]>2021.06.0->pytorch-lightning>=1.0.4->lightly) (24.2.0)\n",
      "Requirement already satisfied: frozenlist>=1.1.1 in /cluster/home/bjorneme/.conda/envs/master_thesis/lib/python3.11/site-packages (from aiohttp!=4.0.0a0,!=4.0.0a1->fsspec[http]>2021.06.0->pytorch-lightning>=1.0.4->lightly) (1.5.0)\n",
      "Requirement already satisfied: multidict<7.0,>=4.5 in /cluster/home/bjorneme/.conda/envs/master_thesis/lib/python3.11/site-packages (from aiohttp!=4.0.0a0,!=4.0.0a1->fsspec[http]>2021.06.0->pytorch-lightning>=1.0.4->lightly) (6.1.0)\n",
      "Requirement already satisfied: propcache>=0.2.0 in /cluster/home/bjorneme/.conda/envs/master_thesis/lib/python3.11/site-packages (from aiohttp!=4.0.0a0,!=4.0.0a1->fsspec[http]>2021.06.0->pytorch-lightning>=1.0.4->lightly) (0.2.0)\n",
      "Requirement already satisfied: yarl<2.0,>=1.17.0 in /cluster/home/bjorneme/.conda/envs/master_thesis/lib/python3.11/site-packages (from aiohttp!=4.0.0a0,!=4.0.0a1->fsspec[http]>2021.06.0->pytorch-lightning>=1.0.4->lightly) (1.18.0)\n",
      "Note: you may need to restart the kernel to use updated packages.\n"
     ]
    }
   ],
   "source": [
    "pip install lightly mambavision transformers mamba_ssm timm"
   ]
  },
  {
   "cell_type": "code",
   "execution_count": 2,
   "metadata": {},
   "outputs": [
    {
     "name": "stderr",
     "output_type": "stream",
     "text": [
      "/cluster/home/bjorneme/.conda/envs/master_thesis/lib/python3.11/site-packages/tqdm/auto.py:21: TqdmWarning: IProgress not found. Please update jupyter and ipywidgets. See https://ipywidgets.readthedocs.io/en/stable/user_install.html\n",
      "  from .autonotebook import tqdm as notebook_tqdm\n"
     ]
    }
   ],
   "source": [
    "# Standard Libraries\n",
    "import os\n",
    "import copy\n",
    "import random\n",
    "from glob import glob\n",
    "from PIL import Image\n",
    "import zipfile\n",
    "\n",
    "# Data Manipulation Libraries\n",
    "import pandas as pd\n",
    "import numpy as np\n",
    "\n",
    "# Visualization Libraries\n",
    "import matplotlib.pyplot as plt\n",
    "\n",
    "# Progress Bar\n",
    "from tqdm import tqdm\n",
    "\n",
    "# Machine Learning Libraries\n",
    "import torch\n",
    "import torch.nn as nn\n",
    "import torch.optim as optim\n",
    "from torch.utils.data import Dataset, DataLoader, random_split\n",
    "from torchvision import transforms, models\n",
    "from sklearn.model_selection import train_test_split\n",
    "from sklearn.metrics import accuracy_score, roc_auc_score, roc_curve, auc, f1_score\n",
    "from torch.amp import GradScaler, autocast\n",
    "\n",
    "# BYOL library\n",
    "from lightly.transforms.byol_transform import BYOLTransform, BYOLView1Transform, BYOLView2Transform\n",
    "from lightly.models.modules import BYOLProjectionHead, BYOLPredictionHead\n",
    "from lightly.models.utils import deactivate_requires_grad, update_momentum\n",
    "from lightly.loss import NegativeCosineSimilarity\n",
    "from lightly.utils.scheduler import cosine_schedule\n",
    "\n",
    "# Hugging Face transformers to load the MambaVision model\n",
    "from transformers import AutoModel\n",
    "\n",
    "# Import timm and LARS from timm\n",
    "import timm\n",
    "from timm.optim.lars import Lars"
   ]
  },
  {
   "cell_type": "markdown",
   "metadata": {},
   "source": [
    "**Define Parameters**"
   ]
  },
  {
   "cell_type": "code",
   "execution_count": 3,
   "metadata": {},
   "outputs": [
    {
     "name": "stdout",
     "output_type": "stream",
     "text": [
      "Using device: cuda\n"
     ]
    }
   ],
   "source": [
    "# Paths\n",
    "ZIP_PATH = '/cluster/home/bjorneme/projects/Data/chestX-ray14.zip'\n",
    "EXTRACTED_PATH = '/cluster/home/bjorneme/projects/Data/chestX-ray14-extracted'\n",
    "\n",
    "# Model\n",
    "MODEL_NAME='maxxvitv2_rmlp_base_rw_224.sw_in12k_ft_in1k'\n",
    "\n",
    "# Disease labels\n",
    "disease_labels = [\n",
    "    'Atelectasis', 'Consolidation', 'Infiltration', 'Pneumothorax', 'Edema',\n",
    "    'Emphysema', 'Fibrosis', 'Effusion', 'Pneumonia', 'Pleural_Thickening',\n",
    "    'Cardiomegaly', 'Nodule', 'Mass', 'Hernia'\n",
    "]\n",
    "\n",
    "# Parameters BYOL pre-training\n",
    "LEARNING_RATE_BYOL = 0.2\n",
    "WEIGHT_DECAY_BYOL = 1.5e-6\n",
    "EPOCHS_BYOL = 500\n",
    "BATCH_SIZE_BYOL = 256\n",
    "ACCUM_STEPS = 4\n",
    "\n",
    "# Parameter learning rate scheduler BYOL\n",
    "T_MAX = 250\n",
    "ETA_MIN = 0.000001\n",
    "\n",
    "# Parameters training\n",
    "LEARNING_RATE = 0.001\n",
    "LEARNING_RATE_FINE_TUNING = 0.0001\n",
    "EPOCHS = 3\n",
    "EPOCHS_FINE_TUNING = 100\n",
    "BATCH_SIZE = 32\n",
    "\n",
    "# Parameters early stopping\n",
    "EARLY_STOPPING_PATIENCE_BYOL = 25\n",
    "EARLY_STOPPING_PATIENCE = 10\n",
    "\n",
    "# Parameters learning rate scheduler\n",
    "LEARNING_RATE_SCHEDULER_PATIENCE = 1\n",
    "LEARNING_RATE_SCHEDULER_MODE = 'min'\n",
    "LEARNING_RATE_SCHEDULER_FACTOR = 0.1\n",
    "\n",
    "# Other parameters\n",
    "SEED = 42\n",
    "NUM_WORKERS = 32\n",
    "\n",
    "# Device Configuration\n",
    "device = torch.device(\"cuda\" if torch.cuda.is_available() else \"cpu\")\n",
    "print(f\"Using device: {device}\")"
   ]
  },
  {
   "cell_type": "markdown",
   "metadata": {},
   "source": [
    "**Set Seed for Reproducibility**"
   ]
  },
  {
   "cell_type": "code",
   "execution_count": 4,
   "metadata": {},
   "outputs": [],
   "source": [
    "def seed_everything(seed=SEED):\n",
    "    \"\"\"\n",
    "    Sets the seed to ensure reproducibility.\n",
    "    \"\"\"\n",
    "    random.seed(seed)\n",
    "    os.environ[\"PYTHONHASHSEED\"] = str(seed)\n",
    "    np.random.seed(seed)\n",
    "    torch.manual_seed(seed)\n",
    "    torch.cuda.manual_seed_all(seed)\n",
    "    torch.backends.cudnn.deterministic = True\n",
    "    torch.backends.cudnn.benchmark = False\n",
    "\n",
    "# Apply the seed\n",
    "seed_everything()"
   ]
  },
  {
   "cell_type": "markdown",
   "metadata": {},
   "source": [
    "# **Step 1: Load Data**"
   ]
  },
  {
   "cell_type": "code",
   "execution_count": null,
   "metadata": {},
   "outputs": [],
   "source": [
    "def extract_data(zip_path, extracted_path):\n",
    "    \"\"\"\n",
    "    Extracts the ZIP file of the dataset.\n",
    "    \"\"\"\n",
    "    os.makedirs(extracted_path, exist_ok=True)\n",
    "    with zipfile.ZipFile(zip_path, 'r') as zip_ref:\n",
    "        zip_ref.extractall(extracted_path)\n",
    "\n",
    "# Extract ChestX-ray14 dataset\n",
    "# TODO: Uncomment to extract data from zip\n",
    "# extract_data(ZIP_PATH, EXTRACTED_PATH)"
   ]
  },
  {
   "cell_type": "markdown",
   "metadata": {},
   "source": [
    "# **Step 2: Data Preprocessing**"
   ]
  },
  {
   "cell_type": "code",
   "execution_count": 6,
   "metadata": {},
   "outputs": [],
   "source": [
    "def load_labels(csv_path, extracted_path):\n",
    "    \"\"\"\n",
    "    Read labels from CSV, maps images to paths, and create binary disease labels.\n",
    "    \"\"\"\n",
    "\n",
    "    # Read the CSV containing labels\n",
    "    labels_df = pd.read_csv(csv_path)\n",
    "\n",
    "    # Create binary columns for each disease label\n",
    "    for disease in disease_labels:\n",
    "        labels_df[disease] = labels_df['Finding Labels'].str.contains(disease).astype(int)\n",
    "\n",
    "    # Create binary column for 'No Finding'\n",
    "    labels_df['No Finding'] = labels_df['Finding Labels'].str.contains('No Finding').astype(int)\n",
    "\n",
    "    # Map images to their full path\n",
    "    labels_df['Path'] = labels_df['Image Index'].map(\n",
    "        {os.path.basename(path): path for path in glob(os.path.join(extracted_path, '**', 'images', '*.png'))}\n",
    "    )\n",
    "    \n",
    "    return labels_df\n",
    "\n",
    "# Path to the labels CSV file\n",
    "labels_csv_path = os.path.join(EXTRACTED_PATH, 'Data_Entry_2017.csv')\n",
    "\n",
    "# Load and preprocess the labels\n",
    "df = load_labels(labels_csv_path, EXTRACTED_PATH)"
   ]
  },
  {
   "cell_type": "markdown",
   "metadata": {},
   "source": [
    "**Split Dataset**"
   ]
  },
  {
   "cell_type": "code",
   "execution_count": 7,
   "metadata": {},
   "outputs": [
    {
     "name": "stdout",
     "output_type": "stream",
     "text": [
      "Train dataset size: 78614. Number of unique patients: 21563\n",
      "Validation size: 11212. Number of unique patients: 3081\n",
      "Test size: 22294. Number of unique patients: 6161\n"
     ]
    }
   ],
   "source": [
    "# Split based on patients\n",
    "unique_patients = df['Patient ID'].unique()\n",
    "\n",
    "# Split patients into training, validation and test sets\n",
    "train_val_patients, test_patients = train_test_split(\n",
    "    unique_patients, test_size=0.2, random_state=SEED\n",
    ")\n",
    "train_patients, val_patients = train_test_split(\n",
    "    train_val_patients, test_size=0.125, random_state=SEED\n",
    ")\n",
    "\n",
    "# Create dataframes for training, validation, and test sets\n",
    "train_df = df[df['Patient ID'].isin(train_patients)].reset_index(drop=True)\n",
    "val_df = df[df['Patient ID'].isin(val_patients)].reset_index(drop=True)\n",
    "test_df = df[df['Patient ID'].isin(test_patients)].reset_index(drop=True)\n",
    "\n",
    "# Verify Split Sizes\n",
    "print(f\"Train dataset size: {len(train_df)}. Number of unique patients: {len(train_patients)}\")\n",
    "print(f\"Validation size: {len(val_df)}. Number of unique patients: {len(val_patients)}\")\n",
    "print(f\"Test size: {len(test_df)}. Number of unique patients: {len(test_patients)}\")"
   ]
  },
  {
   "cell_type": "markdown",
   "metadata": {},
   "source": [
    "**Define Dataset for Chest X-ray images**"
   ]
  },
  {
   "cell_type": "code",
   "execution_count": 8,
   "metadata": {},
   "outputs": [],
   "source": [
    "class ChestXrayDataset(Dataset):\n",
    "    \"\"\"\n",
    "    Create dataset for Chest X-ray images.\n",
    "    \"\"\"\n",
    "    def __init__(self, df, transform=None):\n",
    "        self.df = df\n",
    "        self.transform = transform\n",
    "\n",
    "    def __len__(self):\n",
    "        return len(self.df)\n",
    "\n",
    "    def __getitem__(self, idx):\n",
    "        \n",
    "        # Get image and labels\n",
    "        img_path = self.df.iloc[idx]['Path']\n",
    "        image = plt.imread(img_path)\n",
    "        label = self.df.iloc[idx][disease_labels].values.astype(np.float32)\n",
    "        \n",
    "        # Apply transformation on image\n",
    "        image = self.transform(image)\n",
    "        \n",
    "        return image, label"
   ]
  },
  {
   "cell_type": "markdown",
   "metadata": {},
   "source": [
    "**Define Data Transformations**"
   ]
  },
  {
   "cell_type": "code",
   "execution_count": 9,
   "metadata": {},
   "outputs": [],
   "source": [
    "mean=[0.485, 0.456, 0.406]\n",
    "std=[0.229, 0.224, 0.225]\n",
    "\n",
    "# Define transformations for training data\n",
    "train_transforms = transforms.Compose([\n",
    "\n",
    "    # Convert image to PIL format\n",
    "    transforms.ToPILImage(),\n",
    "\n",
    "    # Convert to 3 channels\n",
    "    transforms.Grayscale(num_output_channels=3),\n",
    "\n",
    "    # Resize the image to 256x256\n",
    "    transforms.Resize((256,256)),\n",
    "\n",
    "    # Randomly 224x224 crops\n",
    "    transforms.RandomCrop(224),\n",
    "\n",
    "    # Apply random horizontal flip\n",
    "    transforms.RandomHorizontalFlip(),\n",
    "\n",
    "    # Randomly rotate the image with ±10 degrees\n",
    "    transforms.RandomRotation(10),\n",
    "\n",
    "    # Convert the image to a PyTorch tensor\n",
    "    transforms.ToTensor(),\n",
    "\n",
    "    # Normalize using ImageNet mean and std\n",
    "    transforms.Normalize(mean=mean, std=std)\n",
    "])\n",
    "\n",
    "# Define transformations for test data\n",
    "test_transforms = transforms.Compose([\n",
    "\n",
    "    # Convert image to PIL format\n",
    "    transforms.ToPILImage(),\n",
    "\n",
    "    # Convert to 3 channels\n",
    "    transforms.Grayscale(num_output_channels=3),\n",
    "\n",
    "    # Resize the image to 256x256\n",
    "    transforms.Resize((256,256)),\n",
    "\n",
    "    # Create 10 crops\n",
    "    transforms.TenCrop(224),\n",
    "    transforms.Lambda(lambda crops: torch.stack([\n",
    "        transforms.ToTensor()(crop) for crop in crops\n",
    "    ])),\n",
    "\n",
    "    # Normalize using ImageNet mean and std\n",
    "    transforms.Lambda(lambda crops: torch.stack(\n",
    "        [transforms.Normalize(mean, std)(crop) for crop in crops]\n",
    "    ))\n",
    "])"
   ]
  },
  {
   "cell_type": "markdown",
   "metadata": {},
   "source": [
    "**Create Datasets**"
   ]
  },
  {
   "cell_type": "code",
   "execution_count": 10,
   "metadata": {},
   "outputs": [],
   "source": [
    "train_dataset = ChestXrayDataset(train_df, transform=train_transforms)\n",
    "val_dataset = ChestXrayDataset(val_df, transform=test_transforms)\n",
    "test_dataset = ChestXrayDataset(test_df, transform=test_transforms)"
   ]
  },
  {
   "cell_type": "markdown",
   "metadata": {},
   "source": [
    "**Create DataLoaders**"
   ]
  },
  {
   "cell_type": "code",
   "execution_count": 11,
   "metadata": {},
   "outputs": [],
   "source": [
    "train_loader = DataLoader(train_dataset, batch_size=BATCH_SIZE, shuffle=True, num_workers=NUM_WORKERS)\n",
    "val_loader = DataLoader(val_dataset, batch_size=BATCH_SIZE, shuffle=False, num_workers=NUM_WORKERS)\n",
    "test_loader = DataLoader(test_dataset, batch_size=BATCH_SIZE, shuffle=False, num_workers=NUM_WORKERS)"
   ]
  },
  {
   "cell_type": "markdown",
   "metadata": {},
   "source": [
    "# **Step 3: BYOL Pre-training**"
   ]
  },
  {
   "cell_type": "markdown",
   "metadata": {},
   "source": [
    "**Define the BYOL transformations**"
   ]
  },
  {
   "cell_type": "code",
   "execution_count": 12,
   "metadata": {},
   "outputs": [],
   "source": [
    "byol_transform = transforms.Compose([\n",
    "        \n",
    "    # Convert image to PIL format\n",
    "    transforms.ToPILImage(),\n",
    "\n",
    "    # Convert to 3 channels\n",
    "    transforms.Grayscale(num_output_channels=3),\n",
    "\n",
    "    # Resize the image to 256x256\n",
    "    transforms.Resize((256,256)),\n",
    "\n",
    "    # Randomly 224x224 crops\n",
    "    transforms.RandomCrop(224),\n",
    "\n",
    "    # Apply random horizontal flip\n",
    "    transforms.RandomHorizontalFlip(),\n",
    "\n",
    "    # Randomly rotate the image with ±10 degrees\n",
    "    transforms.RandomRotation(10),\n",
    "\n",
    "    # Apply random brightness\n",
    "    transforms.ColorJitter(\n",
    "        brightness=(0.8, 1.2),\n",
    "    ),\n",
    "\n",
    "    # Apply random contrast\n",
    "    transforms.ColorJitter(\n",
    "        contrast=(0.8, 1.2),\n",
    "    ),\n",
    "\n",
    "    # Convert the image to a PyTorch tensor\n",
    "    transforms.ToTensor(),\n",
    "\n",
    "    # Normalize using ImageNet mean and std\n",
    "    transforms.Normalize(mean=mean, std=std),\n",
    "\n",
    "    # Apply random erasing of image\n",
    "    transforms.RandomErasing(p=0.5, scale=(0.02, 0.1)),\n",
    "\n",
    "    # Apply random erasing of image\n",
    "    transforms.RandomErasing(p=0.5, scale=(0.02, 0.1)),\n",
    "\n",
    "    # Apply random erasing of image\n",
    "    transforms.RandomErasing(p=0.5, scale=(0.02, 0.1))\n",
    "])"
   ]
  },
  {
   "cell_type": "markdown",
   "metadata": {},
   "source": [
    "**Define the BYOL model**"
   ]
  },
  {
   "cell_type": "code",
   "execution_count": 13,
   "metadata": {},
   "outputs": [],
   "source": [
    "class BYOL(nn.Module):\n",
    "    def __init__(self, device, model_name):\n",
    "        super().__init__()\n",
    "\n",
    "        # The online network\n",
    "        self.online_network = timm.create_model(MODEL_NAME, pretrained=True).to(device)\n",
    "        self.online_network_projection_head = BYOLProjectionHead(self.online_network.head.fc.in_features, 1024, 256)\n",
    "        self.online_network.head.fc = nn.Identity()\n",
    "        self.online_network_prediction_head = BYOLPredictionHead(256, 1024, 256)\n",
    "\n",
    "        # The target network\n",
    "        self.target_network = copy.deepcopy(self.online_network)\n",
    "        self.target_network_projection_head = copy.deepcopy(self.online_network_projection_head)\n",
    "\n",
    "        # Freeze the target network. Only update using EMA\n",
    "        deactivate_requires_grad(self.target_network)\n",
    "        deactivate_requires_grad(self.target_network_projection_head)\n",
    "\n",
    "    def forward_online_network(self, x):\n",
    "        # Forward pass online network\n",
    "        y = self.online_network(x)\n",
    "        z = self.online_network_projection_head(y)\n",
    "        return self.online_network_prediction_head(z)\n",
    "\n",
    "    def forward_target_network(self, x):\n",
    "        # Forward pass target network\n",
    "        with torch.no_grad(): \n",
    "            y = self.target_network(x)\n",
    "            z = self.target_network_projection_head(y)\n",
    "        return z\n",
    "\n",
    "# Initalize BYOL model\n",
    "byol_model = BYOL(device, MODEL_NAME).to(device)"
   ]
  },
  {
   "cell_type": "markdown",
   "metadata": {},
   "source": [
    "**Create BYOL Dataset**"
   ]
  },
  {
   "cell_type": "code",
   "execution_count": 14,
   "metadata": {},
   "outputs": [],
   "source": [
    "class BYOLDataset(torch.utils.data.Dataset):\n",
    "    \"\"\"\n",
    "    Dataset for BYOL.\n",
    "    Returns two augmented versions of each image.\n",
    "    \"\"\"\n",
    "    def __init__(self, df, transform):\n",
    "        self.df = df\n",
    "        self.transform = transform\n",
    "\n",
    "    def __len__(self):\n",
    "        return len(self.df)\n",
    "\n",
    "    def __getitem__(self, idx):\n",
    "        # Get image path\n",
    "        img_path = self.df.iloc[idx]['Path']\n",
    "        image = plt.imread(img_path)\n",
    "\n",
    "        # Apply the BYOL transform on image\n",
    "        view1 = self.transform(image)\n",
    "        view2 = self.transform(image)\n",
    "\n",
    "        # Return two different views\n",
    "        return view1, view2\n",
    "\n",
    "# Create dataset for training and validation using BYOL\n",
    "byol_train_dataset = BYOLDataset(train_df, transform=byol_transform)\n",
    "byol_val_dataset = BYOLDataset(val_df, transform=byol_transform)"
   ]
  },
  {
   "cell_type": "markdown",
   "metadata": {},
   "source": [
    "**Initialize BYOL DataLoader**"
   ]
  },
  {
   "cell_type": "code",
   "execution_count": 15,
   "metadata": {},
   "outputs": [],
   "source": [
    "# Initialize loader for BYOL training\n",
    "byol_train_loader = DataLoader(\n",
    "    byol_train_dataset,\n",
    "    batch_size=int(BATCH_SIZE_BYOL/ACCUM_STEPS),\n",
    "    shuffle=True,\n",
    "    num_workers=NUM_WORKERS,\n",
    "    drop_last=True\n",
    ")\n",
    "\n",
    "# Initialize loader for BYOL validation\n",
    "byol_val_loader = DataLoader(\n",
    "    byol_val_dataset,\n",
    "    batch_size=int(BATCH_SIZE_BYOL/ACCUM_STEPS),\n",
    "    shuffle=False,\n",
    "    num_workers=NUM_WORKERS,\n",
    "    drop_last=False\n",
    ")"
   ]
  },
  {
   "cell_type": "markdown",
   "metadata": {},
   "source": [
    "**Initialize Optimizer, Scheduler and Loss for BYOL**"
   ]
  },
  {
   "cell_type": "code",
   "execution_count": 16,
   "metadata": {},
   "outputs": [],
   "source": [
    "criterion = NegativeCosineSimilarity()\n",
    "optimizer_byol = Lars(\n",
    "    byol_model.parameters(),\n",
    "    lr=LEARNING_RATE_BYOL,\n",
    "    weight_decay  = WEIGHT_DECAY_BYOL\n",
    ")\n",
    "\n",
    "scheduler_byol = torch.optim.lr_scheduler.CosineAnnealingLR(optimizer_byol, T_MAX, eta_min=ETA_MIN, last_epoch=-1)"
   ]
  },
  {
   "cell_type": "markdown",
   "metadata": {},
   "source": [
    "**Train BYOL Model**"
   ]
  },
  {
   "cell_type": "code",
   "execution_count": null,
   "metadata": {},
   "outputs": [
    {
     "name": "stderr",
     "output_type": "stream",
     "text": [
      "BYOL Epoch 1/500:   0%|          | 0/1228 [00:00<?, ?it/s]"
     ]
    },
    {
     "name": "stderr",
     "output_type": "stream",
     "text": [
      "BYOL Epoch 1/500: 100%|██████████| 1228/1228 [05:36<00:00,  3.65it/s, Loss=-0.93]  \n",
      "BYOL Epoch 1/500: 100%|██████████| 176/176 [01:05<00:00,  2.68it/s, Loss=-0.926]\n"
     ]
    },
    {
     "name": "stdout",
     "output_type": "stream",
     "text": [
      "Epoch 1/500 | Training Loss: -0.6268 | Validation Loss: -0.9169\n",
      "New best model with Validation Loss: -0.9169\n"
     ]
    },
    {
     "name": "stderr",
     "output_type": "stream",
     "text": [
      "BYOL Epoch 2/500: 100%|██████████| 1228/1228 [05:37<00:00,  3.64it/s, Loss=-0.966]\n",
      "BYOL Epoch 2/500: 100%|██████████| 176/176 [01:05<00:00,  2.67it/s, Loss=-0.955]\n"
     ]
    },
    {
     "name": "stdout",
     "output_type": "stream",
     "text": [
      "Epoch 2/500 | Training Loss: -0.9506 | Validation Loss: -0.9309\n",
      "New best model with Validation Loss: -0.9309\n"
     ]
    },
    {
     "name": "stderr",
     "output_type": "stream",
     "text": [
      "BYOL Epoch 3/500: 100%|██████████| 1228/1228 [05:37<00:00,  3.63it/s, Loss=-0.969]\n",
      "BYOL Epoch 3/500: 100%|██████████| 176/176 [01:05<00:00,  2.67it/s, Loss=-0.975]\n"
     ]
    },
    {
     "name": "stdout",
     "output_type": "stream",
     "text": [
      "Epoch 3/500 | Training Loss: -0.9744 | Validation Loss: -0.9705\n",
      "New best model with Validation Loss: -0.9705\n"
     ]
    },
    {
     "name": "stderr",
     "output_type": "stream",
     "text": [
      "BYOL Epoch 4/500: 100%|██████████| 1228/1228 [05:38<00:00,  3.62it/s, Loss=-0.983]\n",
      "BYOL Epoch 4/500: 100%|██████████| 176/176 [01:05<00:00,  2.67it/s, Loss=-0.875]\n"
     ]
    },
    {
     "name": "stdout",
     "output_type": "stream",
     "text": [
      "Epoch 4/500 | Training Loss: -0.9797 | Validation Loss: -0.9298\n"
     ]
    },
    {
     "name": "stderr",
     "output_type": "stream",
     "text": [
      "BYOL Epoch 5/500: 100%|██████████| 1228/1228 [05:39<00:00,  3.62it/s, Loss=-0.989]\n",
      "BYOL Epoch 5/500: 100%|██████████| 176/176 [01:06<00:00,  2.65it/s, Loss=-0.917]\n"
     ]
    },
    {
     "name": "stdout",
     "output_type": "stream",
     "text": [
      "Epoch 5/500 | Training Loss: -0.9811 | Validation Loss: -0.9652\n"
     ]
    },
    {
     "name": "stderr",
     "output_type": "stream",
     "text": [
      "BYOL Epoch 6/500: 100%|██████████| 1228/1228 [05:42<00:00,  3.58it/s, Loss=-0.984]\n",
      "BYOL Epoch 6/500: 100%|██████████| 176/176 [01:05<00:00,  2.69it/s, Loss=-0.912]\n"
     ]
    },
    {
     "name": "stdout",
     "output_type": "stream",
     "text": [
      "Epoch 6/500 | Training Loss: -0.9836 | Validation Loss: -0.9623\n"
     ]
    },
    {
     "name": "stderr",
     "output_type": "stream",
     "text": [
      "BYOL Epoch 7/500: 100%|██████████| 1228/1228 [05:38<00:00,  3.63it/s, Loss=-0.985]\n",
      "BYOL Epoch 7/500: 100%|██████████| 176/176 [01:06<00:00,  2.66it/s, Loss=-0.971]\n"
     ]
    },
    {
     "name": "stdout",
     "output_type": "stream",
     "text": [
      "Epoch 7/500 | Training Loss: -0.9859 | Validation Loss: -0.9825\n",
      "New best model with Validation Loss: -0.9825\n"
     ]
    },
    {
     "name": "stderr",
     "output_type": "stream",
     "text": [
      "BYOL Epoch 8/500: 100%|██████████| 1228/1228 [05:40<00:00,  3.61it/s, Loss=-0.991]\n",
      "BYOL Epoch 8/500: 100%|██████████| 176/176 [01:05<00:00,  2.69it/s, Loss=-0.975]\n"
     ]
    },
    {
     "name": "stdout",
     "output_type": "stream",
     "text": [
      "Epoch 8/500 | Training Loss: -0.9872 | Validation Loss: -0.9871\n",
      "New best model with Validation Loss: -0.9871\n"
     ]
    },
    {
     "name": "stderr",
     "output_type": "stream",
     "text": [
      "BYOL Epoch 9/500: 100%|██████████| 1228/1228 [05:37<00:00,  3.64it/s, Loss=-0.983]\n",
      "BYOL Epoch 9/500: 100%|██████████| 176/176 [01:05<00:00,  2.68it/s, Loss=-0.882]\n"
     ]
    },
    {
     "name": "stdout",
     "output_type": "stream",
     "text": [
      "Epoch 9/500 | Training Loss: -0.9879 | Validation Loss: -0.9338\n"
     ]
    },
    {
     "name": "stderr",
     "output_type": "stream",
     "text": [
      "BYOL Epoch 10/500: 100%|██████████| 1228/1228 [05:43<00:00,  3.57it/s, Loss=-0.995]\n",
      "BYOL Epoch 10/500: 100%|██████████| 176/176 [01:06<00:00,  2.66it/s, Loss=-0.983]\n"
     ]
    },
    {
     "name": "stdout",
     "output_type": "stream",
     "text": [
      "Epoch 10/500 | Training Loss: -0.9884 | Validation Loss: -0.9887\n",
      "New best model with Validation Loss: -0.9887\n"
     ]
    },
    {
     "name": "stderr",
     "output_type": "stream",
     "text": [
      "BYOL Epoch 11/500: 100%|██████████| 1228/1228 [05:41<00:00,  3.59it/s, Loss=-0.988]\n",
      "BYOL Epoch 11/500: 100%|██████████| 176/176 [01:06<00:00,  2.66it/s, Loss=-0.964]\n"
     ]
    },
    {
     "name": "stdout",
     "output_type": "stream",
     "text": [
      "Epoch 11/500 | Training Loss: -0.9892 | Validation Loss: -0.9834\n"
     ]
    },
    {
     "name": "stderr",
     "output_type": "stream",
     "text": [
      "BYOL Epoch 12/500: 100%|██████████| 1228/1228 [05:39<00:00,  3.62it/s, Loss=-0.987]\n",
      "BYOL Epoch 12/500: 100%|██████████| 176/176 [01:05<00:00,  2.68it/s, Loss=-0.975]\n"
     ]
    },
    {
     "name": "stdout",
     "output_type": "stream",
     "text": [
      "Epoch 12/500 | Training Loss: -0.9898 | Validation Loss: -0.9852\n"
     ]
    },
    {
     "name": "stderr",
     "output_type": "stream",
     "text": [
      "BYOL Epoch 13/500: 100%|██████████| 1228/1228 [05:40<00:00,  3.61it/s, Loss=-0.99] \n",
      "BYOL Epoch 13/500: 100%|██████████| 176/176 [01:06<00:00,  2.66it/s, Loss=-0.949]\n"
     ]
    },
    {
     "name": "stdout",
     "output_type": "stream",
     "text": [
      "Epoch 13/500 | Training Loss: -0.9902 | Validation Loss: -0.9738\n"
     ]
    },
    {
     "name": "stderr",
     "output_type": "stream",
     "text": [
      "BYOL Epoch 14/500: 100%|██████████| 1228/1228 [05:40<00:00,  3.60it/s, Loss=-0.991]\n",
      "BYOL Epoch 14/500: 100%|██████████| 176/176 [01:06<00:00,  2.64it/s, Loss=-0.87] \n"
     ]
    },
    {
     "name": "stdout",
     "output_type": "stream",
     "text": [
      "Epoch 14/500 | Training Loss: -0.9904 | Validation Loss: -0.9510\n"
     ]
    },
    {
     "name": "stderr",
     "output_type": "stream",
     "text": [
      "BYOL Epoch 15/500: 100%|██████████| 1228/1228 [05:38<00:00,  3.63it/s, Loss=-0.993]\n",
      "BYOL Epoch 15/500: 100%|██████████| 176/176 [01:06<00:00,  2.65it/s, Loss=-0.991]\n"
     ]
    },
    {
     "name": "stdout",
     "output_type": "stream",
     "text": [
      "Epoch 15/500 | Training Loss: -0.9907 | Validation Loss: -0.9926\n",
      "New best model with Validation Loss: -0.9926\n"
     ]
    },
    {
     "name": "stderr",
     "output_type": "stream",
     "text": [
      "BYOL Epoch 16/500: 100%|██████████| 1228/1228 [05:37<00:00,  3.64it/s, Loss=-0.992]\n",
      "BYOL Epoch 16/500: 100%|██████████| 176/176 [01:05<00:00,  2.67it/s, Loss=-0.94] \n"
     ]
    },
    {
     "name": "stdout",
     "output_type": "stream",
     "text": [
      "Epoch 16/500 | Training Loss: -0.9908 | Validation Loss: -0.9792\n"
     ]
    },
    {
     "name": "stderr",
     "output_type": "stream",
     "text": [
      "BYOL Epoch 17/500: 100%|██████████| 1228/1228 [05:38<00:00,  3.63it/s, Loss=-0.992]\n",
      "BYOL Epoch 17/500: 100%|██████████| 176/176 [01:05<00:00,  2.68it/s, Loss=-0.972]\n"
     ]
    },
    {
     "name": "stdout",
     "output_type": "stream",
     "text": [
      "Epoch 17/500 | Training Loss: -0.9910 | Validation Loss: -0.9917\n"
     ]
    },
    {
     "name": "stderr",
     "output_type": "stream",
     "text": [
      "BYOL Epoch 18/500: 100%|██████████| 1228/1228 [05:40<00:00,  3.61it/s, Loss=-0.992]\n",
      "BYOL Epoch 18/500: 100%|██████████| 176/176 [01:06<00:00,  2.66it/s, Loss=-0.937]\n"
     ]
    },
    {
     "name": "stdout",
     "output_type": "stream",
     "text": [
      "Epoch 18/500 | Training Loss: -0.9910 | Validation Loss: -0.9718\n"
     ]
    },
    {
     "name": "stderr",
     "output_type": "stream",
     "text": [
      "BYOL Epoch 19/500: 100%|██████████| 1228/1228 [05:36<00:00,  3.65it/s, Loss=-0.982]\n",
      "BYOL Epoch 19/500: 100%|██████████| 176/176 [01:05<00:00,  2.67it/s, Loss=-0.973]\n"
     ]
    },
    {
     "name": "stdout",
     "output_type": "stream",
     "text": [
      "Epoch 19/500 | Training Loss: -0.9905 | Validation Loss: -0.9835\n"
     ]
    },
    {
     "name": "stderr",
     "output_type": "stream",
     "text": [
      "BYOL Epoch 20/500: 100%|██████████| 1228/1228 [05:38<00:00,  3.63it/s, Loss=-0.988]\n",
      "BYOL Epoch 20/500: 100%|██████████| 176/176 [01:05<00:00,  2.67it/s, Loss=-0.977]\n"
     ]
    },
    {
     "name": "stdout",
     "output_type": "stream",
     "text": [
      "Epoch 20/500 | Training Loss: -0.9900 | Validation Loss: -0.9857\n"
     ]
    },
    {
     "name": "stderr",
     "output_type": "stream",
     "text": [
      "BYOL Epoch 21/500: 100%|██████████| 1228/1228 [05:41<00:00,  3.60it/s, Loss=-0.993]\n",
      "BYOL Epoch 21/500: 100%|██████████| 176/176 [01:06<00:00,  2.64it/s, Loss=-0.965]\n"
     ]
    },
    {
     "name": "stdout",
     "output_type": "stream",
     "text": [
      "Epoch 21/500 | Training Loss: -0.9905 | Validation Loss: -0.9829\n"
     ]
    },
    {
     "name": "stderr",
     "output_type": "stream",
     "text": [
      "BYOL Epoch 22/500: 100%|██████████| 1228/1228 [05:39<00:00,  3.62it/s, Loss=-0.995]\n",
      "BYOL Epoch 22/500: 100%|██████████| 176/176 [01:05<00:00,  2.68it/s, Loss=-0.886]\n"
     ]
    },
    {
     "name": "stdout",
     "output_type": "stream",
     "text": [
      "Epoch 22/500 | Training Loss: -0.9910 | Validation Loss: -0.9514\n"
     ]
    },
    {
     "name": "stderr",
     "output_type": "stream",
     "text": [
      "BYOL Epoch 23/500: 100%|██████████| 1228/1228 [05:41<00:00,  3.60it/s, Loss=-0.994]\n",
      "BYOL Epoch 23/500: 100%|██████████| 176/176 [01:06<00:00,  2.66it/s, Loss=-0.977]\n"
     ]
    },
    {
     "name": "stdout",
     "output_type": "stream",
     "text": [
      "Epoch 23/500 | Training Loss: -0.9916 | Validation Loss: -0.9880\n"
     ]
    },
    {
     "name": "stderr",
     "output_type": "stream",
     "text": [
      "BYOL Epoch 24/500: 100%|██████████| 1228/1228 [05:43<00:00,  3.57it/s, Loss=-0.994]\n",
      "BYOL Epoch 24/500: 100%|██████████| 176/176 [01:06<00:00,  2.66it/s, Loss=-0.981]\n"
     ]
    },
    {
     "name": "stdout",
     "output_type": "stream",
     "text": [
      "Epoch 24/500 | Training Loss: -0.9918 | Validation Loss: -0.9894\n"
     ]
    },
    {
     "name": "stderr",
     "output_type": "stream",
     "text": [
      "BYOL Epoch 25/500: 100%|██████████| 1228/1228 [05:39<00:00,  3.62it/s, Loss=-0.99] \n",
      "BYOL Epoch 25/500: 100%|██████████| 176/176 [01:05<00:00,  2.68it/s, Loss=-0.988]\n"
     ]
    },
    {
     "name": "stdout",
     "output_type": "stream",
     "text": [
      "Epoch 25/500 | Training Loss: -0.9923 | Validation Loss: -0.9888\n"
     ]
    },
    {
     "name": "stderr",
     "output_type": "stream",
     "text": [
      "BYOL Epoch 26/500: 100%|██████████| 1228/1228 [05:42<00:00,  3.58it/s, Loss=-0.995]\n",
      "BYOL Epoch 26/500: 100%|██████████| 176/176 [01:06<00:00,  2.64it/s, Loss=-0.992]\n"
     ]
    },
    {
     "name": "stdout",
     "output_type": "stream",
     "text": [
      "Epoch 26/500 | Training Loss: -0.9924 | Validation Loss: -0.9924\n"
     ]
    },
    {
     "name": "stderr",
     "output_type": "stream",
     "text": [
      "BYOL Epoch 27/500: 100%|██████████| 1228/1228 [05:36<00:00,  3.65it/s, Loss=-0.992]\n",
      "BYOL Epoch 27/500: 100%|██████████| 176/176 [01:06<00:00,  2.65it/s, Loss=-0.994]\n"
     ]
    },
    {
     "name": "stdout",
     "output_type": "stream",
     "text": [
      "Epoch 27/500 | Training Loss: -0.9926 | Validation Loss: -0.9917\n"
     ]
    },
    {
     "name": "stderr",
     "output_type": "stream",
     "text": [
      "BYOL Epoch 28/500: 100%|██████████| 1228/1228 [05:40<00:00,  3.61it/s, Loss=-0.995]\n",
      "BYOL Epoch 28/500: 100%|██████████| 176/176 [01:06<00:00,  2.65it/s, Loss=-0.992]\n"
     ]
    },
    {
     "name": "stdout",
     "output_type": "stream",
     "text": [
      "Epoch 28/500 | Training Loss: -0.9927 | Validation Loss: -0.9941\n",
      "New best model with Validation Loss: -0.9941\n"
     ]
    },
    {
     "name": "stderr",
     "output_type": "stream",
     "text": [
      "BYOL Epoch 29/500: 100%|██████████| 1228/1228 [05:40<00:00,  3.60it/s, Loss=-0.994]\n",
      "BYOL Epoch 29/500: 100%|██████████| 176/176 [01:06<00:00,  2.65it/s, Loss=-0.991]\n"
     ]
    },
    {
     "name": "stdout",
     "output_type": "stream",
     "text": [
      "Epoch 29/500 | Training Loss: -0.9928 | Validation Loss: -0.9925\n"
     ]
    },
    {
     "name": "stderr",
     "output_type": "stream",
     "text": [
      "BYOL Epoch 30/500: 100%|██████████| 1228/1228 [05:41<00:00,  3.60it/s, Loss=-0.994]\n",
      "BYOL Epoch 30/500: 100%|██████████| 176/176 [01:06<00:00,  2.66it/s, Loss=-0.992]\n"
     ]
    },
    {
     "name": "stdout",
     "output_type": "stream",
     "text": [
      "Epoch 30/500 | Training Loss: -0.9929 | Validation Loss: -0.9904\n"
     ]
    },
    {
     "name": "stderr",
     "output_type": "stream",
     "text": [
      "BYOL Epoch 31/500: 100%|██████████| 1228/1228 [05:41<00:00,  3.60it/s, Loss=-0.995]\n",
      "BYOL Epoch 31/500: 100%|██████████| 176/176 [01:06<00:00,  2.66it/s, Loss=-0.995]\n"
     ]
    },
    {
     "name": "stdout",
     "output_type": "stream",
     "text": [
      "Epoch 31/500 | Training Loss: -0.9932 | Validation Loss: -0.9939\n"
     ]
    },
    {
     "name": "stderr",
     "output_type": "stream",
     "text": [
      "BYOL Epoch 32/500: 100%|██████████| 1228/1228 [05:40<00:00,  3.60it/s, Loss=-0.995]\n",
      "BYOL Epoch 32/500: 100%|██████████| 176/176 [01:05<00:00,  2.67it/s, Loss=-0.99] \n"
     ]
    },
    {
     "name": "stdout",
     "output_type": "stream",
     "text": [
      "Epoch 32/500 | Training Loss: -0.9933 | Validation Loss: -0.9913\n"
     ]
    },
    {
     "name": "stderr",
     "output_type": "stream",
     "text": [
      "BYOL Epoch 33/500: 100%|██████████| 1228/1228 [05:41<00:00,  3.60it/s, Loss=-0.994]\n",
      "BYOL Epoch 33/500: 100%|██████████| 176/176 [01:06<00:00,  2.66it/s, Loss=-0.994]\n"
     ]
    },
    {
     "name": "stdout",
     "output_type": "stream",
     "text": [
      "Epoch 33/500 | Training Loss: -0.9932 | Validation Loss: -0.9917\n"
     ]
    },
    {
     "name": "stderr",
     "output_type": "stream",
     "text": [
      "BYOL Epoch 34/500: 100%|██████████| 1228/1228 [05:40<00:00,  3.61it/s, Loss=-0.994]\n",
      "BYOL Epoch 34/500: 100%|██████████| 176/176 [01:05<00:00,  2.68it/s, Loss=-0.979]\n"
     ]
    },
    {
     "name": "stdout",
     "output_type": "stream",
     "text": [
      "Epoch 34/500 | Training Loss: -0.9934 | Validation Loss: -0.9740\n"
     ]
    },
    {
     "name": "stderr",
     "output_type": "stream",
     "text": [
      "BYOL Epoch 35/500: 100%|██████████| 1228/1228 [05:40<00:00,  3.61it/s, Loss=-0.989]\n",
      "BYOL Epoch 35/500: 100%|██████████| 176/176 [01:06<00:00,  2.66it/s, Loss=-0.993]\n"
     ]
    },
    {
     "name": "stdout",
     "output_type": "stream",
     "text": [
      "Epoch 35/500 | Training Loss: -0.9932 | Validation Loss: -0.9936\n"
     ]
    },
    {
     "name": "stderr",
     "output_type": "stream",
     "text": [
      "BYOL Epoch 36/500: 100%|██████████| 1228/1228 [05:38<00:00,  3.63it/s, Loss=-0.99] \n",
      "BYOL Epoch 36/500: 100%|██████████| 176/176 [01:05<00:00,  2.67it/s, Loss=-0.994]\n"
     ]
    },
    {
     "name": "stdout",
     "output_type": "stream",
     "text": [
      "Epoch 36/500 | Training Loss: -0.9934 | Validation Loss: -0.9922\n"
     ]
    },
    {
     "name": "stderr",
     "output_type": "stream",
     "text": [
      "BYOL Epoch 37/500: 100%|██████████| 1228/1228 [05:39<00:00,  3.61it/s, Loss=-0.989]\n",
      "BYOL Epoch 37/500: 100%|██████████| 176/176 [01:05<00:00,  2.68it/s, Loss=-0.98] \n"
     ]
    },
    {
     "name": "stdout",
     "output_type": "stream",
     "text": [
      "Epoch 37/500 | Training Loss: -0.9935 | Validation Loss: -0.9897\n"
     ]
    },
    {
     "name": "stderr",
     "output_type": "stream",
     "text": [
      "BYOL Epoch 38/500: 100%|██████████| 1228/1228 [05:44<00:00,  3.56it/s, Loss=-0.996]\n",
      "BYOL Epoch 38/500: 100%|██████████| 176/176 [01:06<00:00,  2.63it/s, Loss=-0.993]\n"
     ]
    },
    {
     "name": "stdout",
     "output_type": "stream",
     "text": [
      "Epoch 38/500 | Training Loss: -0.9935 | Validation Loss: -0.9913\n"
     ]
    },
    {
     "name": "stderr",
     "output_type": "stream",
     "text": [
      "BYOL Epoch 39/500: 100%|██████████| 1228/1228 [05:42<00:00,  3.59it/s, Loss=-0.993]\n",
      "BYOL Epoch 39/500: 100%|██████████| 176/176 [01:06<00:00,  2.64it/s, Loss=-0.988]\n"
     ]
    },
    {
     "name": "stdout",
     "output_type": "stream",
     "text": [
      "Epoch 39/500 | Training Loss: -0.9934 | Validation Loss: -0.9917\n"
     ]
    },
    {
     "name": "stderr",
     "output_type": "stream",
     "text": [
      "BYOL Epoch 40/500: 100%|██████████| 1228/1228 [05:41<00:00,  3.60it/s, Loss=-0.993]\n",
      "BYOL Epoch 40/500: 100%|██████████| 176/176 [01:05<00:00,  2.67it/s, Loss=-0.991]\n"
     ]
    },
    {
     "name": "stdout",
     "output_type": "stream",
     "text": [
      "Epoch 40/500 | Training Loss: -0.9934 | Validation Loss: -0.9927\n"
     ]
    },
    {
     "name": "stderr",
     "output_type": "stream",
     "text": [
      "BYOL Epoch 41/500: 100%|██████████| 1228/1228 [05:40<00:00,  3.60it/s, Loss=-0.994]\n",
      "BYOL Epoch 41/500: 100%|██████████| 176/176 [01:06<00:00,  2.67it/s, Loss=-0.967]\n"
     ]
    },
    {
     "name": "stdout",
     "output_type": "stream",
     "text": [
      "Epoch 41/500 | Training Loss: -0.9932 | Validation Loss: -0.9728\n"
     ]
    },
    {
     "name": "stderr",
     "output_type": "stream",
     "text": [
      "BYOL Epoch 42/500: 100%|██████████| 1228/1228 [05:45<00:00,  3.56it/s, Loss=-0.994]\n",
      "BYOL Epoch 42/500: 100%|██████████| 176/176 [01:06<00:00,  2.65it/s, Loss=-0.993]\n"
     ]
    },
    {
     "name": "stdout",
     "output_type": "stream",
     "text": [
      "Epoch 42/500 | Training Loss: -0.9927 | Validation Loss: -0.9915\n"
     ]
    },
    {
     "name": "stderr",
     "output_type": "stream",
     "text": [
      "BYOL Epoch 43/500: 100%|██████████| 1228/1228 [05:37<00:00,  3.64it/s, Loss=-0.992]\n",
      "BYOL Epoch 43/500: 100%|██████████| 176/176 [01:06<00:00,  2.64it/s, Loss=-0.981]\n"
     ]
    },
    {
     "name": "stdout",
     "output_type": "stream",
     "text": [
      "Epoch 43/500 | Training Loss: -0.9916 | Validation Loss: -0.9794\n"
     ]
    },
    {
     "name": "stderr",
     "output_type": "stream",
     "text": [
      "BYOL Epoch 44/500: 100%|██████████| 1228/1228 [05:40<00:00,  3.61it/s, Loss=-0.987]\n",
      "BYOL Epoch 44/500: 100%|██████████| 176/176 [01:06<00:00,  2.66it/s, Loss=-0.976]\n"
     ]
    },
    {
     "name": "stdout",
     "output_type": "stream",
     "text": [
      "Epoch 44/500 | Training Loss: -0.9904 | Validation Loss: -0.9826\n"
     ]
    },
    {
     "name": "stderr",
     "output_type": "stream",
     "text": [
      "BYOL Epoch 45/500: 100%|██████████| 1228/1228 [05:39<00:00,  3.61it/s, Loss=-0.991]\n",
      "BYOL Epoch 45/500: 100%|██████████| 176/176 [01:05<00:00,  2.67it/s, Loss=-0.977]\n"
     ]
    },
    {
     "name": "stdout",
     "output_type": "stream",
     "text": [
      "Epoch 45/500 | Training Loss: -0.9900 | Validation Loss: -0.9743\n"
     ]
    },
    {
     "name": "stderr",
     "output_type": "stream",
     "text": [
      "BYOL Epoch 46/500: 100%|██████████| 1228/1228 [05:39<00:00,  3.62it/s, Loss=-0.988]\n",
      "BYOL Epoch 46/500: 100%|██████████| 176/176 [01:05<00:00,  2.67it/s, Loss=-0.991]\n"
     ]
    },
    {
     "name": "stdout",
     "output_type": "stream",
     "text": [
      "Epoch 46/500 | Training Loss: -0.9903 | Validation Loss: -0.9891\n"
     ]
    },
    {
     "name": "stderr",
     "output_type": "stream",
     "text": [
      "BYOL Epoch 47/500: 100%|██████████| 1228/1228 [05:38<00:00,  3.63it/s, Loss=-0.993]\n",
      "BYOL Epoch 47/500: 100%|██████████| 176/176 [01:06<00:00,  2.67it/s, Loss=-0.978]\n"
     ]
    },
    {
     "name": "stdout",
     "output_type": "stream",
     "text": [
      "Epoch 47/500 | Training Loss: -0.9904 | Validation Loss: -0.9659\n"
     ]
    },
    {
     "name": "stderr",
     "output_type": "stream",
     "text": [
      "BYOL Epoch 48/500: 100%|██████████| 1228/1228 [05:41<00:00,  3.60it/s, Loss=-0.99] \n",
      "BYOL Epoch 48/500: 100%|██████████| 176/176 [01:06<00:00,  2.66it/s, Loss=-0.981]\n"
     ]
    },
    {
     "name": "stdout",
     "output_type": "stream",
     "text": [
      "Epoch 48/500 | Training Loss: -0.9904 | Validation Loss: -0.9806\n"
     ]
    },
    {
     "name": "stderr",
     "output_type": "stream",
     "text": [
      "BYOL Epoch 49/500: 100%|██████████| 1228/1228 [05:39<00:00,  3.62it/s, Loss=-0.992]\n",
      "BYOL Epoch 49/500: 100%|██████████| 176/176 [01:06<00:00,  2.66it/s, Loss=-0.989]\n"
     ]
    },
    {
     "name": "stdout",
     "output_type": "stream",
     "text": [
      "Epoch 49/500 | Training Loss: -0.9903 | Validation Loss: -0.9893\n"
     ]
    },
    {
     "name": "stderr",
     "output_type": "stream",
     "text": [
      "BYOL Epoch 50/500: 100%|██████████| 1228/1228 [05:39<00:00,  3.62it/s, Loss=-0.994]\n",
      "BYOL Epoch 50/500: 100%|██████████| 176/176 [01:06<00:00,  2.63it/s, Loss=-0.986]\n"
     ]
    },
    {
     "name": "stdout",
     "output_type": "stream",
     "text": [
      "Epoch 50/500 | Training Loss: -0.9900 | Validation Loss: -0.9818\n"
     ]
    },
    {
     "name": "stderr",
     "output_type": "stream",
     "text": [
      "BYOL Epoch 51/500: 100%|██████████| 1228/1228 [05:42<00:00,  3.59it/s, Loss=-0.989]\n",
      "BYOL Epoch 51/500: 100%|██████████| 176/176 [01:06<00:00,  2.66it/s, Loss=-0.99] \n"
     ]
    },
    {
     "name": "stdout",
     "output_type": "stream",
     "text": [
      "Epoch 51/500 | Training Loss: -0.9900 | Validation Loss: -0.9888\n"
     ]
    },
    {
     "name": "stderr",
     "output_type": "stream",
     "text": [
      "BYOL Epoch 52/500: 100%|██████████| 1228/1228 [05:41<00:00,  3.60it/s, Loss=-0.99] \n",
      "BYOL Epoch 52/500: 100%|██████████| 176/176 [01:06<00:00,  2.64it/s, Loss=-0.987]\n"
     ]
    },
    {
     "name": "stdout",
     "output_type": "stream",
     "text": [
      "Epoch 52/500 | Training Loss: -0.9900 | Validation Loss: -0.9900\n"
     ]
    },
    {
     "name": "stderr",
     "output_type": "stream",
     "text": [
      "BYOL Epoch 53/500: 100%|██████████| 1228/1228 [05:42<00:00,  3.58it/s, Loss=-0.993]\n",
      "BYOL Epoch 53/500: 100%|██████████| 176/176 [01:05<00:00,  2.67it/s, Loss=-0.984]\n"
     ]
    },
    {
     "name": "stdout",
     "output_type": "stream",
     "text": [
      "Epoch 53/500 | Training Loss: -0.9901 | Validation Loss: -0.9813\n"
     ]
    },
    {
     "name": "stderr",
     "output_type": "stream",
     "text": [
      "BYOL Epoch 54/500: 100%|██████████| 1228/1228 [05:41<00:00,  3.60it/s, Loss=-0.984]\n",
      "BYOL Epoch 54/500: 100%|██████████| 176/176 [01:05<00:00,  2.67it/s, Loss=-0.99] \n"
     ]
    },
    {
     "name": "stdout",
     "output_type": "stream",
     "text": [
      "Epoch 54/500 | Training Loss: -0.9905 | Validation Loss: -0.9902\n"
     ]
    },
    {
     "name": "stderr",
     "output_type": "stream",
     "text": [
      "BYOL Epoch 55/500: 100%|██████████| 1228/1228 [05:40<00:00,  3.61it/s, Loss=-0.99] \n",
      "BYOL Epoch 55/500: 100%|██████████| 176/176 [01:06<00:00,  2.63it/s, Loss=-0.982]\n"
     ]
    },
    {
     "name": "stdout",
     "output_type": "stream",
     "text": [
      "Epoch 55/500 | Training Loss: -0.9907 | Validation Loss: -0.9872\n"
     ]
    },
    {
     "name": "stderr",
     "output_type": "stream",
     "text": [
      "BYOL Epoch 56/500: 100%|██████████| 1228/1228 [05:39<00:00,  3.62it/s, Loss=-0.989]\n",
      "BYOL Epoch 56/500: 100%|██████████| 176/176 [01:06<00:00,  2.66it/s, Loss=-0.979]\n"
     ]
    },
    {
     "name": "stdout",
     "output_type": "stream",
     "text": [
      "Epoch 56/500 | Training Loss: -0.9912 | Validation Loss: -0.9846\n"
     ]
    },
    {
     "name": "stderr",
     "output_type": "stream",
     "text": [
      "BYOL Epoch 57/500: 100%|██████████| 1228/1228 [05:42<00:00,  3.58it/s, Loss=-0.994]\n",
      "BYOL Epoch 57/500: 100%|██████████| 176/176 [01:06<00:00,  2.67it/s, Loss=-0.986]\n"
     ]
    },
    {
     "name": "stdout",
     "output_type": "stream",
     "text": [
      "Epoch 57/500 | Training Loss: -0.9913 | Validation Loss: -0.9869\n"
     ]
    },
    {
     "name": "stderr",
     "output_type": "stream",
     "text": [
      "BYOL Epoch 58/500: 100%|██████████| 1228/1228 [05:37<00:00,  3.64it/s, Loss=-0.993]\n",
      "BYOL Epoch 58/500: 100%|██████████| 176/176 [01:05<00:00,  2.67it/s, Loss=-0.975]\n"
     ]
    },
    {
     "name": "stdout",
     "output_type": "stream",
     "text": [
      "Epoch 58/500 | Training Loss: -0.9915 | Validation Loss: -0.9841\n"
     ]
    },
    {
     "name": "stderr",
     "output_type": "stream",
     "text": [
      "BYOL Epoch 59/500: 100%|██████████| 1228/1228 [05:38<00:00,  3.62it/s, Loss=-0.989]\n",
      "BYOL Epoch 59/500: 100%|██████████| 176/176 [01:05<00:00,  2.67it/s, Loss=-0.983]\n"
     ]
    },
    {
     "name": "stdout",
     "output_type": "stream",
     "text": [
      "Epoch 59/500 | Training Loss: -0.9919 | Validation Loss: -0.9912\n"
     ]
    },
    {
     "name": "stderr",
     "output_type": "stream",
     "text": [
      "BYOL Epoch 60/500: 100%|██████████| 1228/1228 [05:38<00:00,  3.63it/s, Loss=-0.987]\n",
      "BYOL Epoch 60/500: 100%|██████████| 176/176 [01:06<00:00,  2.64it/s, Loss=-0.974]\n"
     ]
    },
    {
     "name": "stdout",
     "output_type": "stream",
     "text": [
      "Epoch 60/500 | Training Loss: -0.9918 | Validation Loss: -0.9833\n"
     ]
    },
    {
     "name": "stderr",
     "output_type": "stream",
     "text": [
      "BYOL Epoch 61/500: 100%|██████████| 1228/1228 [05:43<00:00,  3.58it/s, Loss=-0.996]\n",
      "BYOL Epoch 61/500: 100%|██████████| 176/176 [01:06<00:00,  2.64it/s, Loss=-0.951]\n"
     ]
    },
    {
     "name": "stdout",
     "output_type": "stream",
     "text": [
      "Epoch 61/500 | Training Loss: -0.9919 | Validation Loss: -0.9732\n"
     ]
    },
    {
     "name": "stderr",
     "output_type": "stream",
     "text": [
      "BYOL Epoch 62/500: 100%|██████████| 1228/1228 [05:38<00:00,  3.62it/s, Loss=-0.99] \n",
      "BYOL Epoch 62/500: 100%|██████████| 176/176 [01:05<00:00,  2.67it/s, Loss=-0.952]\n"
     ]
    },
    {
     "name": "stdout",
     "output_type": "stream",
     "text": [
      "Epoch 62/500 | Training Loss: -0.9922 | Validation Loss: -0.9746\n"
     ]
    },
    {
     "name": "stderr",
     "output_type": "stream",
     "text": [
      "BYOL Epoch 63/500: 100%|██████████| 1228/1228 [05:39<00:00,  3.62it/s, Loss=-0.993]\n",
      "BYOL Epoch 63/500: 100%|██████████| 176/176 [01:06<00:00,  2.65it/s, Loss=-0.984]\n"
     ]
    },
    {
     "name": "stdout",
     "output_type": "stream",
     "text": [
      "Epoch 63/500 | Training Loss: -0.9922 | Validation Loss: -0.9886\n"
     ]
    },
    {
     "name": "stderr",
     "output_type": "stream",
     "text": [
      "BYOL Epoch 64/500: 100%|██████████| 1228/1228 [05:40<00:00,  3.60it/s, Loss=-0.996]\n",
      "BYOL Epoch 64/500: 100%|██████████| 176/176 [01:06<00:00,  2.66it/s, Loss=-0.991]\n"
     ]
    },
    {
     "name": "stdout",
     "output_type": "stream",
     "text": [
      "Epoch 64/500 | Training Loss: -0.9922 | Validation Loss: -0.9918\n"
     ]
    },
    {
     "name": "stderr",
     "output_type": "stream",
     "text": [
      "BYOL Epoch 65/500: 100%|██████████| 1228/1228 [05:41<00:00,  3.60it/s, Loss=-0.989]\n",
      "BYOL Epoch 65/500: 100%|██████████| 176/176 [01:06<00:00,  2.66it/s, Loss=-0.983]\n"
     ]
    },
    {
     "name": "stdout",
     "output_type": "stream",
     "text": [
      "Epoch 65/500 | Training Loss: -0.9921 | Validation Loss: -0.9872\n"
     ]
    },
    {
     "name": "stderr",
     "output_type": "stream",
     "text": [
      "BYOL Epoch 66/500: 100%|██████████| 1228/1228 [05:37<00:00,  3.63it/s, Loss=-0.993]\n",
      "BYOL Epoch 66/500: 100%|██████████| 176/176 [01:05<00:00,  2.67it/s, Loss=-0.972]\n"
     ]
    },
    {
     "name": "stdout",
     "output_type": "stream",
     "text": [
      "Epoch 66/500 | Training Loss: -0.9920 | Validation Loss: -0.9794\n"
     ]
    },
    {
     "name": "stderr",
     "output_type": "stream",
     "text": [
      "BYOL Epoch 67/500: 100%|██████████| 1228/1228 [05:43<00:00,  3.58it/s, Loss=-0.993]\n",
      "BYOL Epoch 67/500: 100%|██████████| 176/176 [01:06<00:00,  2.65it/s, Loss=-0.973]\n"
     ]
    },
    {
     "name": "stdout",
     "output_type": "stream",
     "text": [
      "Epoch 67/500 | Training Loss: -0.9922 | Validation Loss: -0.9817\n"
     ]
    },
    {
     "name": "stderr",
     "output_type": "stream",
     "text": [
      "BYOL Epoch 68/500: 100%|██████████| 1228/1228 [05:39<00:00,  3.61it/s, Loss=-0.991]\n",
      "BYOL Epoch 68/500: 100%|██████████| 176/176 [01:06<00:00,  2.65it/s, Loss=-0.988]\n"
     ]
    },
    {
     "name": "stdout",
     "output_type": "stream",
     "text": [
      "Epoch 68/500 | Training Loss: -0.9922 | Validation Loss: -0.9889\n"
     ]
    },
    {
     "name": "stderr",
     "output_type": "stream",
     "text": [
      "BYOL Epoch 69/500: 100%|██████████| 1228/1228 [05:39<00:00,  3.62it/s, Loss=-0.99] \n",
      "BYOL Epoch 69/500: 100%|██████████| 176/176 [01:05<00:00,  2.69it/s, Loss=-0.987]\n"
     ]
    },
    {
     "name": "stdout",
     "output_type": "stream",
     "text": [
      "Epoch 69/500 | Training Loss: -0.9919 | Validation Loss: -0.9864\n"
     ]
    },
    {
     "name": "stderr",
     "output_type": "stream",
     "text": [
      "BYOL Epoch 70/500: 100%|██████████| 1228/1228 [05:41<00:00,  3.60it/s, Loss=-0.991]\n",
      "BYOL Epoch 70/500: 100%|██████████| 176/176 [01:06<00:00,  2.65it/s, Loss=-0.99] \n"
     ]
    },
    {
     "name": "stdout",
     "output_type": "stream",
     "text": [
      "Epoch 70/500 | Training Loss: -0.9920 | Validation Loss: -0.9878\n"
     ]
    },
    {
     "name": "stderr",
     "output_type": "stream",
     "text": [
      "BYOL Epoch 71/500: 100%|██████████| 1228/1228 [05:43<00:00,  3.57it/s, Loss=-0.994]\n",
      "BYOL Epoch 71/500: 100%|██████████| 176/176 [01:06<00:00,  2.66it/s, Loss=-0.987]\n"
     ]
    },
    {
     "name": "stdout",
     "output_type": "stream",
     "text": [
      "Epoch 71/500 | Training Loss: -0.9921 | Validation Loss: -0.9867\n"
     ]
    },
    {
     "name": "stderr",
     "output_type": "stream",
     "text": [
      "BYOL Epoch 72/500: 100%|██████████| 1228/1228 [05:40<00:00,  3.61it/s, Loss=-0.993]\n",
      "BYOL Epoch 72/500: 100%|██████████| 176/176 [01:06<00:00,  2.66it/s, Loss=-0.993]\n"
     ]
    },
    {
     "name": "stdout",
     "output_type": "stream",
     "text": [
      "Epoch 72/500 | Training Loss: -0.9921 | Validation Loss: -0.9911\n"
     ]
    },
    {
     "name": "stderr",
     "output_type": "stream",
     "text": [
      "BYOL Epoch 73/500: 100%|██████████| 1228/1228 [05:40<00:00,  3.61it/s, Loss=-0.993]\n",
      "BYOL Epoch 73/500: 100%|██████████| 176/176 [01:06<00:00,  2.66it/s, Loss=-0.99] \n"
     ]
    },
    {
     "name": "stdout",
     "output_type": "stream",
     "text": [
      "Epoch 73/500 | Training Loss: -0.9922 | Validation Loss: -0.9888\n"
     ]
    },
    {
     "name": "stderr",
     "output_type": "stream",
     "text": [
      "BYOL Epoch 74/500: 100%|██████████| 1228/1228 [05:41<00:00,  3.60it/s, Loss=-0.994]\n",
      "BYOL Epoch 74/500: 100%|██████████| 176/176 [01:05<00:00,  2.67it/s, Loss=-0.988]\n"
     ]
    },
    {
     "name": "stdout",
     "output_type": "stream",
     "text": [
      "Epoch 74/500 | Training Loss: -0.9923 | Validation Loss: -0.9867\n"
     ]
    },
    {
     "name": "stderr",
     "output_type": "stream",
     "text": [
      "BYOL Epoch 75/500: 100%|██████████| 1228/1228 [05:40<00:00,  3.61it/s, Loss=-0.993]\n",
      "BYOL Epoch 75/500: 100%|██████████| 176/176 [01:06<00:00,  2.64it/s, Loss=-0.994]\n"
     ]
    },
    {
     "name": "stdout",
     "output_type": "stream",
     "text": [
      "Epoch 75/500 | Training Loss: -0.9923 | Validation Loss: -0.9907\n"
     ]
    },
    {
     "name": "stderr",
     "output_type": "stream",
     "text": [
      "BYOL Epoch 76/500: 100%|██████████| 1228/1228 [05:40<00:00,  3.61it/s, Loss=-0.994]\n",
      "BYOL Epoch 76/500: 100%|██████████| 176/176 [01:06<00:00,  2.66it/s, Loss=-0.996]\n"
     ]
    },
    {
     "name": "stdout",
     "output_type": "stream",
     "text": [
      "Epoch 76/500 | Training Loss: -0.9924 | Validation Loss: -0.9916\n",
      "Early stopping.\n"
     ]
    }
   ],
   "source": [
    "def train_model(byol_model, byol_train_loader, byol_val_loader, criterion, optimizer, scheduler, patience, accum_steps, epochs=10):\n",
    "    \"\"\"\n",
    "    Pre-train the backbone and evaluate it on the validation set after each epoch.\n",
    "    \"\"\"\n",
    "\n",
    "    # List to store byol loss\n",
    "    byol_train_losses = []\n",
    "    byol_val_losses = []\n",
    "\n",
    "    # Early stopping parameters\n",
    "    best_loss = 0\n",
    "    epochs_without_improvement = 0\n",
    "\n",
    "    for epoch in range(epochs):\n",
    "\n",
    "        # ---Training---\n",
    "        byol_model.train()\n",
    "        train_loss = 0.0\n",
    "\n",
    "        # For mixed precision\n",
    "        scaler = GradScaler()\n",
    "\n",
    "        # Progress bar\n",
    "        progress_bar = tqdm(byol_train_loader, desc=f\"BYOL Epoch {epoch+1}/{epochs}\")\n",
    "\n",
    "        momentum_val = cosine_schedule(epoch, epochs, 0.996, 1)\n",
    "\n",
    "        for step, (batch) in enumerate(progress_bar):\n",
    "            x0, x1 = batch\n",
    "            update_momentum(byol_model.online_network, byol_model.target_network, m=momentum_val)\n",
    "            update_momentum(byol_model.online_network_projection_head, byol_model.target_network_projection_head, m=momentum_val)\n",
    "\n",
    "            x0 = x0.to(device)\n",
    "            x1 = x1.to(device)\n",
    "\n",
    "            with autocast(device_type=\"cuda\", dtype=torch.bfloat16):\n",
    "\n",
    "                # Forward pass\n",
    "                p0 = byol_model.forward_online_network(x0)\n",
    "                z0 = byol_model.forward_target_network(x0)\n",
    "                p1 = byol_model.forward_online_network(x1)\n",
    "                z1 = byol_model.forward_target_network(x1)\n",
    "\n",
    "                # Compute loss\n",
    "                loss = 0.5 * (criterion(p0, z1) + criterion(p1, z0)) / accum_steps\n",
    "\n",
    "            if (step + 1) % accum_steps == 0:\n",
    "                # Backward pass + scaling\n",
    "                scaler.scale(loss).backward()\n",
    "                scaler.step(optimizer)\n",
    "                scaler.update()\n",
    "\n",
    "                # Clear gradients\n",
    "                optimizer.zero_grad()\n",
    "\n",
    "            train_loss += loss.item()\n",
    "            progress_bar.set_postfix({\"Loss\": loss.item() * accum_steps })\n",
    "\n",
    "        # Calculate average training loss\n",
    "        train_loss = train_loss / (len(byol_train_loader)/accum_steps)\n",
    "        byol_train_losses.append(train_loss)\n",
    "\n",
    "\n",
    "        # ---Validation---\n",
    "        byol_model.eval()\n",
    "        val_loss = 0\n",
    "\n",
    "        # Progress bar\n",
    "        progress_bar = tqdm(byol_val_loader, desc=f\"BYOL Epoch {epoch+1}/{epochs}\")\n",
    "\n",
    "        # Disable gradients for evaluation\n",
    "        with torch.no_grad():\n",
    "            for batch in progress_bar:\n",
    "                x0, x1 = batch\n",
    "\n",
    "                x0 = x0.to(device)\n",
    "                x1 = x1.to(device)\n",
    "\n",
    "                # Forward pass\n",
    "                p0 = byol_model.forward_online_network(x0)\n",
    "                z0 = byol_model.forward_target_network(x0)\n",
    "                p1 = byol_model.forward_online_network(x1)\n",
    "                z1 = byol_model.forward_target_network(x1)\n",
    "\n",
    "                # Compute loss\n",
    "                loss = 0.5 * (criterion(p0, z1) + criterion(p1, z0))\n",
    "\n",
    "                val_loss  += loss.item()\n",
    "                progress_bar.set_postfix({\"Loss\": loss.item()})\n",
    "\n",
    "        # Calculate average validation loss\n",
    "        val_loss = val_loss / len(byol_val_loader)\n",
    "        byol_val_losses.append(val_loss)\n",
    "\n",
    "        # Update scheduler\n",
    "        scheduler.step()\n",
    "\n",
    "        print(f\"Epoch {epoch+1}/{epochs} | Training Loss: {train_loss:.4f} | \"\n",
    "              f\"Validation Loss: {val_loss:.4f}\")\n",
    "\n",
    "        # Early stopping\n",
    "        if best_loss > val_loss:\n",
    "\n",
    "            # Reset early stopping parameters\n",
    "            best_loss = val_loss\n",
    "            epochs_without_improvement = 0\n",
    "\n",
    "            # Save the best model\n",
    "            torch.save(byol_model.state_dict(), 'maxvit_byol_pretraining.pt')\n",
    "            print(f\"New best model with Validation Loss: {val_loss:.4f}\")\n",
    "        else:\n",
    "            if epoch > 50:\n",
    "                epochs_without_improvement += 1\n",
    "\n",
    "                # Condition for doing early stopping\n",
    "                if epochs_without_improvement >= patience :\n",
    "                    print(f\"Early stopping.\")\n",
    "                    break\n",
    "\n",
    "    # Load the best model\n",
    "    byol_model.load_state_dict(torch.load('maxvit_byol_pretraining.pt', weights_only=True))\n",
    "\n",
    "    return byol_train_losses, byol_val_losses\n",
    "\n",
    "# Train the model\n",
    "byol_train_losses, byol_val_losses = train_model(byol_model, byol_train_loader, byol_val_loader, criterion, optimizer_byol, scheduler_byol, EARLY_STOPPING_PATIENCE_BYOL, ACCUM_STEPS,  EPOCHS_BYOL)"
   ]
  },
  {
   "cell_type": "markdown",
   "metadata": {},
   "source": [
    "# **Step 4: Build the Model**"
   ]
  },
  {
   "cell_type": "markdown",
   "metadata": {},
   "source": [
    "**Initialize the Multi-Label Classifier Model**"
   ]
  },
  {
   "cell_type": "code",
   "execution_count": 18,
   "metadata": {},
   "outputs": [
    {
     "data": {
      "text/plain": [
       "MultiLabelClassifier(\n",
       "  (base_model): MaxxVit(\n",
       "    (stem): Stem(\n",
       "      (conv1): Conv2d(3, 64, kernel_size=(3, 3), stride=(2, 2), padding=(1, 1), bias=False)\n",
       "      (norm1): LayerNormAct2d(\n",
       "        (64,), eps=1e-06, elementwise_affine=True\n",
       "        (drop): Identity()\n",
       "        (act): GELU()\n",
       "      )\n",
       "      (conv2): Conv2d(64, 128, kernel_size=(3, 3), stride=(1, 1), padding=(1, 1), bias=False)\n",
       "    )\n",
       "    (stages): Sequential(\n",
       "      (0): MaxxVitStage(\n",
       "        (blocks): Sequential(\n",
       "          (0): MaxxVitBlock(\n",
       "            (conv): ConvNeXtBlock(\n",
       "              (shortcut): Downsample2d(\n",
       "                (pool): AvgPool2d(kernel_size=2, stride=2, padding=0)\n",
       "                (expand): Identity()\n",
       "              )\n",
       "              (down): Identity()\n",
       "              (conv_dw): Conv2d(128, 128, kernel_size=(7, 7), stride=(2, 2), padding=(3, 3), groups=128)\n",
       "              (norm): LayerNorm2d((128,), eps=1e-06, elementwise_affine=True)\n",
       "              (mlp): ConvMlp(\n",
       "                (fc1): Conv2d(128, 512, kernel_size=(1, 1), stride=(1, 1))\n",
       "                (norm): Identity()\n",
       "                (act): GELU()\n",
       "                (drop): Dropout(p=0.0, inplace=False)\n",
       "                (fc2): Conv2d(512, 128, kernel_size=(1, 1), stride=(1, 1))\n",
       "              )\n",
       "              (ls): LayerScale2d()\n",
       "              (drop_path): Identity()\n",
       "            )\n",
       "            (attn_grid): PartitionAttentionCl(\n",
       "              (norm1): LayerNorm((128,), eps=1e-06, elementwise_affine=True)\n",
       "              (attn): AttentionCl(\n",
       "                (qkv): Linear(in_features=128, out_features=384, bias=True)\n",
       "                (rel_pos): RelPosMlp(\n",
       "                  (bias_act): Identity()\n",
       "                  (mlp): Mlp(\n",
       "                    (fc1): Linear(in_features=2, out_features=512, bias=True)\n",
       "                    (act): ReLU()\n",
       "                    (drop1): Dropout(p=0.125, inplace=False)\n",
       "                    (norm): Identity()\n",
       "                    (fc2): Linear(in_features=512, out_features=4, bias=True)\n",
       "                    (drop2): Dropout(p=0.0, inplace=False)\n",
       "                  )\n",
       "                )\n",
       "                (attn_drop): Dropout(p=0.0, inplace=False)\n",
       "                (proj): Linear(in_features=128, out_features=128, bias=True)\n",
       "                (proj_drop): Dropout(p=0.0, inplace=False)\n",
       "              )\n",
       "              (ls1): LayerScale()\n",
       "              (drop_path1): Identity()\n",
       "              (norm2): LayerNorm((128,), eps=1e-06, elementwise_affine=True)\n",
       "              (mlp): Mlp(\n",
       "                (fc1): Linear(in_features=128, out_features=512, bias=True)\n",
       "                (act): GELU()\n",
       "                (drop1): Dropout(p=0.0, inplace=False)\n",
       "                (norm): Identity()\n",
       "                (fc2): Linear(in_features=512, out_features=128, bias=True)\n",
       "                (drop2): Dropout(p=0.0, inplace=False)\n",
       "              )\n",
       "              (ls2): LayerScale()\n",
       "              (drop_path2): Identity()\n",
       "            )\n",
       "          )\n",
       "          (1): MaxxVitBlock(\n",
       "            (conv): ConvNeXtBlock(\n",
       "              (shortcut): Identity()\n",
       "              (down): Identity()\n",
       "              (conv_dw): Conv2d(128, 128, kernel_size=(7, 7), stride=(1, 1), padding=(3, 3), groups=128)\n",
       "              (norm): LayerNorm2d((128,), eps=1e-06, elementwise_affine=True)\n",
       "              (mlp): ConvMlp(\n",
       "                (fc1): Conv2d(128, 512, kernel_size=(1, 1), stride=(1, 1))\n",
       "                (norm): Identity()\n",
       "                (act): GELU()\n",
       "                (drop): Dropout(p=0.0, inplace=False)\n",
       "                (fc2): Conv2d(512, 128, kernel_size=(1, 1), stride=(1, 1))\n",
       "              )\n",
       "              (ls): LayerScale2d()\n",
       "              (drop_path): Identity()\n",
       "            )\n",
       "            (attn_grid): PartitionAttentionCl(\n",
       "              (norm1): LayerNorm((128,), eps=1e-06, elementwise_affine=True)\n",
       "              (attn): AttentionCl(\n",
       "                (qkv): Linear(in_features=128, out_features=384, bias=True)\n",
       "                (rel_pos): RelPosMlp(\n",
       "                  (bias_act): Identity()\n",
       "                  (mlp): Mlp(\n",
       "                    (fc1): Linear(in_features=2, out_features=512, bias=True)\n",
       "                    (act): ReLU()\n",
       "                    (drop1): Dropout(p=0.125, inplace=False)\n",
       "                    (norm): Identity()\n",
       "                    (fc2): Linear(in_features=512, out_features=4, bias=True)\n",
       "                    (drop2): Dropout(p=0.0, inplace=False)\n",
       "                  )\n",
       "                )\n",
       "                (attn_drop): Dropout(p=0.0, inplace=False)\n",
       "                (proj): Linear(in_features=128, out_features=128, bias=True)\n",
       "                (proj_drop): Dropout(p=0.0, inplace=False)\n",
       "              )\n",
       "              (ls1): LayerScale()\n",
       "              (drop_path1): Identity()\n",
       "              (norm2): LayerNorm((128,), eps=1e-06, elementwise_affine=True)\n",
       "              (mlp): Mlp(\n",
       "                (fc1): Linear(in_features=128, out_features=512, bias=True)\n",
       "                (act): GELU()\n",
       "                (drop1): Dropout(p=0.0, inplace=False)\n",
       "                (norm): Identity()\n",
       "                (fc2): Linear(in_features=512, out_features=128, bias=True)\n",
       "                (drop2): Dropout(p=0.0, inplace=False)\n",
       "              )\n",
       "              (ls2): LayerScale()\n",
       "              (drop_path2): Identity()\n",
       "            )\n",
       "          )\n",
       "        )\n",
       "      )\n",
       "      (1): MaxxVitStage(\n",
       "        (blocks): Sequential(\n",
       "          (0): MaxxVitBlock(\n",
       "            (conv): ConvNeXtBlock(\n",
       "              (shortcut): Downsample2d(\n",
       "                (pool): AvgPool2d(kernel_size=2, stride=2, padding=0)\n",
       "                (expand): Conv2d(128, 256, kernel_size=(1, 1), stride=(1, 1))\n",
       "              )\n",
       "              (down): Identity()\n",
       "              (conv_dw): Conv2d(128, 256, kernel_size=(7, 7), stride=(2, 2), padding=(3, 3), groups=128)\n",
       "              (norm): LayerNorm2d((256,), eps=1e-06, elementwise_affine=True)\n",
       "              (mlp): ConvMlp(\n",
       "                (fc1): Conv2d(256, 1024, kernel_size=(1, 1), stride=(1, 1))\n",
       "                (norm): Identity()\n",
       "                (act): GELU()\n",
       "                (drop): Dropout(p=0.0, inplace=False)\n",
       "                (fc2): Conv2d(1024, 256, kernel_size=(1, 1), stride=(1, 1))\n",
       "              )\n",
       "              (ls): LayerScale2d()\n",
       "              (drop_path): Identity()\n",
       "            )\n",
       "            (attn_grid): PartitionAttentionCl(\n",
       "              (norm1): LayerNorm((256,), eps=1e-06, elementwise_affine=True)\n",
       "              (attn): AttentionCl(\n",
       "                (qkv): Linear(in_features=256, out_features=768, bias=True)\n",
       "                (rel_pos): RelPosMlp(\n",
       "                  (bias_act): Identity()\n",
       "                  (mlp): Mlp(\n",
       "                    (fc1): Linear(in_features=2, out_features=512, bias=True)\n",
       "                    (act): ReLU()\n",
       "                    (drop1): Dropout(p=0.125, inplace=False)\n",
       "                    (norm): Identity()\n",
       "                    (fc2): Linear(in_features=512, out_features=8, bias=True)\n",
       "                    (drop2): Dropout(p=0.0, inplace=False)\n",
       "                  )\n",
       "                )\n",
       "                (attn_drop): Dropout(p=0.0, inplace=False)\n",
       "                (proj): Linear(in_features=256, out_features=256, bias=True)\n",
       "                (proj_drop): Dropout(p=0.0, inplace=False)\n",
       "              )\n",
       "              (ls1): LayerScale()\n",
       "              (drop_path1): Identity()\n",
       "              (norm2): LayerNorm((256,), eps=1e-06, elementwise_affine=True)\n",
       "              (mlp): Mlp(\n",
       "                (fc1): Linear(in_features=256, out_features=1024, bias=True)\n",
       "                (act): GELU()\n",
       "                (drop1): Dropout(p=0.0, inplace=False)\n",
       "                (norm): Identity()\n",
       "                (fc2): Linear(in_features=1024, out_features=256, bias=True)\n",
       "                (drop2): Dropout(p=0.0, inplace=False)\n",
       "              )\n",
       "              (ls2): LayerScale()\n",
       "              (drop_path2): Identity()\n",
       "            )\n",
       "          )\n",
       "          (1): MaxxVitBlock(\n",
       "            (conv): ConvNeXtBlock(\n",
       "              (shortcut): Identity()\n",
       "              (down): Identity()\n",
       "              (conv_dw): Conv2d(256, 256, kernel_size=(7, 7), stride=(1, 1), padding=(3, 3), groups=256)\n",
       "              (norm): LayerNorm2d((256,), eps=1e-06, elementwise_affine=True)\n",
       "              (mlp): ConvMlp(\n",
       "                (fc1): Conv2d(256, 1024, kernel_size=(1, 1), stride=(1, 1))\n",
       "                (norm): Identity()\n",
       "                (act): GELU()\n",
       "                (drop): Dropout(p=0.0, inplace=False)\n",
       "                (fc2): Conv2d(1024, 256, kernel_size=(1, 1), stride=(1, 1))\n",
       "              )\n",
       "              (ls): LayerScale2d()\n",
       "              (drop_path): Identity()\n",
       "            )\n",
       "            (attn_grid): PartitionAttentionCl(\n",
       "              (norm1): LayerNorm((256,), eps=1e-06, elementwise_affine=True)\n",
       "              (attn): AttentionCl(\n",
       "                (qkv): Linear(in_features=256, out_features=768, bias=True)\n",
       "                (rel_pos): RelPosMlp(\n",
       "                  (bias_act): Identity()\n",
       "                  (mlp): Mlp(\n",
       "                    (fc1): Linear(in_features=2, out_features=512, bias=True)\n",
       "                    (act): ReLU()\n",
       "                    (drop1): Dropout(p=0.125, inplace=False)\n",
       "                    (norm): Identity()\n",
       "                    (fc2): Linear(in_features=512, out_features=8, bias=True)\n",
       "                    (drop2): Dropout(p=0.0, inplace=False)\n",
       "                  )\n",
       "                )\n",
       "                (attn_drop): Dropout(p=0.0, inplace=False)\n",
       "                (proj): Linear(in_features=256, out_features=256, bias=True)\n",
       "                (proj_drop): Dropout(p=0.0, inplace=False)\n",
       "              )\n",
       "              (ls1): LayerScale()\n",
       "              (drop_path1): Identity()\n",
       "              (norm2): LayerNorm((256,), eps=1e-06, elementwise_affine=True)\n",
       "              (mlp): Mlp(\n",
       "                (fc1): Linear(in_features=256, out_features=1024, bias=True)\n",
       "                (act): GELU()\n",
       "                (drop1): Dropout(p=0.0, inplace=False)\n",
       "                (norm): Identity()\n",
       "                (fc2): Linear(in_features=1024, out_features=256, bias=True)\n",
       "                (drop2): Dropout(p=0.0, inplace=False)\n",
       "              )\n",
       "              (ls2): LayerScale()\n",
       "              (drop_path2): Identity()\n",
       "            )\n",
       "          )\n",
       "          (2): MaxxVitBlock(\n",
       "            (conv): ConvNeXtBlock(\n",
       "              (shortcut): Identity()\n",
       "              (down): Identity()\n",
       "              (conv_dw): Conv2d(256, 256, kernel_size=(7, 7), stride=(1, 1), padding=(3, 3), groups=256)\n",
       "              (norm): LayerNorm2d((256,), eps=1e-06, elementwise_affine=True)\n",
       "              (mlp): ConvMlp(\n",
       "                (fc1): Conv2d(256, 1024, kernel_size=(1, 1), stride=(1, 1))\n",
       "                (norm): Identity()\n",
       "                (act): GELU()\n",
       "                (drop): Dropout(p=0.0, inplace=False)\n",
       "                (fc2): Conv2d(1024, 256, kernel_size=(1, 1), stride=(1, 1))\n",
       "              )\n",
       "              (ls): LayerScale2d()\n",
       "              (drop_path): Identity()\n",
       "            )\n",
       "            (attn_grid): PartitionAttentionCl(\n",
       "              (norm1): LayerNorm((256,), eps=1e-06, elementwise_affine=True)\n",
       "              (attn): AttentionCl(\n",
       "                (qkv): Linear(in_features=256, out_features=768, bias=True)\n",
       "                (rel_pos): RelPosMlp(\n",
       "                  (bias_act): Identity()\n",
       "                  (mlp): Mlp(\n",
       "                    (fc1): Linear(in_features=2, out_features=512, bias=True)\n",
       "                    (act): ReLU()\n",
       "                    (drop1): Dropout(p=0.125, inplace=False)\n",
       "                    (norm): Identity()\n",
       "                    (fc2): Linear(in_features=512, out_features=8, bias=True)\n",
       "                    (drop2): Dropout(p=0.0, inplace=False)\n",
       "                  )\n",
       "                )\n",
       "                (attn_drop): Dropout(p=0.0, inplace=False)\n",
       "                (proj): Linear(in_features=256, out_features=256, bias=True)\n",
       "                (proj_drop): Dropout(p=0.0, inplace=False)\n",
       "              )\n",
       "              (ls1): LayerScale()\n",
       "              (drop_path1): Identity()\n",
       "              (norm2): LayerNorm((256,), eps=1e-06, elementwise_affine=True)\n",
       "              (mlp): Mlp(\n",
       "                (fc1): Linear(in_features=256, out_features=1024, bias=True)\n",
       "                (act): GELU()\n",
       "                (drop1): Dropout(p=0.0, inplace=False)\n",
       "                (norm): Identity()\n",
       "                (fc2): Linear(in_features=1024, out_features=256, bias=True)\n",
       "                (drop2): Dropout(p=0.0, inplace=False)\n",
       "              )\n",
       "              (ls2): LayerScale()\n",
       "              (drop_path2): Identity()\n",
       "            )\n",
       "          )\n",
       "          (3): MaxxVitBlock(\n",
       "            (conv): ConvNeXtBlock(\n",
       "              (shortcut): Identity()\n",
       "              (down): Identity()\n",
       "              (conv_dw): Conv2d(256, 256, kernel_size=(7, 7), stride=(1, 1), padding=(3, 3), groups=256)\n",
       "              (norm): LayerNorm2d((256,), eps=1e-06, elementwise_affine=True)\n",
       "              (mlp): ConvMlp(\n",
       "                (fc1): Conv2d(256, 1024, kernel_size=(1, 1), stride=(1, 1))\n",
       "                (norm): Identity()\n",
       "                (act): GELU()\n",
       "                (drop): Dropout(p=0.0, inplace=False)\n",
       "                (fc2): Conv2d(1024, 256, kernel_size=(1, 1), stride=(1, 1))\n",
       "              )\n",
       "              (ls): LayerScale2d()\n",
       "              (drop_path): Identity()\n",
       "            )\n",
       "            (attn_grid): PartitionAttentionCl(\n",
       "              (norm1): LayerNorm((256,), eps=1e-06, elementwise_affine=True)\n",
       "              (attn): AttentionCl(\n",
       "                (qkv): Linear(in_features=256, out_features=768, bias=True)\n",
       "                (rel_pos): RelPosMlp(\n",
       "                  (bias_act): Identity()\n",
       "                  (mlp): Mlp(\n",
       "                    (fc1): Linear(in_features=2, out_features=512, bias=True)\n",
       "                    (act): ReLU()\n",
       "                    (drop1): Dropout(p=0.125, inplace=False)\n",
       "                    (norm): Identity()\n",
       "                    (fc2): Linear(in_features=512, out_features=8, bias=True)\n",
       "                    (drop2): Dropout(p=0.0, inplace=False)\n",
       "                  )\n",
       "                )\n",
       "                (attn_drop): Dropout(p=0.0, inplace=False)\n",
       "                (proj): Linear(in_features=256, out_features=256, bias=True)\n",
       "                (proj_drop): Dropout(p=0.0, inplace=False)\n",
       "              )\n",
       "              (ls1): LayerScale()\n",
       "              (drop_path1): Identity()\n",
       "              (norm2): LayerNorm((256,), eps=1e-06, elementwise_affine=True)\n",
       "              (mlp): Mlp(\n",
       "                (fc1): Linear(in_features=256, out_features=1024, bias=True)\n",
       "                (act): GELU()\n",
       "                (drop1): Dropout(p=0.0, inplace=False)\n",
       "                (norm): Identity()\n",
       "                (fc2): Linear(in_features=1024, out_features=256, bias=True)\n",
       "                (drop2): Dropout(p=0.0, inplace=False)\n",
       "              )\n",
       "              (ls2): LayerScale()\n",
       "              (drop_path2): Identity()\n",
       "            )\n",
       "          )\n",
       "          (4): MaxxVitBlock(\n",
       "            (conv): ConvNeXtBlock(\n",
       "              (shortcut): Identity()\n",
       "              (down): Identity()\n",
       "              (conv_dw): Conv2d(256, 256, kernel_size=(7, 7), stride=(1, 1), padding=(3, 3), groups=256)\n",
       "              (norm): LayerNorm2d((256,), eps=1e-06, elementwise_affine=True)\n",
       "              (mlp): ConvMlp(\n",
       "                (fc1): Conv2d(256, 1024, kernel_size=(1, 1), stride=(1, 1))\n",
       "                (norm): Identity()\n",
       "                (act): GELU()\n",
       "                (drop): Dropout(p=0.0, inplace=False)\n",
       "                (fc2): Conv2d(1024, 256, kernel_size=(1, 1), stride=(1, 1))\n",
       "              )\n",
       "              (ls): LayerScale2d()\n",
       "              (drop_path): Identity()\n",
       "            )\n",
       "            (attn_grid): PartitionAttentionCl(\n",
       "              (norm1): LayerNorm((256,), eps=1e-06, elementwise_affine=True)\n",
       "              (attn): AttentionCl(\n",
       "                (qkv): Linear(in_features=256, out_features=768, bias=True)\n",
       "                (rel_pos): RelPosMlp(\n",
       "                  (bias_act): Identity()\n",
       "                  (mlp): Mlp(\n",
       "                    (fc1): Linear(in_features=2, out_features=512, bias=True)\n",
       "                    (act): ReLU()\n",
       "                    (drop1): Dropout(p=0.125, inplace=False)\n",
       "                    (norm): Identity()\n",
       "                    (fc2): Linear(in_features=512, out_features=8, bias=True)\n",
       "                    (drop2): Dropout(p=0.0, inplace=False)\n",
       "                  )\n",
       "                )\n",
       "                (attn_drop): Dropout(p=0.0, inplace=False)\n",
       "                (proj): Linear(in_features=256, out_features=256, bias=True)\n",
       "                (proj_drop): Dropout(p=0.0, inplace=False)\n",
       "              )\n",
       "              (ls1): LayerScale()\n",
       "              (drop_path1): Identity()\n",
       "              (norm2): LayerNorm((256,), eps=1e-06, elementwise_affine=True)\n",
       "              (mlp): Mlp(\n",
       "                (fc1): Linear(in_features=256, out_features=1024, bias=True)\n",
       "                (act): GELU()\n",
       "                (drop1): Dropout(p=0.0, inplace=False)\n",
       "                (norm): Identity()\n",
       "                (fc2): Linear(in_features=1024, out_features=256, bias=True)\n",
       "                (drop2): Dropout(p=0.0, inplace=False)\n",
       "              )\n",
       "              (ls2): LayerScale()\n",
       "              (drop_path2): Identity()\n",
       "            )\n",
       "          )\n",
       "          (5): MaxxVitBlock(\n",
       "            (conv): ConvNeXtBlock(\n",
       "              (shortcut): Identity()\n",
       "              (down): Identity()\n",
       "              (conv_dw): Conv2d(256, 256, kernel_size=(7, 7), stride=(1, 1), padding=(3, 3), groups=256)\n",
       "              (norm): LayerNorm2d((256,), eps=1e-06, elementwise_affine=True)\n",
       "              (mlp): ConvMlp(\n",
       "                (fc1): Conv2d(256, 1024, kernel_size=(1, 1), stride=(1, 1))\n",
       "                (norm): Identity()\n",
       "                (act): GELU()\n",
       "                (drop): Dropout(p=0.0, inplace=False)\n",
       "                (fc2): Conv2d(1024, 256, kernel_size=(1, 1), stride=(1, 1))\n",
       "              )\n",
       "              (ls): LayerScale2d()\n",
       "              (drop_path): Identity()\n",
       "            )\n",
       "            (attn_grid): PartitionAttentionCl(\n",
       "              (norm1): LayerNorm((256,), eps=1e-06, elementwise_affine=True)\n",
       "              (attn): AttentionCl(\n",
       "                (qkv): Linear(in_features=256, out_features=768, bias=True)\n",
       "                (rel_pos): RelPosMlp(\n",
       "                  (bias_act): Identity()\n",
       "                  (mlp): Mlp(\n",
       "                    (fc1): Linear(in_features=2, out_features=512, bias=True)\n",
       "                    (act): ReLU()\n",
       "                    (drop1): Dropout(p=0.125, inplace=False)\n",
       "                    (norm): Identity()\n",
       "                    (fc2): Linear(in_features=512, out_features=8, bias=True)\n",
       "                    (drop2): Dropout(p=0.0, inplace=False)\n",
       "                  )\n",
       "                )\n",
       "                (attn_drop): Dropout(p=0.0, inplace=False)\n",
       "                (proj): Linear(in_features=256, out_features=256, bias=True)\n",
       "                (proj_drop): Dropout(p=0.0, inplace=False)\n",
       "              )\n",
       "              (ls1): LayerScale()\n",
       "              (drop_path1): Identity()\n",
       "              (norm2): LayerNorm((256,), eps=1e-06, elementwise_affine=True)\n",
       "              (mlp): Mlp(\n",
       "                (fc1): Linear(in_features=256, out_features=1024, bias=True)\n",
       "                (act): GELU()\n",
       "                (drop1): Dropout(p=0.0, inplace=False)\n",
       "                (norm): Identity()\n",
       "                (fc2): Linear(in_features=1024, out_features=256, bias=True)\n",
       "                (drop2): Dropout(p=0.0, inplace=False)\n",
       "              )\n",
       "              (ls2): LayerScale()\n",
       "              (drop_path2): Identity()\n",
       "            )\n",
       "          )\n",
       "        )\n",
       "      )\n",
       "      (2): MaxxVitStage(\n",
       "        (blocks): Sequential(\n",
       "          (0): MaxxVitBlock(\n",
       "            (conv): ConvNeXtBlock(\n",
       "              (shortcut): Downsample2d(\n",
       "                (pool): AvgPool2d(kernel_size=2, stride=2, padding=0)\n",
       "                (expand): Conv2d(256, 512, kernel_size=(1, 1), stride=(1, 1))\n",
       "              )\n",
       "              (down): Identity()\n",
       "              (conv_dw): Conv2d(256, 512, kernel_size=(7, 7), stride=(2, 2), padding=(3, 3), groups=256)\n",
       "              (norm): LayerNorm2d((512,), eps=1e-06, elementwise_affine=True)\n",
       "              (mlp): ConvMlp(\n",
       "                (fc1): Conv2d(512, 2048, kernel_size=(1, 1), stride=(1, 1))\n",
       "                (norm): Identity()\n",
       "                (act): GELU()\n",
       "                (drop): Dropout(p=0.0, inplace=False)\n",
       "                (fc2): Conv2d(2048, 512, kernel_size=(1, 1), stride=(1, 1))\n",
       "              )\n",
       "              (ls): LayerScale2d()\n",
       "              (drop_path): Identity()\n",
       "            )\n",
       "            (attn_grid): PartitionAttentionCl(\n",
       "              (norm1): LayerNorm((512,), eps=1e-06, elementwise_affine=True)\n",
       "              (attn): AttentionCl(\n",
       "                (qkv): Linear(in_features=512, out_features=1536, bias=True)\n",
       "                (rel_pos): RelPosMlp(\n",
       "                  (bias_act): Identity()\n",
       "                  (mlp): Mlp(\n",
       "                    (fc1): Linear(in_features=2, out_features=512, bias=True)\n",
       "                    (act): ReLU()\n",
       "                    (drop1): Dropout(p=0.125, inplace=False)\n",
       "                    (norm): Identity()\n",
       "                    (fc2): Linear(in_features=512, out_features=16, bias=True)\n",
       "                    (drop2): Dropout(p=0.0, inplace=False)\n",
       "                  )\n",
       "                )\n",
       "                (attn_drop): Dropout(p=0.0, inplace=False)\n",
       "                (proj): Linear(in_features=512, out_features=512, bias=True)\n",
       "                (proj_drop): Dropout(p=0.0, inplace=False)\n",
       "              )\n",
       "              (ls1): LayerScale()\n",
       "              (drop_path1): Identity()\n",
       "              (norm2): LayerNorm((512,), eps=1e-06, elementwise_affine=True)\n",
       "              (mlp): Mlp(\n",
       "                (fc1): Linear(in_features=512, out_features=2048, bias=True)\n",
       "                (act): GELU()\n",
       "                (drop1): Dropout(p=0.0, inplace=False)\n",
       "                (norm): Identity()\n",
       "                (fc2): Linear(in_features=2048, out_features=512, bias=True)\n",
       "                (drop2): Dropout(p=0.0, inplace=False)\n",
       "              )\n",
       "              (ls2): LayerScale()\n",
       "              (drop_path2): Identity()\n",
       "            )\n",
       "          )\n",
       "          (1): MaxxVitBlock(\n",
       "            (conv): ConvNeXtBlock(\n",
       "              (shortcut): Identity()\n",
       "              (down): Identity()\n",
       "              (conv_dw): Conv2d(512, 512, kernel_size=(7, 7), stride=(1, 1), padding=(3, 3), groups=512)\n",
       "              (norm): LayerNorm2d((512,), eps=1e-06, elementwise_affine=True)\n",
       "              (mlp): ConvMlp(\n",
       "                (fc1): Conv2d(512, 2048, kernel_size=(1, 1), stride=(1, 1))\n",
       "                (norm): Identity()\n",
       "                (act): GELU()\n",
       "                (drop): Dropout(p=0.0, inplace=False)\n",
       "                (fc2): Conv2d(2048, 512, kernel_size=(1, 1), stride=(1, 1))\n",
       "              )\n",
       "              (ls): LayerScale2d()\n",
       "              (drop_path): Identity()\n",
       "            )\n",
       "            (attn_grid): PartitionAttentionCl(\n",
       "              (norm1): LayerNorm((512,), eps=1e-06, elementwise_affine=True)\n",
       "              (attn): AttentionCl(\n",
       "                (qkv): Linear(in_features=512, out_features=1536, bias=True)\n",
       "                (rel_pos): RelPosMlp(\n",
       "                  (bias_act): Identity()\n",
       "                  (mlp): Mlp(\n",
       "                    (fc1): Linear(in_features=2, out_features=512, bias=True)\n",
       "                    (act): ReLU()\n",
       "                    (drop1): Dropout(p=0.125, inplace=False)\n",
       "                    (norm): Identity()\n",
       "                    (fc2): Linear(in_features=512, out_features=16, bias=True)\n",
       "                    (drop2): Dropout(p=0.0, inplace=False)\n",
       "                  )\n",
       "                )\n",
       "                (attn_drop): Dropout(p=0.0, inplace=False)\n",
       "                (proj): Linear(in_features=512, out_features=512, bias=True)\n",
       "                (proj_drop): Dropout(p=0.0, inplace=False)\n",
       "              )\n",
       "              (ls1): LayerScale()\n",
       "              (drop_path1): Identity()\n",
       "              (norm2): LayerNorm((512,), eps=1e-06, elementwise_affine=True)\n",
       "              (mlp): Mlp(\n",
       "                (fc1): Linear(in_features=512, out_features=2048, bias=True)\n",
       "                (act): GELU()\n",
       "                (drop1): Dropout(p=0.0, inplace=False)\n",
       "                (norm): Identity()\n",
       "                (fc2): Linear(in_features=2048, out_features=512, bias=True)\n",
       "                (drop2): Dropout(p=0.0, inplace=False)\n",
       "              )\n",
       "              (ls2): LayerScale()\n",
       "              (drop_path2): Identity()\n",
       "            )\n",
       "          )\n",
       "          (2): MaxxVitBlock(\n",
       "            (conv): ConvNeXtBlock(\n",
       "              (shortcut): Identity()\n",
       "              (down): Identity()\n",
       "              (conv_dw): Conv2d(512, 512, kernel_size=(7, 7), stride=(1, 1), padding=(3, 3), groups=512)\n",
       "              (norm): LayerNorm2d((512,), eps=1e-06, elementwise_affine=True)\n",
       "              (mlp): ConvMlp(\n",
       "                (fc1): Conv2d(512, 2048, kernel_size=(1, 1), stride=(1, 1))\n",
       "                (norm): Identity()\n",
       "                (act): GELU()\n",
       "                (drop): Dropout(p=0.0, inplace=False)\n",
       "                (fc2): Conv2d(2048, 512, kernel_size=(1, 1), stride=(1, 1))\n",
       "              )\n",
       "              (ls): LayerScale2d()\n",
       "              (drop_path): Identity()\n",
       "            )\n",
       "            (attn_grid): PartitionAttentionCl(\n",
       "              (norm1): LayerNorm((512,), eps=1e-06, elementwise_affine=True)\n",
       "              (attn): AttentionCl(\n",
       "                (qkv): Linear(in_features=512, out_features=1536, bias=True)\n",
       "                (rel_pos): RelPosMlp(\n",
       "                  (bias_act): Identity()\n",
       "                  (mlp): Mlp(\n",
       "                    (fc1): Linear(in_features=2, out_features=512, bias=True)\n",
       "                    (act): ReLU()\n",
       "                    (drop1): Dropout(p=0.125, inplace=False)\n",
       "                    (norm): Identity()\n",
       "                    (fc2): Linear(in_features=512, out_features=16, bias=True)\n",
       "                    (drop2): Dropout(p=0.0, inplace=False)\n",
       "                  )\n",
       "                )\n",
       "                (attn_drop): Dropout(p=0.0, inplace=False)\n",
       "                (proj): Linear(in_features=512, out_features=512, bias=True)\n",
       "                (proj_drop): Dropout(p=0.0, inplace=False)\n",
       "              )\n",
       "              (ls1): LayerScale()\n",
       "              (drop_path1): Identity()\n",
       "              (norm2): LayerNorm((512,), eps=1e-06, elementwise_affine=True)\n",
       "              (mlp): Mlp(\n",
       "                (fc1): Linear(in_features=512, out_features=2048, bias=True)\n",
       "                (act): GELU()\n",
       "                (drop1): Dropout(p=0.0, inplace=False)\n",
       "                (norm): Identity()\n",
       "                (fc2): Linear(in_features=2048, out_features=512, bias=True)\n",
       "                (drop2): Dropout(p=0.0, inplace=False)\n",
       "              )\n",
       "              (ls2): LayerScale()\n",
       "              (drop_path2): Identity()\n",
       "            )\n",
       "          )\n",
       "          (3): MaxxVitBlock(\n",
       "            (conv): ConvNeXtBlock(\n",
       "              (shortcut): Identity()\n",
       "              (down): Identity()\n",
       "              (conv_dw): Conv2d(512, 512, kernel_size=(7, 7), stride=(1, 1), padding=(3, 3), groups=512)\n",
       "              (norm): LayerNorm2d((512,), eps=1e-06, elementwise_affine=True)\n",
       "              (mlp): ConvMlp(\n",
       "                (fc1): Conv2d(512, 2048, kernel_size=(1, 1), stride=(1, 1))\n",
       "                (norm): Identity()\n",
       "                (act): GELU()\n",
       "                (drop): Dropout(p=0.0, inplace=False)\n",
       "                (fc2): Conv2d(2048, 512, kernel_size=(1, 1), stride=(1, 1))\n",
       "              )\n",
       "              (ls): LayerScale2d()\n",
       "              (drop_path): Identity()\n",
       "            )\n",
       "            (attn_grid): PartitionAttentionCl(\n",
       "              (norm1): LayerNorm((512,), eps=1e-06, elementwise_affine=True)\n",
       "              (attn): AttentionCl(\n",
       "                (qkv): Linear(in_features=512, out_features=1536, bias=True)\n",
       "                (rel_pos): RelPosMlp(\n",
       "                  (bias_act): Identity()\n",
       "                  (mlp): Mlp(\n",
       "                    (fc1): Linear(in_features=2, out_features=512, bias=True)\n",
       "                    (act): ReLU()\n",
       "                    (drop1): Dropout(p=0.125, inplace=False)\n",
       "                    (norm): Identity()\n",
       "                    (fc2): Linear(in_features=512, out_features=16, bias=True)\n",
       "                    (drop2): Dropout(p=0.0, inplace=False)\n",
       "                  )\n",
       "                )\n",
       "                (attn_drop): Dropout(p=0.0, inplace=False)\n",
       "                (proj): Linear(in_features=512, out_features=512, bias=True)\n",
       "                (proj_drop): Dropout(p=0.0, inplace=False)\n",
       "              )\n",
       "              (ls1): LayerScale()\n",
       "              (drop_path1): Identity()\n",
       "              (norm2): LayerNorm((512,), eps=1e-06, elementwise_affine=True)\n",
       "              (mlp): Mlp(\n",
       "                (fc1): Linear(in_features=512, out_features=2048, bias=True)\n",
       "                (act): GELU()\n",
       "                (drop1): Dropout(p=0.0, inplace=False)\n",
       "                (norm): Identity()\n",
       "                (fc2): Linear(in_features=2048, out_features=512, bias=True)\n",
       "                (drop2): Dropout(p=0.0, inplace=False)\n",
       "              )\n",
       "              (ls2): LayerScale()\n",
       "              (drop_path2): Identity()\n",
       "            )\n",
       "          )\n",
       "          (4): MaxxVitBlock(\n",
       "            (conv): ConvNeXtBlock(\n",
       "              (shortcut): Identity()\n",
       "              (down): Identity()\n",
       "              (conv_dw): Conv2d(512, 512, kernel_size=(7, 7), stride=(1, 1), padding=(3, 3), groups=512)\n",
       "              (norm): LayerNorm2d((512,), eps=1e-06, elementwise_affine=True)\n",
       "              (mlp): ConvMlp(\n",
       "                (fc1): Conv2d(512, 2048, kernel_size=(1, 1), stride=(1, 1))\n",
       "                (norm): Identity()\n",
       "                (act): GELU()\n",
       "                (drop): Dropout(p=0.0, inplace=False)\n",
       "                (fc2): Conv2d(2048, 512, kernel_size=(1, 1), stride=(1, 1))\n",
       "              )\n",
       "              (ls): LayerScale2d()\n",
       "              (drop_path): Identity()\n",
       "            )\n",
       "            (attn_grid): PartitionAttentionCl(\n",
       "              (norm1): LayerNorm((512,), eps=1e-06, elementwise_affine=True)\n",
       "              (attn): AttentionCl(\n",
       "                (qkv): Linear(in_features=512, out_features=1536, bias=True)\n",
       "                (rel_pos): RelPosMlp(\n",
       "                  (bias_act): Identity()\n",
       "                  (mlp): Mlp(\n",
       "                    (fc1): Linear(in_features=2, out_features=512, bias=True)\n",
       "                    (act): ReLU()\n",
       "                    (drop1): Dropout(p=0.125, inplace=False)\n",
       "                    (norm): Identity()\n",
       "                    (fc2): Linear(in_features=512, out_features=16, bias=True)\n",
       "                    (drop2): Dropout(p=0.0, inplace=False)\n",
       "                  )\n",
       "                )\n",
       "                (attn_drop): Dropout(p=0.0, inplace=False)\n",
       "                (proj): Linear(in_features=512, out_features=512, bias=True)\n",
       "                (proj_drop): Dropout(p=0.0, inplace=False)\n",
       "              )\n",
       "              (ls1): LayerScale()\n",
       "              (drop_path1): Identity()\n",
       "              (norm2): LayerNorm((512,), eps=1e-06, elementwise_affine=True)\n",
       "              (mlp): Mlp(\n",
       "                (fc1): Linear(in_features=512, out_features=2048, bias=True)\n",
       "                (act): GELU()\n",
       "                (drop1): Dropout(p=0.0, inplace=False)\n",
       "                (norm): Identity()\n",
       "                (fc2): Linear(in_features=2048, out_features=512, bias=True)\n",
       "                (drop2): Dropout(p=0.0, inplace=False)\n",
       "              )\n",
       "              (ls2): LayerScale()\n",
       "              (drop_path2): Identity()\n",
       "            )\n",
       "          )\n",
       "          (5): MaxxVitBlock(\n",
       "            (conv): ConvNeXtBlock(\n",
       "              (shortcut): Identity()\n",
       "              (down): Identity()\n",
       "              (conv_dw): Conv2d(512, 512, kernel_size=(7, 7), stride=(1, 1), padding=(3, 3), groups=512)\n",
       "              (norm): LayerNorm2d((512,), eps=1e-06, elementwise_affine=True)\n",
       "              (mlp): ConvMlp(\n",
       "                (fc1): Conv2d(512, 2048, kernel_size=(1, 1), stride=(1, 1))\n",
       "                (norm): Identity()\n",
       "                (act): GELU()\n",
       "                (drop): Dropout(p=0.0, inplace=False)\n",
       "                (fc2): Conv2d(2048, 512, kernel_size=(1, 1), stride=(1, 1))\n",
       "              )\n",
       "              (ls): LayerScale2d()\n",
       "              (drop_path): Identity()\n",
       "            )\n",
       "            (attn_grid): PartitionAttentionCl(\n",
       "              (norm1): LayerNorm((512,), eps=1e-06, elementwise_affine=True)\n",
       "              (attn): AttentionCl(\n",
       "                (qkv): Linear(in_features=512, out_features=1536, bias=True)\n",
       "                (rel_pos): RelPosMlp(\n",
       "                  (bias_act): Identity()\n",
       "                  (mlp): Mlp(\n",
       "                    (fc1): Linear(in_features=2, out_features=512, bias=True)\n",
       "                    (act): ReLU()\n",
       "                    (drop1): Dropout(p=0.125, inplace=False)\n",
       "                    (norm): Identity()\n",
       "                    (fc2): Linear(in_features=512, out_features=16, bias=True)\n",
       "                    (drop2): Dropout(p=0.0, inplace=False)\n",
       "                  )\n",
       "                )\n",
       "                (attn_drop): Dropout(p=0.0, inplace=False)\n",
       "                (proj): Linear(in_features=512, out_features=512, bias=True)\n",
       "                (proj_drop): Dropout(p=0.0, inplace=False)\n",
       "              )\n",
       "              (ls1): LayerScale()\n",
       "              (drop_path1): Identity()\n",
       "              (norm2): LayerNorm((512,), eps=1e-06, elementwise_affine=True)\n",
       "              (mlp): Mlp(\n",
       "                (fc1): Linear(in_features=512, out_features=2048, bias=True)\n",
       "                (act): GELU()\n",
       "                (drop1): Dropout(p=0.0, inplace=False)\n",
       "                (norm): Identity()\n",
       "                (fc2): Linear(in_features=2048, out_features=512, bias=True)\n",
       "                (drop2): Dropout(p=0.0, inplace=False)\n",
       "              )\n",
       "              (ls2): LayerScale()\n",
       "              (drop_path2): Identity()\n",
       "            )\n",
       "          )\n",
       "          (6): MaxxVitBlock(\n",
       "            (conv): ConvNeXtBlock(\n",
       "              (shortcut): Identity()\n",
       "              (down): Identity()\n",
       "              (conv_dw): Conv2d(512, 512, kernel_size=(7, 7), stride=(1, 1), padding=(3, 3), groups=512)\n",
       "              (norm): LayerNorm2d((512,), eps=1e-06, elementwise_affine=True)\n",
       "              (mlp): ConvMlp(\n",
       "                (fc1): Conv2d(512, 2048, kernel_size=(1, 1), stride=(1, 1))\n",
       "                (norm): Identity()\n",
       "                (act): GELU()\n",
       "                (drop): Dropout(p=0.0, inplace=False)\n",
       "                (fc2): Conv2d(2048, 512, kernel_size=(1, 1), stride=(1, 1))\n",
       "              )\n",
       "              (ls): LayerScale2d()\n",
       "              (drop_path): Identity()\n",
       "            )\n",
       "            (attn_grid): PartitionAttentionCl(\n",
       "              (norm1): LayerNorm((512,), eps=1e-06, elementwise_affine=True)\n",
       "              (attn): AttentionCl(\n",
       "                (qkv): Linear(in_features=512, out_features=1536, bias=True)\n",
       "                (rel_pos): RelPosMlp(\n",
       "                  (bias_act): Identity()\n",
       "                  (mlp): Mlp(\n",
       "                    (fc1): Linear(in_features=2, out_features=512, bias=True)\n",
       "                    (act): ReLU()\n",
       "                    (drop1): Dropout(p=0.125, inplace=False)\n",
       "                    (norm): Identity()\n",
       "                    (fc2): Linear(in_features=512, out_features=16, bias=True)\n",
       "                    (drop2): Dropout(p=0.0, inplace=False)\n",
       "                  )\n",
       "                )\n",
       "                (attn_drop): Dropout(p=0.0, inplace=False)\n",
       "                (proj): Linear(in_features=512, out_features=512, bias=True)\n",
       "                (proj_drop): Dropout(p=0.0, inplace=False)\n",
       "              )\n",
       "              (ls1): LayerScale()\n",
       "              (drop_path1): Identity()\n",
       "              (norm2): LayerNorm((512,), eps=1e-06, elementwise_affine=True)\n",
       "              (mlp): Mlp(\n",
       "                (fc1): Linear(in_features=512, out_features=2048, bias=True)\n",
       "                (act): GELU()\n",
       "                (drop1): Dropout(p=0.0, inplace=False)\n",
       "                (norm): Identity()\n",
       "                (fc2): Linear(in_features=2048, out_features=512, bias=True)\n",
       "                (drop2): Dropout(p=0.0, inplace=False)\n",
       "              )\n",
       "              (ls2): LayerScale()\n",
       "              (drop_path2): Identity()\n",
       "            )\n",
       "          )\n",
       "          (7): MaxxVitBlock(\n",
       "            (conv): ConvNeXtBlock(\n",
       "              (shortcut): Identity()\n",
       "              (down): Identity()\n",
       "              (conv_dw): Conv2d(512, 512, kernel_size=(7, 7), stride=(1, 1), padding=(3, 3), groups=512)\n",
       "              (norm): LayerNorm2d((512,), eps=1e-06, elementwise_affine=True)\n",
       "              (mlp): ConvMlp(\n",
       "                (fc1): Conv2d(512, 2048, kernel_size=(1, 1), stride=(1, 1))\n",
       "                (norm): Identity()\n",
       "                (act): GELU()\n",
       "                (drop): Dropout(p=0.0, inplace=False)\n",
       "                (fc2): Conv2d(2048, 512, kernel_size=(1, 1), stride=(1, 1))\n",
       "              )\n",
       "              (ls): LayerScale2d()\n",
       "              (drop_path): Identity()\n",
       "            )\n",
       "            (attn_grid): PartitionAttentionCl(\n",
       "              (norm1): LayerNorm((512,), eps=1e-06, elementwise_affine=True)\n",
       "              (attn): AttentionCl(\n",
       "                (qkv): Linear(in_features=512, out_features=1536, bias=True)\n",
       "                (rel_pos): RelPosMlp(\n",
       "                  (bias_act): Identity()\n",
       "                  (mlp): Mlp(\n",
       "                    (fc1): Linear(in_features=2, out_features=512, bias=True)\n",
       "                    (act): ReLU()\n",
       "                    (drop1): Dropout(p=0.125, inplace=False)\n",
       "                    (norm): Identity()\n",
       "                    (fc2): Linear(in_features=512, out_features=16, bias=True)\n",
       "                    (drop2): Dropout(p=0.0, inplace=False)\n",
       "                  )\n",
       "                )\n",
       "                (attn_drop): Dropout(p=0.0, inplace=False)\n",
       "                (proj): Linear(in_features=512, out_features=512, bias=True)\n",
       "                (proj_drop): Dropout(p=0.0, inplace=False)\n",
       "              )\n",
       "              (ls1): LayerScale()\n",
       "              (drop_path1): Identity()\n",
       "              (norm2): LayerNorm((512,), eps=1e-06, elementwise_affine=True)\n",
       "              (mlp): Mlp(\n",
       "                (fc1): Linear(in_features=512, out_features=2048, bias=True)\n",
       "                (act): GELU()\n",
       "                (drop1): Dropout(p=0.0, inplace=False)\n",
       "                (norm): Identity()\n",
       "                (fc2): Linear(in_features=2048, out_features=512, bias=True)\n",
       "                (drop2): Dropout(p=0.0, inplace=False)\n",
       "              )\n",
       "              (ls2): LayerScale()\n",
       "              (drop_path2): Identity()\n",
       "            )\n",
       "          )\n",
       "          (8): MaxxVitBlock(\n",
       "            (conv): ConvNeXtBlock(\n",
       "              (shortcut): Identity()\n",
       "              (down): Identity()\n",
       "              (conv_dw): Conv2d(512, 512, kernel_size=(7, 7), stride=(1, 1), padding=(3, 3), groups=512)\n",
       "              (norm): LayerNorm2d((512,), eps=1e-06, elementwise_affine=True)\n",
       "              (mlp): ConvMlp(\n",
       "                (fc1): Conv2d(512, 2048, kernel_size=(1, 1), stride=(1, 1))\n",
       "                (norm): Identity()\n",
       "                (act): GELU()\n",
       "                (drop): Dropout(p=0.0, inplace=False)\n",
       "                (fc2): Conv2d(2048, 512, kernel_size=(1, 1), stride=(1, 1))\n",
       "              )\n",
       "              (ls): LayerScale2d()\n",
       "              (drop_path): Identity()\n",
       "            )\n",
       "            (attn_grid): PartitionAttentionCl(\n",
       "              (norm1): LayerNorm((512,), eps=1e-06, elementwise_affine=True)\n",
       "              (attn): AttentionCl(\n",
       "                (qkv): Linear(in_features=512, out_features=1536, bias=True)\n",
       "                (rel_pos): RelPosMlp(\n",
       "                  (bias_act): Identity()\n",
       "                  (mlp): Mlp(\n",
       "                    (fc1): Linear(in_features=2, out_features=512, bias=True)\n",
       "                    (act): ReLU()\n",
       "                    (drop1): Dropout(p=0.125, inplace=False)\n",
       "                    (norm): Identity()\n",
       "                    (fc2): Linear(in_features=512, out_features=16, bias=True)\n",
       "                    (drop2): Dropout(p=0.0, inplace=False)\n",
       "                  )\n",
       "                )\n",
       "                (attn_drop): Dropout(p=0.0, inplace=False)\n",
       "                (proj): Linear(in_features=512, out_features=512, bias=True)\n",
       "                (proj_drop): Dropout(p=0.0, inplace=False)\n",
       "              )\n",
       "              (ls1): LayerScale()\n",
       "              (drop_path1): Identity()\n",
       "              (norm2): LayerNorm((512,), eps=1e-06, elementwise_affine=True)\n",
       "              (mlp): Mlp(\n",
       "                (fc1): Linear(in_features=512, out_features=2048, bias=True)\n",
       "                (act): GELU()\n",
       "                (drop1): Dropout(p=0.0, inplace=False)\n",
       "                (norm): Identity()\n",
       "                (fc2): Linear(in_features=2048, out_features=512, bias=True)\n",
       "                (drop2): Dropout(p=0.0, inplace=False)\n",
       "              )\n",
       "              (ls2): LayerScale()\n",
       "              (drop_path2): Identity()\n",
       "            )\n",
       "          )\n",
       "          (9): MaxxVitBlock(\n",
       "            (conv): ConvNeXtBlock(\n",
       "              (shortcut): Identity()\n",
       "              (down): Identity()\n",
       "              (conv_dw): Conv2d(512, 512, kernel_size=(7, 7), stride=(1, 1), padding=(3, 3), groups=512)\n",
       "              (norm): LayerNorm2d((512,), eps=1e-06, elementwise_affine=True)\n",
       "              (mlp): ConvMlp(\n",
       "                (fc1): Conv2d(512, 2048, kernel_size=(1, 1), stride=(1, 1))\n",
       "                (norm): Identity()\n",
       "                (act): GELU()\n",
       "                (drop): Dropout(p=0.0, inplace=False)\n",
       "                (fc2): Conv2d(2048, 512, kernel_size=(1, 1), stride=(1, 1))\n",
       "              )\n",
       "              (ls): LayerScale2d()\n",
       "              (drop_path): Identity()\n",
       "            )\n",
       "            (attn_grid): PartitionAttentionCl(\n",
       "              (norm1): LayerNorm((512,), eps=1e-06, elementwise_affine=True)\n",
       "              (attn): AttentionCl(\n",
       "                (qkv): Linear(in_features=512, out_features=1536, bias=True)\n",
       "                (rel_pos): RelPosMlp(\n",
       "                  (bias_act): Identity()\n",
       "                  (mlp): Mlp(\n",
       "                    (fc1): Linear(in_features=2, out_features=512, bias=True)\n",
       "                    (act): ReLU()\n",
       "                    (drop1): Dropout(p=0.125, inplace=False)\n",
       "                    (norm): Identity()\n",
       "                    (fc2): Linear(in_features=512, out_features=16, bias=True)\n",
       "                    (drop2): Dropout(p=0.0, inplace=False)\n",
       "                  )\n",
       "                )\n",
       "                (attn_drop): Dropout(p=0.0, inplace=False)\n",
       "                (proj): Linear(in_features=512, out_features=512, bias=True)\n",
       "                (proj_drop): Dropout(p=0.0, inplace=False)\n",
       "              )\n",
       "              (ls1): LayerScale()\n",
       "              (drop_path1): Identity()\n",
       "              (norm2): LayerNorm((512,), eps=1e-06, elementwise_affine=True)\n",
       "              (mlp): Mlp(\n",
       "                (fc1): Linear(in_features=512, out_features=2048, bias=True)\n",
       "                (act): GELU()\n",
       "                (drop1): Dropout(p=0.0, inplace=False)\n",
       "                (norm): Identity()\n",
       "                (fc2): Linear(in_features=2048, out_features=512, bias=True)\n",
       "                (drop2): Dropout(p=0.0, inplace=False)\n",
       "              )\n",
       "              (ls2): LayerScale()\n",
       "              (drop_path2): Identity()\n",
       "            )\n",
       "          )\n",
       "          (10): MaxxVitBlock(\n",
       "            (conv): ConvNeXtBlock(\n",
       "              (shortcut): Identity()\n",
       "              (down): Identity()\n",
       "              (conv_dw): Conv2d(512, 512, kernel_size=(7, 7), stride=(1, 1), padding=(3, 3), groups=512)\n",
       "              (norm): LayerNorm2d((512,), eps=1e-06, elementwise_affine=True)\n",
       "              (mlp): ConvMlp(\n",
       "                (fc1): Conv2d(512, 2048, kernel_size=(1, 1), stride=(1, 1))\n",
       "                (norm): Identity()\n",
       "                (act): GELU()\n",
       "                (drop): Dropout(p=0.0, inplace=False)\n",
       "                (fc2): Conv2d(2048, 512, kernel_size=(1, 1), stride=(1, 1))\n",
       "              )\n",
       "              (ls): LayerScale2d()\n",
       "              (drop_path): Identity()\n",
       "            )\n",
       "            (attn_grid): PartitionAttentionCl(\n",
       "              (norm1): LayerNorm((512,), eps=1e-06, elementwise_affine=True)\n",
       "              (attn): AttentionCl(\n",
       "                (qkv): Linear(in_features=512, out_features=1536, bias=True)\n",
       "                (rel_pos): RelPosMlp(\n",
       "                  (bias_act): Identity()\n",
       "                  (mlp): Mlp(\n",
       "                    (fc1): Linear(in_features=2, out_features=512, bias=True)\n",
       "                    (act): ReLU()\n",
       "                    (drop1): Dropout(p=0.125, inplace=False)\n",
       "                    (norm): Identity()\n",
       "                    (fc2): Linear(in_features=512, out_features=16, bias=True)\n",
       "                    (drop2): Dropout(p=0.0, inplace=False)\n",
       "                  )\n",
       "                )\n",
       "                (attn_drop): Dropout(p=0.0, inplace=False)\n",
       "                (proj): Linear(in_features=512, out_features=512, bias=True)\n",
       "                (proj_drop): Dropout(p=0.0, inplace=False)\n",
       "              )\n",
       "              (ls1): LayerScale()\n",
       "              (drop_path1): Identity()\n",
       "              (norm2): LayerNorm((512,), eps=1e-06, elementwise_affine=True)\n",
       "              (mlp): Mlp(\n",
       "                (fc1): Linear(in_features=512, out_features=2048, bias=True)\n",
       "                (act): GELU()\n",
       "                (drop1): Dropout(p=0.0, inplace=False)\n",
       "                (norm): Identity()\n",
       "                (fc2): Linear(in_features=2048, out_features=512, bias=True)\n",
       "                (drop2): Dropout(p=0.0, inplace=False)\n",
       "              )\n",
       "              (ls2): LayerScale()\n",
       "              (drop_path2): Identity()\n",
       "            )\n",
       "          )\n",
       "          (11): MaxxVitBlock(\n",
       "            (conv): ConvNeXtBlock(\n",
       "              (shortcut): Identity()\n",
       "              (down): Identity()\n",
       "              (conv_dw): Conv2d(512, 512, kernel_size=(7, 7), stride=(1, 1), padding=(3, 3), groups=512)\n",
       "              (norm): LayerNorm2d((512,), eps=1e-06, elementwise_affine=True)\n",
       "              (mlp): ConvMlp(\n",
       "                (fc1): Conv2d(512, 2048, kernel_size=(1, 1), stride=(1, 1))\n",
       "                (norm): Identity()\n",
       "                (act): GELU()\n",
       "                (drop): Dropout(p=0.0, inplace=False)\n",
       "                (fc2): Conv2d(2048, 512, kernel_size=(1, 1), stride=(1, 1))\n",
       "              )\n",
       "              (ls): LayerScale2d()\n",
       "              (drop_path): Identity()\n",
       "            )\n",
       "            (attn_grid): PartitionAttentionCl(\n",
       "              (norm1): LayerNorm((512,), eps=1e-06, elementwise_affine=True)\n",
       "              (attn): AttentionCl(\n",
       "                (qkv): Linear(in_features=512, out_features=1536, bias=True)\n",
       "                (rel_pos): RelPosMlp(\n",
       "                  (bias_act): Identity()\n",
       "                  (mlp): Mlp(\n",
       "                    (fc1): Linear(in_features=2, out_features=512, bias=True)\n",
       "                    (act): ReLU()\n",
       "                    (drop1): Dropout(p=0.125, inplace=False)\n",
       "                    (norm): Identity()\n",
       "                    (fc2): Linear(in_features=512, out_features=16, bias=True)\n",
       "                    (drop2): Dropout(p=0.0, inplace=False)\n",
       "                  )\n",
       "                )\n",
       "                (attn_drop): Dropout(p=0.0, inplace=False)\n",
       "                (proj): Linear(in_features=512, out_features=512, bias=True)\n",
       "                (proj_drop): Dropout(p=0.0, inplace=False)\n",
       "              )\n",
       "              (ls1): LayerScale()\n",
       "              (drop_path1): Identity()\n",
       "              (norm2): LayerNorm((512,), eps=1e-06, elementwise_affine=True)\n",
       "              (mlp): Mlp(\n",
       "                (fc1): Linear(in_features=512, out_features=2048, bias=True)\n",
       "                (act): GELU()\n",
       "                (drop1): Dropout(p=0.0, inplace=False)\n",
       "                (norm): Identity()\n",
       "                (fc2): Linear(in_features=2048, out_features=512, bias=True)\n",
       "                (drop2): Dropout(p=0.0, inplace=False)\n",
       "              )\n",
       "              (ls2): LayerScale()\n",
       "              (drop_path2): Identity()\n",
       "            )\n",
       "          )\n",
       "        )\n",
       "      )\n",
       "      (3): MaxxVitStage(\n",
       "        (blocks): Sequential(\n",
       "          (0): MaxxVitBlock(\n",
       "            (conv): ConvNeXtBlock(\n",
       "              (shortcut): Downsample2d(\n",
       "                (pool): AvgPool2d(kernel_size=2, stride=2, padding=0)\n",
       "                (expand): Conv2d(512, 1024, kernel_size=(1, 1), stride=(1, 1))\n",
       "              )\n",
       "              (down): Identity()\n",
       "              (conv_dw): Conv2d(512, 1024, kernel_size=(7, 7), stride=(2, 2), padding=(3, 3), groups=512)\n",
       "              (norm): LayerNorm2d((1024,), eps=1e-06, elementwise_affine=True)\n",
       "              (mlp): ConvMlp(\n",
       "                (fc1): Conv2d(1024, 4096, kernel_size=(1, 1), stride=(1, 1))\n",
       "                (norm): Identity()\n",
       "                (act): GELU()\n",
       "                (drop): Dropout(p=0.0, inplace=False)\n",
       "                (fc2): Conv2d(4096, 1024, kernel_size=(1, 1), stride=(1, 1))\n",
       "              )\n",
       "              (ls): LayerScale2d()\n",
       "              (drop_path): Identity()\n",
       "            )\n",
       "            (attn_grid): PartitionAttentionCl(\n",
       "              (norm1): LayerNorm((1024,), eps=1e-06, elementwise_affine=True)\n",
       "              (attn): AttentionCl(\n",
       "                (qkv): Linear(in_features=1024, out_features=3072, bias=True)\n",
       "                (rel_pos): RelPosMlp(\n",
       "                  (bias_act): Identity()\n",
       "                  (mlp): Mlp(\n",
       "                    (fc1): Linear(in_features=2, out_features=512, bias=True)\n",
       "                    (act): ReLU()\n",
       "                    (drop1): Dropout(p=0.125, inplace=False)\n",
       "                    (norm): Identity()\n",
       "                    (fc2): Linear(in_features=512, out_features=32, bias=True)\n",
       "                    (drop2): Dropout(p=0.0, inplace=False)\n",
       "                  )\n",
       "                )\n",
       "                (attn_drop): Dropout(p=0.0, inplace=False)\n",
       "                (proj): Linear(in_features=1024, out_features=1024, bias=True)\n",
       "                (proj_drop): Dropout(p=0.0, inplace=False)\n",
       "              )\n",
       "              (ls1): LayerScale()\n",
       "              (drop_path1): Identity()\n",
       "              (norm2): LayerNorm((1024,), eps=1e-06, elementwise_affine=True)\n",
       "              (mlp): Mlp(\n",
       "                (fc1): Linear(in_features=1024, out_features=4096, bias=True)\n",
       "                (act): GELU()\n",
       "                (drop1): Dropout(p=0.0, inplace=False)\n",
       "                (norm): Identity()\n",
       "                (fc2): Linear(in_features=4096, out_features=1024, bias=True)\n",
       "                (drop2): Dropout(p=0.0, inplace=False)\n",
       "              )\n",
       "              (ls2): LayerScale()\n",
       "              (drop_path2): Identity()\n",
       "            )\n",
       "          )\n",
       "          (1): MaxxVitBlock(\n",
       "            (conv): ConvNeXtBlock(\n",
       "              (shortcut): Identity()\n",
       "              (down): Identity()\n",
       "              (conv_dw): Conv2d(1024, 1024, kernel_size=(7, 7), stride=(1, 1), padding=(3, 3), groups=1024)\n",
       "              (norm): LayerNorm2d((1024,), eps=1e-06, elementwise_affine=True)\n",
       "              (mlp): ConvMlp(\n",
       "                (fc1): Conv2d(1024, 4096, kernel_size=(1, 1), stride=(1, 1))\n",
       "                (norm): Identity()\n",
       "                (act): GELU()\n",
       "                (drop): Dropout(p=0.0, inplace=False)\n",
       "                (fc2): Conv2d(4096, 1024, kernel_size=(1, 1), stride=(1, 1))\n",
       "              )\n",
       "              (ls): LayerScale2d()\n",
       "              (drop_path): Identity()\n",
       "            )\n",
       "            (attn_grid): PartitionAttentionCl(\n",
       "              (norm1): LayerNorm((1024,), eps=1e-06, elementwise_affine=True)\n",
       "              (attn): AttentionCl(\n",
       "                (qkv): Linear(in_features=1024, out_features=3072, bias=True)\n",
       "                (rel_pos): RelPosMlp(\n",
       "                  (bias_act): Identity()\n",
       "                  (mlp): Mlp(\n",
       "                    (fc1): Linear(in_features=2, out_features=512, bias=True)\n",
       "                    (act): ReLU()\n",
       "                    (drop1): Dropout(p=0.125, inplace=False)\n",
       "                    (norm): Identity()\n",
       "                    (fc2): Linear(in_features=512, out_features=32, bias=True)\n",
       "                    (drop2): Dropout(p=0.0, inplace=False)\n",
       "                  )\n",
       "                )\n",
       "                (attn_drop): Dropout(p=0.0, inplace=False)\n",
       "                (proj): Linear(in_features=1024, out_features=1024, bias=True)\n",
       "                (proj_drop): Dropout(p=0.0, inplace=False)\n",
       "              )\n",
       "              (ls1): LayerScale()\n",
       "              (drop_path1): Identity()\n",
       "              (norm2): LayerNorm((1024,), eps=1e-06, elementwise_affine=True)\n",
       "              (mlp): Mlp(\n",
       "                (fc1): Linear(in_features=1024, out_features=4096, bias=True)\n",
       "                (act): GELU()\n",
       "                (drop1): Dropout(p=0.0, inplace=False)\n",
       "                (norm): Identity()\n",
       "                (fc2): Linear(in_features=4096, out_features=1024, bias=True)\n",
       "                (drop2): Dropout(p=0.0, inplace=False)\n",
       "              )\n",
       "              (ls2): LayerScale()\n",
       "              (drop_path2): Identity()\n",
       "            )\n",
       "          )\n",
       "        )\n",
       "      )\n",
       "    )\n",
       "    (norm): LayerNorm2d((1024,), eps=1e-06, elementwise_affine=True)\n",
       "    (head): ClassifierHead(\n",
       "      (global_pool): SelectAdaptivePool2d(pool_type=avg, flatten=Flatten(start_dim=1, end_dim=-1))\n",
       "      (drop): Dropout(p=0.0, inplace=False)\n",
       "      (fc): Linear(in_features=1024, out_features=14, bias=True)\n",
       "      (flatten): Identity()\n",
       "    )\n",
       "  )\n",
       ")"
      ]
     },
     "execution_count": 18,
     "metadata": {},
     "output_type": "execute_result"
    }
   ],
   "source": [
    "# Define the model\n",
    "class MultiLabelClassifier(nn.Module):\n",
    "    \"\"\"\n",
    "    Multi-Label Classification Model using MaxViT as the base model.\n",
    "    \"\"\"\n",
    "    def __init__(self, device, backbone, num_classes=len(disease_labels)):\n",
    "        super(MultiLabelClassifier, self).__init__()\n",
    "\n",
    "        # Load pre-trained MaxViT model\n",
    "        self.base_model = backbone.online_network.to(device)\n",
    "\n",
    "        # Replace the classification head to match the number of disease labels\n",
    "        self.base_model.head.fc = nn.Linear(1024, num_classes)\n",
    "\n",
    "    def forward(self, x):\n",
    "        return self.base_model(x)\n",
    "\n",
    "# Initialize the Model\n",
    "model = MultiLabelClassifier(device, byol_model)\n",
    "model.to(device)"
   ]
  },
  {
   "cell_type": "markdown",
   "metadata": {},
   "source": [
    "**Use Multiple GPUs**"
   ]
  },
  {
   "cell_type": "code",
   "execution_count": 19,
   "metadata": {},
   "outputs": [],
   "source": [
    "model = nn.DataParallel(model)"
   ]
  },
  {
   "cell_type": "markdown",
   "metadata": {},
   "source": [
    "# **Step 5: Train the Model**"
   ]
  },
  {
   "cell_type": "markdown",
   "metadata": {},
   "source": [
    "**Training Loop  Function**"
   ]
  },
  {
   "cell_type": "code",
   "execution_count": null,
   "metadata": {},
   "outputs": [],
   "source": [
    "def train_model(model, train_loader, val_loader, criterion, optimizer, patience, epochs=10):\n",
    "\n",
    "    \"\"\"\n",
    "    Trains the model and evaluates it on the validation set after each epoch.\n",
    "    \"\"\"\n",
    "    # List to store loss and AUC\n",
    "    train_losses = []\n",
    "    val_losses = []\n",
    "    val_aucs = []\n",
    "\n",
    "    # Early stopping parameters\n",
    "    best_score = 0\n",
    "    epochs_without_improvement = 0\n",
    "\n",
    "    for epoch in range(epochs):\n",
    "\n",
    "        # Training\n",
    "        model.train()\n",
    "        train_loss = 0.0\n",
    "\n",
    "        # Progress bar\n",
    "        progress_bar = tqdm(train_loader, desc=f\"Epoch {epoch+1}/{epochs}\")\n",
    "\n",
    "        for inputs, labels in progress_bar:\n",
    "            inputs, labels = inputs.to(device), labels.to(device)\n",
    "\n",
    "            # Clear gradients\n",
    "            optimizer.zero_grad()\n",
    "\n",
    "            # Forward pass\n",
    "            outputs = model(inputs)\n",
    "\n",
    "            # Compute loss\n",
    "            loss = criterion(outputs, labels)\n",
    "\n",
    "            # Backward pass\n",
    "            loss.backward()\n",
    "            optimizer.step()\n",
    "\n",
    "            train_loss += loss.item() * inputs.size(0)\n",
    "            progress_bar.set_postfix({\"Loss\": loss.item()})\n",
    "\n",
    "        # Calculate average training loss\n",
    "        train_loss /= len(train_loader.dataset)\n",
    "        train_losses.append(train_loss)\n",
    "\n",
    "        # Validation\n",
    "        model.eval()\n",
    "        val_loss = 0.0\n",
    "        all_labels = []\n",
    "        all_preds = []\n",
    "\n",
    "        # Progress bar\n",
    "        progress_bar = tqdm(val_loader, desc=f\"Epoch {epoch+1}/{epochs}\")\n",
    "\n",
    "        # Disable gradients for evaluation\n",
    "        with torch.no_grad():\n",
    "            for inputs, labels in progress_bar:\n",
    "                \n",
    "                # Retrieve input sizes\n",
    "                batch_size, ncrops, C, H, W = inputs.size()\n",
    "\n",
    "                # Move to device\n",
    "                inputs, labels = inputs.to(device), labels.to(device)\n",
    "\n",
    "                # Change to [batch_size * ncrops, C, H, W]\n",
    "                inputs = inputs.view(-1, C, H, W)  \n",
    "\n",
    "                # Forward pass\n",
    "                outputs = model(inputs)\n",
    "\n",
    "                # Change to [batch_size * ncrops, C, H, W] and average\n",
    "                outputs = outputs.view(batch_size, ncrops, -1).mean(1)\n",
    "\n",
    "                # Compute loss\n",
    "                loss = criterion(outputs, labels)\n",
    "                \n",
    "                val_loss += loss.item() * inputs.size(0)\n",
    "\n",
    "                # Apply sigmoid\n",
    "                preds = torch.sigmoid(outputs).cpu()\n",
    "\n",
    "                # Store predictions and true labels\n",
    "                all_preds.append(preds)\n",
    "                all_labels.append(labels.cpu())\n",
    "                \n",
    "                progress_bar.set_postfix({\"Loss\": loss.item()})\n",
    "\n",
    "        # Calculate average validation loss\n",
    "        val_loss /= (len(val_loader.dataset)*10)\n",
    "        val_losses.append(val_loss)\n",
    "\n",
    "        # Concatenate all batches\n",
    "        preds = torch.cat(all_preds)\n",
    "        labels = torch.cat(all_labels)\n",
    "    \n",
    "        roc_auc_per_label = []\n",
    "\n",
    "        # Compute metrics for each label\n",
    "        for i, label in enumerate(disease_labels):\n",
    "\n",
    "            # Calculate ROC AUC\n",
    "            roc_auc = roc_auc_score(labels[:, i].numpy(), preds[:, i].numpy())\n",
    "            roc_auc_per_label.append(roc_auc)\n",
    "\n",
    "        # Calculate and add overall metrics\n",
    "        mean_auc = np.mean(roc_auc_per_label)\n",
    "        val_aucs.append(mean_auc)\n",
    "\n",
    "        # Update the scheduler\n",
    "        scheduler.step(val_loss)\n",
    "        \n",
    "        print(f\"Epoch {epoch+1}/{epochs} | Training Loss: {train_loss:.4f} | \"\n",
    "              f\"Validation Loss: {val_loss:.4f} | Validation mAUC: {mean_auc:.4f}\")\n",
    "\n",
    "        # Early stopping\n",
    "        if mean_auc > best_score:\n",
    "            best_score = mean_auc\n",
    "            epochs_without_improvement = 0\n",
    "            torch.save(model.state_dict(), 'maxvit_byol_finetuning.pt')\n",
    "            print(f\"New best model with Validation mAUC: {mean_auc:.4f}\")\n",
    "        else:\n",
    "            epochs_without_improvement += 1\n",
    "            if epochs_without_improvement >= patience:\n",
    "                print(f\"Early stopping.\")\n",
    "                break\n",
    "\n",
    "    # Load the best model\n",
    "    model.load_state_dict(torch.load('maxvit_byol_finetuning.pt', weights_only=True))\n",
    "\n",
    "    return train_losses, val_losses, val_aucs"
   ]
  },
  {
   "cell_type": "markdown",
   "metadata": {},
   "source": [
    "### **Step 1: Train Classification Head Only**"
   ]
  },
  {
   "cell_type": "markdown",
   "metadata": {},
   "source": [
    "**Freeze the Backbone Parameters**"
   ]
  },
  {
   "cell_type": "code",
   "execution_count": 21,
   "metadata": {},
   "outputs": [],
   "source": [
    "for name, param in model.named_parameters():\n",
    "    if \"head.fc\" not in name:\n",
    "        param.requires_grad = False"
   ]
  },
  {
   "cell_type": "markdown",
   "metadata": {},
   "source": [
    "**Initialize Loss Function, Optimizer and Scheduler**"
   ]
  },
  {
   "cell_type": "code",
   "execution_count": 22,
   "metadata": {},
   "outputs": [],
   "source": [
    "criterion = nn.BCEWithLogitsLoss()\n",
    "optimizer_head = optim.AdamW(model.parameters(), lr=LEARNING_RATE)\n",
    "scheduler = torch.optim.lr_scheduler.ReduceLROnPlateau(optimizer_head, factor=LEARNING_RATE_SCHEDULER_FACTOR, patience=LEARNING_RATE_SCHEDULER_PATIENCE, mode=LEARNING_RATE_SCHEDULER_MODE)"
   ]
  },
  {
   "cell_type": "markdown",
   "metadata": {},
   "source": [
    "**Train the Model**"
   ]
  },
  {
   "cell_type": "code",
   "execution_count": 23,
   "metadata": {},
   "outputs": [
    {
     "name": "stderr",
     "output_type": "stream",
     "text": [
      "Epoch 1/3:   0%|          | 0/2457 [00:00<?, ?it/s]"
     ]
    },
    {
     "name": "stderr",
     "output_type": "stream",
     "text": [
      "Epoch 1/3: 100%|██████████| 2457/2457 [02:28<00:00, 16.58it/s, Loss=0.226] \n",
      "Epoch 1/3: 100%|██████████| 351/351 [02:38<00:00,  2.22it/s, Loss=0.152] \n"
     ]
    },
    {
     "name": "stdout",
     "output_type": "stream",
     "text": [
      "Epoch 1/3 | Training Loss: 0.1814 | Validation Loss: 0.1763 | Validation mAUC: 0.6419\n",
      "New best model with Validation mAUC: 0.6419\n"
     ]
    },
    {
     "name": "stderr",
     "output_type": "stream",
     "text": [
      "Epoch 2/3: 100%|██████████| 2457/2457 [02:20<00:00, 17.52it/s, Loss=0.215] \n",
      "Epoch 2/3: 100%|██████████| 351/351 [02:33<00:00,  2.28it/s, Loss=0.143] \n"
     ]
    },
    {
     "name": "stdout",
     "output_type": "stream",
     "text": [
      "Epoch 2/3 | Training Loss: 0.1794 | Validation Loss: 0.1759 | Validation mAUC: 0.6559\n",
      "New best model with Validation mAUC: 0.6559\n"
     ]
    },
    {
     "name": "stderr",
     "output_type": "stream",
     "text": [
      "Epoch 3/3: 100%|██████████| 2457/2457 [02:19<00:00, 17.66it/s, Loss=0.13]  \n",
      "Epoch 3/3: 100%|██████████| 351/351 [02:33<00:00,  2.28it/s, Loss=0.151] \n"
     ]
    },
    {
     "name": "stdout",
     "output_type": "stream",
     "text": [
      "Epoch 3/3 | Training Loss: 0.1785 | Validation Loss: 0.1763 | Validation mAUC: 0.6669\n",
      "New best model with Validation mAUC: 0.6669\n"
     ]
    }
   ],
   "source": [
    "train_losses_1, val_losses_1, val_aucs_1 = train_model(model, train_loader, val_loader, criterion, optimizer_head, EARLY_STOPPING_PATIENCE, EPOCHS)"
   ]
  },
  {
   "cell_type": "markdown",
   "metadata": {},
   "source": [
    "### **Step 2: Fine Tune Entire Network**"
   ]
  },
  {
   "cell_type": "markdown",
   "metadata": {},
   "source": [
    "**Unfreeze All Layers**"
   ]
  },
  {
   "cell_type": "code",
   "execution_count": 24,
   "metadata": {},
   "outputs": [],
   "source": [
    "for param in model.parameters():\n",
    "    param.requires_grad = True"
   ]
  },
  {
   "cell_type": "markdown",
   "metadata": {},
   "source": [
    "**Initialize Optimizer and Scheduler**"
   ]
  },
  {
   "cell_type": "code",
   "execution_count": 25,
   "metadata": {},
   "outputs": [],
   "source": [
    "optimizer_full = optim.AdamW(model.parameters(), lr=LEARNING_RATE_FINE_TUNING)\n",
    "scheduler = torch.optim.lr_scheduler.ReduceLROnPlateau(optimizer_full, factor=LEARNING_RATE_SCHEDULER_FACTOR, patience=LEARNING_RATE_SCHEDULER_PATIENCE, mode=LEARNING_RATE_SCHEDULER_MODE)"
   ]
  },
  {
   "cell_type": "markdown",
   "metadata": {},
   "source": [
    "**Train the Model**"
   ]
  },
  {
   "cell_type": "code",
   "execution_count": 26,
   "metadata": {},
   "outputs": [
    {
     "name": "stderr",
     "output_type": "stream",
     "text": [
      "Epoch 1/100: 100%|██████████| 2457/2457 [07:35<00:00,  5.39it/s, Loss=0.12]  \n",
      "Epoch 1/100: 100%|██████████| 351/351 [02:34<00:00,  2.26it/s, Loss=0.138] \n"
     ]
    },
    {
     "name": "stdout",
     "output_type": "stream",
     "text": [
      "Epoch 1/100 | Training Loss: 0.1602 | Validation Loss: 0.1494 | Validation mAUC: 0.8194\n",
      "New best model with Validation mAUC: 0.8194\n"
     ]
    },
    {
     "name": "stderr",
     "output_type": "stream",
     "text": [
      "Epoch 2/100: 100%|██████████| 2457/2457 [07:41<00:00,  5.32it/s, Loss=0.105] \n",
      "Epoch 2/100: 100%|██████████| 351/351 [02:36<00:00,  2.24it/s, Loss=0.119] \n"
     ]
    },
    {
     "name": "stdout",
     "output_type": "stream",
     "text": [
      "Epoch 2/100 | Training Loss: 0.1489 | Validation Loss: 0.1460 | Validation mAUC: 0.8371\n",
      "New best model with Validation mAUC: 0.8371\n"
     ]
    },
    {
     "name": "stderr",
     "output_type": "stream",
     "text": [
      "Epoch 3/100: 100%|██████████| 2457/2457 [07:37<00:00,  5.37it/s, Loss=0.248] \n",
      "Epoch 3/100: 100%|██████████| 351/351 [02:35<00:00,  2.26it/s, Loss=0.127] \n"
     ]
    },
    {
     "name": "stdout",
     "output_type": "stream",
     "text": [
      "Epoch 3/100 | Training Loss: 0.1447 | Validation Loss: 0.1438 | Validation mAUC: 0.8412\n",
      "New best model with Validation mAUC: 0.8412\n"
     ]
    },
    {
     "name": "stderr",
     "output_type": "stream",
     "text": [
      "Epoch 4/100: 100%|██████████| 2457/2457 [07:38<00:00,  5.36it/s, Loss=0.106] \n",
      "Epoch 4/100: 100%|██████████| 351/351 [02:36<00:00,  2.24it/s, Loss=0.128] \n"
     ]
    },
    {
     "name": "stdout",
     "output_type": "stream",
     "text": [
      "Epoch 4/100 | Training Loss: 0.1411 | Validation Loss: 0.1459 | Validation mAUC: 0.8491\n",
      "New best model with Validation mAUC: 0.8491\n"
     ]
    },
    {
     "name": "stderr",
     "output_type": "stream",
     "text": [
      "Epoch 5/100: 100%|██████████| 2457/2457 [07:44<00:00,  5.29it/s, Loss=0.176] \n",
      "Epoch 5/100: 100%|██████████| 351/351 [02:35<00:00,  2.26it/s, Loss=0.128] \n"
     ]
    },
    {
     "name": "stdout",
     "output_type": "stream",
     "text": [
      "Epoch 5/100 | Training Loss: 0.1382 | Validation Loss: 0.1419 | Validation mAUC: 0.8519\n",
      "New best model with Validation mAUC: 0.8519\n"
     ]
    },
    {
     "name": "stderr",
     "output_type": "stream",
     "text": [
      "Epoch 6/100: 100%|██████████| 2457/2457 [07:39<00:00,  5.35it/s, Loss=0.221] \n",
      "Epoch 6/100: 100%|██████████| 351/351 [02:35<00:00,  2.26it/s, Loss=0.13]  \n"
     ]
    },
    {
     "name": "stdout",
     "output_type": "stream",
     "text": [
      "Epoch 6/100 | Training Loss: 0.1349 | Validation Loss: 0.1409 | Validation mAUC: 0.8538\n",
      "New best model with Validation mAUC: 0.8538\n"
     ]
    },
    {
     "name": "stderr",
     "output_type": "stream",
     "text": [
      "Epoch 7/100: 100%|██████████| 2457/2457 [07:37<00:00,  5.37it/s, Loss=0.16]  \n",
      "Epoch 7/100: 100%|██████████| 351/351 [02:35<00:00,  2.26it/s, Loss=0.113] \n"
     ]
    },
    {
     "name": "stdout",
     "output_type": "stream",
     "text": [
      "Epoch 7/100 | Training Loss: 0.1313 | Validation Loss: 0.1396 | Validation mAUC: 0.8554\n",
      "New best model with Validation mAUC: 0.8554\n"
     ]
    },
    {
     "name": "stderr",
     "output_type": "stream",
     "text": [
      "Epoch 8/100: 100%|██████████| 2457/2457 [07:43<00:00,  5.30it/s, Loss=0.131] \n",
      "Epoch 8/100: 100%|██████████| 351/351 [02:35<00:00,  2.25it/s, Loss=0.113] \n"
     ]
    },
    {
     "name": "stdout",
     "output_type": "stream",
     "text": [
      "Epoch 8/100 | Training Loss: 0.1272 | Validation Loss: 0.1430 | Validation mAUC: 0.8502\n"
     ]
    },
    {
     "name": "stderr",
     "output_type": "stream",
     "text": [
      "Epoch 9/100: 100%|██████████| 2457/2457 [07:38<00:00,  5.36it/s, Loss=0.113] \n",
      "Epoch 9/100: 100%|██████████| 351/351 [02:35<00:00,  2.26it/s, Loss=0.12]  \n"
     ]
    },
    {
     "name": "stdout",
     "output_type": "stream",
     "text": [
      "Epoch 9/100 | Training Loss: 0.1221 | Validation Loss: 0.1443 | Validation mAUC: 0.8493\n"
     ]
    },
    {
     "name": "stderr",
     "output_type": "stream",
     "text": [
      "Epoch 10/100: 100%|██████████| 2457/2457 [07:34<00:00,  5.40it/s, Loss=0.1]   \n",
      "Epoch 10/100: 100%|██████████| 351/351 [02:36<00:00,  2.25it/s, Loss=0.138] \n"
     ]
    },
    {
     "name": "stdout",
     "output_type": "stream",
     "text": [
      "Epoch 10/100 | Training Loss: 0.1040 | Validation Loss: 0.1550 | Validation mAUC: 0.8393\n"
     ]
    },
    {
     "name": "stderr",
     "output_type": "stream",
     "text": [
      "Epoch 11/100: 100%|██████████| 2457/2457 [07:33<00:00,  5.41it/s, Loss=0.143] \n",
      "Epoch 11/100: 100%|██████████| 351/351 [02:35<00:00,  2.26it/s, Loss=0.141] \n"
     ]
    },
    {
     "name": "stdout",
     "output_type": "stream",
     "text": [
      "Epoch 11/100 | Training Loss: 0.0967 | Validation Loss: 0.1597 | Validation mAUC: 0.8296\n"
     ]
    },
    {
     "name": "stderr",
     "output_type": "stream",
     "text": [
      "Epoch 12/100: 100%|██████████| 2457/2457 [07:39<00:00,  5.34it/s, Loss=0.0999]\n",
      "Epoch 12/100: 100%|██████████| 351/351 [02:35<00:00,  2.26it/s, Loss=0.145] \n"
     ]
    },
    {
     "name": "stdout",
     "output_type": "stream",
     "text": [
      "Epoch 12/100 | Training Loss: 0.0913 | Validation Loss: 0.1645 | Validation mAUC: 0.8266\n"
     ]
    },
    {
     "name": "stderr",
     "output_type": "stream",
     "text": [
      "Epoch 13/100: 100%|██████████| 2457/2457 [07:40<00:00,  5.34it/s, Loss=0.0634]\n",
      "Epoch 13/100: 100%|██████████| 351/351 [02:35<00:00,  2.26it/s, Loss=0.147] \n"
     ]
    },
    {
     "name": "stdout",
     "output_type": "stream",
     "text": [
      "Epoch 13/100 | Training Loss: 0.0906 | Validation Loss: 0.1656 | Validation mAUC: 0.8247\n"
     ]
    },
    {
     "name": "stderr",
     "output_type": "stream",
     "text": [
      "Epoch 14/100: 100%|██████████| 2457/2457 [07:38<00:00,  5.36it/s, Loss=0.0631]\n",
      "Epoch 14/100: 100%|██████████| 351/351 [02:36<00:00,  2.24it/s, Loss=0.147] \n"
     ]
    },
    {
     "name": "stdout",
     "output_type": "stream",
     "text": [
      "Epoch 14/100 | Training Loss: 0.0897 | Validation Loss: 0.1660 | Validation mAUC: 0.8245\n"
     ]
    },
    {
     "name": "stderr",
     "output_type": "stream",
     "text": [
      "Epoch 15/100: 100%|██████████| 2457/2457 [07:41<00:00,  5.32it/s, Loss=0.108] \n",
      "Epoch 15/100: 100%|██████████| 351/351 [02:37<00:00,  2.23it/s, Loss=0.148] \n"
     ]
    },
    {
     "name": "stdout",
     "output_type": "stream",
     "text": [
      "Epoch 15/100 | Training Loss: 0.0896 | Validation Loss: 0.1663 | Validation mAUC: 0.8244\n"
     ]
    },
    {
     "name": "stderr",
     "output_type": "stream",
     "text": [
      "Epoch 16/100: 100%|██████████| 2457/2457 [07:37<00:00,  5.38it/s, Loss=0.0799]\n",
      "Epoch 16/100: 100%|██████████| 351/351 [02:35<00:00,  2.26it/s, Loss=0.148] \n"
     ]
    },
    {
     "name": "stdout",
     "output_type": "stream",
     "text": [
      "Epoch 16/100 | Training Loss: 0.0897 | Validation Loss: 0.1663 | Validation mAUC: 0.8243\n"
     ]
    },
    {
     "name": "stderr",
     "output_type": "stream",
     "text": [
      "Epoch 17/100: 100%|██████████| 2457/2457 [07:40<00:00,  5.33it/s, Loss=0.0842]\n",
      "Epoch 17/100: 100%|██████████| 351/351 [02:36<00:00,  2.25it/s, Loss=0.148] \n"
     ]
    },
    {
     "name": "stdout",
     "output_type": "stream",
     "text": [
      "Epoch 17/100 | Training Loss: 0.0898 | Validation Loss: 0.1663 | Validation mAUC: 0.8243\n",
      "Early stopping.\n"
     ]
    }
   ],
   "source": [
    "train_losses_2, val_losses_2, val_aucs_2 = train_model(model, train_loader, val_loader, criterion, optimizer_full, EARLY_STOPPING_PATIENCE, EPOCHS_FINE_TUNING)"
   ]
  },
  {
   "cell_type": "markdown",
   "metadata": {},
   "source": [
    "# **Step 6: Evaluate the Model**"
   ]
  },
  {
   "cell_type": "markdown",
   "metadata": {},
   "source": [
    "**Evaluate the Model on Test Set**"
   ]
  },
  {
   "cell_type": "code",
   "execution_count": 27,
   "metadata": {},
   "outputs": [
    {
     "name": "stderr",
     "output_type": "stream",
     "text": [
      "Evaluating on Test Set:   0%|          | 0/697 [00:00<?, ?it/s]"
     ]
    },
    {
     "name": "stderr",
     "output_type": "stream",
     "text": [
      "Evaluating on Test Set: 100%|██████████| 697/697 [05:07<00:00,  2.27it/s]\n"
     ]
    }
   ],
   "source": [
    "def evaluate_model(model, test_loader):\n",
    "    \"\"\"\n",
    "    Evaluate the model on the test set.\n",
    "    \"\"\"\n",
    "\n",
    "    # Store all predictions\n",
    "    all_preds = []\n",
    "    all_labels = []\n",
    "\n",
    "    # Progress bar\n",
    "    progress_bar = tqdm(test_loader, desc=\"Evaluating on Test Set\")\n",
    "\n",
    "    # Set to evaluation mode\n",
    "    model.eval()\n",
    "\n",
    "    # Disable gradients for evaluation\n",
    "    with torch.no_grad():\n",
    "        for inputs, labels in progress_bar:\n",
    "            # Retrieve input sizes\n",
    "            batch_size, ncrops, C, H, W = inputs.size()\n",
    "\n",
    "            # Move to device\n",
    "            inputs, labels = inputs.to(device), labels.to(device)\n",
    "\n",
    "            # Change to [batch_size * ncrops, C, H, W]\n",
    "            inputs = inputs.view(-1, C, H, W)  \n",
    "\n",
    "            # Forward pass\n",
    "            outputs = model(inputs)\n",
    "\n",
    "            # Change to [batch_size * ncrops, C, H, W] and average\n",
    "            outputs = outputs.view(batch_size, ncrops, -1).mean(1)\n",
    "\n",
    "            # Apply sigmoid\n",
    "            predictions = torch.sigmoid(outputs)\n",
    "\n",
    "            # Store predictions and true labels\n",
    "            all_preds.append(predictions.cpu())\n",
    "            all_labels.append(labels.cpu())\n",
    "\n",
    "    # Concatenate all batches\n",
    "    predictions = torch.cat(all_preds)\n",
    "    labels = torch.cat(all_labels)\n",
    "    \n",
    "    return predictions, labels\n",
    "\n",
    "# Retrive predictions and true labels\n",
    "predictions, labels = evaluate_model(model, test_loader)"
   ]
  },
  {
   "cell_type": "markdown",
   "metadata": {},
   "source": [
    "**Compute Metrics for Each Label**"
   ]
  },
  {
   "cell_type": "code",
   "execution_count": 28,
   "metadata": {},
   "outputs": [],
   "source": [
    "# Dictionaries for storing metrics\n",
    "accuracy_per_label, f1_score_per_label, mean_auc_per_label = {}, {}, {}\n",
    "\n",
    "# Compute metrics for each label\n",
    "for i, label in enumerate(disease_labels):\n",
    "\n",
    "    # Create binary predictions\n",
    "    binary_predictions = predictions[:, i] > 0.5\n",
    "\n",
    "    # Calculate accuracy\n",
    "    accuracy_per_label[label] = accuracy_score(labels[:, i], binary_predictions)\n",
    "\n",
    "    # Calculate f1 score\n",
    "    f1_score_per_label[label] = f1_score(labels[:, i], binary_predictions, average='macro')\n",
    "\n",
    "    # Calculate mAUC\n",
    "    mean_auc_per_label[label] = roc_auc_score(labels[:, i], predictions[:, i])\n",
    "\n",
    "# Create a df with metrics\n",
    "metrics_df = pd.DataFrame({\n",
    "    'Accuracy': accuracy_per_label,\n",
    "    'F1 Score': f1_score_per_label,\n",
    "    'mAUC': mean_auc_per_label\n",
    "})\n",
    "\n",
    "# Calculate the mean for all diseases\n",
    "metrics_df.loc['Overall'] = metrics_df.mean()"
   ]
  },
  {
   "cell_type": "markdown",
   "metadata": {},
   "source": [
    "**Print Metrics**"
   ]
  },
  {
   "cell_type": "code",
   "execution_count": 29,
   "metadata": {},
   "outputs": [
    {
     "data": {
      "text/html": [
       "<div>\n",
       "<style scoped>\n",
       "    .dataframe tbody tr th:only-of-type {\n",
       "        vertical-align: middle;\n",
       "    }\n",
       "\n",
       "    .dataframe tbody tr th {\n",
       "        vertical-align: top;\n",
       "    }\n",
       "\n",
       "    .dataframe thead th {\n",
       "        text-align: right;\n",
       "    }\n",
       "</style>\n",
       "<table border=\"1\" class=\"dataframe\">\n",
       "  <thead>\n",
       "    <tr style=\"text-align: right;\">\n",
       "      <th></th>\n",
       "      <th>Accuracy</th>\n",
       "      <th>F1 Score</th>\n",
       "      <th>mAUC</th>\n",
       "    </tr>\n",
       "  </thead>\n",
       "  <tbody>\n",
       "    <tr>\n",
       "      <th>Atelectasis</th>\n",
       "      <td>0.904862</td>\n",
       "      <td>0.578544</td>\n",
       "      <td>0.830841</td>\n",
       "    </tr>\n",
       "    <tr>\n",
       "      <th>Consolidation</th>\n",
       "      <td>0.956805</td>\n",
       "      <td>0.500125</td>\n",
       "      <td>0.828748</td>\n",
       "    </tr>\n",
       "    <tr>\n",
       "      <th>Infiltration</th>\n",
       "      <td>0.807796</td>\n",
       "      <td>0.604749</td>\n",
       "      <td>0.715588</td>\n",
       "    </tr>\n",
       "    <tr>\n",
       "      <th>Pneumothorax</th>\n",
       "      <td>0.955369</td>\n",
       "      <td>0.533393</td>\n",
       "      <td>0.890402</td>\n",
       "    </tr>\n",
       "    <tr>\n",
       "      <th>Edema</th>\n",
       "      <td>0.977662</td>\n",
       "      <td>0.544887</td>\n",
       "      <td>0.895318</td>\n",
       "    </tr>\n",
       "    <tr>\n",
       "      <th>Emphysema</th>\n",
       "      <td>0.976496</td>\n",
       "      <td>0.604153</td>\n",
       "      <td>0.934017</td>\n",
       "    </tr>\n",
       "    <tr>\n",
       "      <th>Fibrosis</th>\n",
       "      <td>0.983673</td>\n",
       "      <td>0.519443</td>\n",
       "      <td>0.819438</td>\n",
       "    </tr>\n",
       "    <tr>\n",
       "      <th>Effusion</th>\n",
       "      <td>0.899659</td>\n",
       "      <td>0.707679</td>\n",
       "      <td>0.885583</td>\n",
       "    </tr>\n",
       "    <tr>\n",
       "      <th>Pneumonia</th>\n",
       "      <td>0.986813</td>\n",
       "      <td>0.496681</td>\n",
       "      <td>0.762022</td>\n",
       "    </tr>\n",
       "    <tr>\n",
       "      <th>Pleural_Thickening</th>\n",
       "      <td>0.969633</td>\n",
       "      <td>0.508024</td>\n",
       "      <td>0.806393</td>\n",
       "    </tr>\n",
       "    <tr>\n",
       "      <th>Cardiomegaly</th>\n",
       "      <td>0.972190</td>\n",
       "      <td>0.577380</td>\n",
       "      <td>0.917218</td>\n",
       "    </tr>\n",
       "    <tr>\n",
       "      <th>Nodule</th>\n",
       "      <td>0.941868</td>\n",
       "      <td>0.544155</td>\n",
       "      <td>0.797685</td>\n",
       "    </tr>\n",
       "    <tr>\n",
       "      <th>Mass</th>\n",
       "      <td>0.950211</td>\n",
       "      <td>0.653136</td>\n",
       "      <td>0.861457</td>\n",
       "    </tr>\n",
       "    <tr>\n",
       "      <th>Hernia</th>\n",
       "      <td>0.998116</td>\n",
       "      <td>0.660819</td>\n",
       "      <td>0.949678</td>\n",
       "    </tr>\n",
       "    <tr>\n",
       "      <th>Overall</th>\n",
       "      <td>0.948654</td>\n",
       "      <td>0.573798</td>\n",
       "      <td>0.849599</td>\n",
       "    </tr>\n",
       "  </tbody>\n",
       "</table>\n",
       "</div>"
      ],
      "text/plain": [
       "                    Accuracy  F1 Score      mAUC\n",
       "Atelectasis         0.904862  0.578544  0.830841\n",
       "Consolidation       0.956805  0.500125  0.828748\n",
       "Infiltration        0.807796  0.604749  0.715588\n",
       "Pneumothorax        0.955369  0.533393  0.890402\n",
       "Edema               0.977662  0.544887  0.895318\n",
       "Emphysema           0.976496  0.604153  0.934017\n",
       "Fibrosis            0.983673  0.519443  0.819438\n",
       "Effusion            0.899659  0.707679  0.885583\n",
       "Pneumonia           0.986813  0.496681  0.762022\n",
       "Pleural_Thickening  0.969633  0.508024  0.806393\n",
       "Cardiomegaly        0.972190  0.577380  0.917218\n",
       "Nodule              0.941868  0.544155  0.797685\n",
       "Mass                0.950211  0.653136  0.861457\n",
       "Hernia              0.998116  0.660819  0.949678\n",
       "Overall             0.948654  0.573798  0.849599"
      ]
     },
     "execution_count": 29,
     "metadata": {},
     "output_type": "execute_result"
    }
   ],
   "source": [
    "metrics_df"
   ]
  },
  {
   "cell_type": "markdown",
   "metadata": {},
   "source": [
    "**Plot ROC curves for each label**"
   ]
  },
  {
   "cell_type": "code",
   "execution_count": 30,
   "metadata": {},
   "outputs": [
    {
     "data": {
      "image/png": "[encoded data removed]",
      "text/plain": [
       "<Figure size 1000x800 with 1 Axes>"
      ]
     },
     "metadata": {},
     "output_type": "display_data"
    }
   ],
   "source": [
    "plt.figure(figsize=(10, 8))\n",
    "for i, label in enumerate(disease_labels):\n",
    "    fpr, tpr, _ = roc_curve(labels[:, i], predictions[:, i])\n",
    "    plt.plot(fpr, tpr, label=f\"{label} (AUC = {mean_auc_per_label[label]:.2f})\")\n",
    "\n",
    "plt.plot([0, 1], [0, 1], linestyle='--', color='black', label=\"Random Guess\")\n",
    "plt.xlabel('False Positive Rate (FPR)')\n",
    "plt.ylabel('True Positive Rate (TPR)')\n",
    "plt.title('ROC Curves for Each Disease')\n",
    "plt.legend(loc='lower right')\n",
    "plt.show()"
   ]
  },
  {
   "cell_type": "markdown",
   "metadata": {},
   "source": [
    "**Plot Training and Validation Loss**"
   ]
  },
  {
   "cell_type": "code",
   "execution_count": 31,
   "metadata": {},
   "outputs": [
    {
     "data": {
      "image/png": "[encoded data removed]",
      "text/plain": [
       "<Figure size 1000x600 with 1 Axes>"
      ]
     },
     "metadata": {},
     "output_type": "display_data"
    }
   ],
   "source": [
    "plt.figure(figsize=(10, 6))\n",
    "plt.plot(train_losses_1 + train_losses_2, label='Training Loss', color='deepskyblue')\n",
    "plt.plot(val_losses_1 + val_losses_2, label='Validation Loss', color='navy')\n",
    "plt.xlabel('Epoch')\n",
    "plt.ylabel('Loss')\n",
    "plt.title('Training and Validation Loss Over Epochs')\n",
    "plt.legend()\n",
    "plt.grid(True)\n",
    "plt.show()"
   ]
  },
  {
   "cell_type": "markdown",
   "metadata": {},
   "source": [
    "**Plot Training and Validation Loss only Fine-tuning**"
   ]
  },
  {
   "cell_type": "code",
   "execution_count": 32,
   "metadata": {},
   "outputs": [
    {
     "data": {
      "image/png": "[encoded data removed]",
      "text/plain": [
       "<Figure size 1000x600 with 1 Axes>"
      ]
     },
     "metadata": {},
     "output_type": "display_data"
    }
   ],
   "source": [
    "plt.figure(figsize=(10, 6))\n",
    "plt.plot(train_losses_2, label='Training Loss', color='deepskyblue')\n",
    "plt.plot(val_losses_2, label='Validation Loss', color='navy')\n",
    "plt.xlabel('Epoch')\n",
    "plt.ylabel('Loss')\n",
    "plt.title('Training and Validation Loss Over Epochs')\n",
    "plt.legend()\n",
    "plt.grid(True)\n",
    "plt.show()"
   ]
  },
  {
   "cell_type": "markdown",
   "metadata": {},
   "source": [
    "**Plot Validation AUC**"
   ]
  },
  {
   "cell_type": "code",
   "execution_count": 33,
   "metadata": {},
   "outputs": [
    {
     "data": {
      "image/png": "[encoded data removed]",
      "text/plain": [
       "<Figure size 1000x600 with 1 Axes>"
      ]
     },
     "metadata": {},
     "output_type": "display_data"
    }
   ],
   "source": [
    "plt.figure(figsize=(10, 6))\n",
    "plt.plot(val_aucs_2, label='Validation AUC', color='navy')\n",
    "plt.xlabel('Epoch')\n",
    "plt.ylabel('AUC')\n",
    "plt.title('Validation ROC AUC Over Epochs')\n",
    "plt.legend()\n",
    "plt.grid(True)\n",
    "plt.show()"
   ]
  },
  {
   "cell_type": "markdown",
   "metadata": {},
   "source": [
    "**Plot Validation AUC only Fine-tuning**"
   ]
  },
  {
   "cell_type": "code",
   "execution_count": 34,
   "metadata": {},
   "outputs": [
    {
     "data": {
      "image/png": "[encoded data removed]",
      "text/plain": [
       "<Figure size 1000x600 with 1 Axes>"
      ]
     },
     "metadata": {},
     "output_type": "display_data"
    }
   ],
   "source": [
    "plt.figure(figsize=(10, 6))\n",
    "plt.plot(val_aucs_1 + val_aucs_2, label='Validation AUC', color='navy')\n",
    "plt.xlabel('Epoch')\n",
    "plt.ylabel('AUC')\n",
    "plt.title('Validation ROC AUC Over Epochs')\n",
    "plt.legend()\n",
    "plt.grid(True)\n",
    "plt.show()"
   ]
  },
  {
   "cell_type": "markdown",
   "metadata": {},
   "source": [
    "**Plot BYOL Loss**"
   ]
  },
  {
   "cell_type": "code",
   "execution_count": 35,
   "metadata": {},
   "outputs": [
    {
     "data": {
      "image/png": "[encoded data removed]",
      "text/plain": [
       "<Figure size 1000x600 with 1 Axes>"
      ]
     },
     "metadata": {},
     "output_type": "display_data"
    }
   ],
   "source": [
    "plt.figure(figsize=(10, 6))\n",
    "plt.plot(byol_train_losses, label='BYOL Training Loss', color='deepskyblue')\n",
    "plt.plot(byol_val_losses, label='BYOL Validation Loss', color='navy')\n",
    "plt.xlabel('Epoch')\n",
    "plt.ylabel('Loss')\n",
    "plt.title('BYOL Loss Over Epochs')\n",
    "plt.legend()\n",
    "plt.grid(True)\n",
    "plt.show()"
   ]
  }
 ],
 "metadata": {
  "kernelspec": {
   "display_name": "master_thesis",
   "language": "python",
   "name": "master_thesis"
  },
  "language_info": {
   "codemirror_mode": {
    "name": "ipython",
    "version": 3
   },
   "file_extension": ".py",
   "mimetype": "text/x-python",
   "name": "python",
   "nbconvert_exporter": "python",
   "pygments_lexer": "ipython3",
   "version": "3.11.8"
  }
 },
 "nbformat": 4,
 "nbformat_minor": 2
}
