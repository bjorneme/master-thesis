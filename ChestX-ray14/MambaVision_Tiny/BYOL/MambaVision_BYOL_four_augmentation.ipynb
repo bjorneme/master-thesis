{
 "cells": [
  {
   "cell_type": "markdown",
   "metadata": {},
   "source": [
    "**Sources:**\n",
    "\n",
    "The code is a further development of this preliminary project:\n",
    "\n",
    "[1] https://github.com/bjorneme/preliminary/tree/main\n",
    "\n",
    "The state-of-the-art model used as inspiration for multi-label classification on ChestX-ray14 is:\n",
    "\n",
    "[2] https://github.com/syednabilashraf/SynthEnsemble/tree/main\n",
    "\n",
    "The code used for develop BYOL architecture is:\n",
    "\n",
    "[3] https://docs.lightly.ai/self-supervised-learning/examples/byol.html"
   ]
  },
  {
   "cell_type": "markdown",
   "metadata": {},
   "source": [
    "**Import Libraries**"
   ]
  },
  {
   "cell_type": "code",
   "execution_count": 1,
   "metadata": {},
   "outputs": [
    {
     "name": "stdout",
     "output_type": "stream",
     "text": [
      "Requirement already satisfied: lightly in /cluster/home/bjorneme/.conda/envs/master_thesis/lib/python3.11/site-packages (1.5.14)\n",
      "Requirement already satisfied: mambavision in /cluster/home/bjorneme/.conda/envs/master_thesis/lib/python3.11/site-packages (1.1.0)\n",
      "Requirement already satisfied: transformers in /cluster/home/bjorneme/.conda/envs/master_thesis/lib/python3.11/site-packages (4.50.0)\n",
      "Requirement already satisfied: mamba_ssm in /cluster/home/bjorneme/.conda/envs/master_thesis/lib/python3.11/site-packages (2.2.4)\n",
      "Requirement already satisfied: timm in /cluster/home/bjorneme/.conda/envs/master_thesis/lib/python3.11/site-packages (1.0.15)\n",
      "Requirement already satisfied: certifi>=14.05.14 in /cluster/home/bjorneme/.conda/envs/master_thesis/lib/python3.11/site-packages (from lightly) (2024.8.30)\n",
      "Requirement already satisfied: hydra-core>=1.0.0 in /cluster/home/bjorneme/.conda/envs/master_thesis/lib/python3.11/site-packages (from lightly) (1.3.2)\n",
      "Requirement already satisfied: lightly-utils~=0.0.0 in /cluster/home/bjorneme/.conda/envs/master_thesis/lib/python3.11/site-packages (from lightly) (0.0.2)\n",
      "Requirement already satisfied: numpy>=1.18.1 in /cluster/home/bjorneme/.conda/envs/master_thesis/lib/python3.11/site-packages (from lightly) (2.0.2)\n",
      "Requirement already satisfied: python-dateutil>=2.5.3 in /cluster/home/bjorneme/.local/lib/python3.11/site-packages (from lightly) (2.9.0.post0)\n",
      "Requirement already satisfied: requests>=2.23.0 in /cluster/home/bjorneme/.conda/envs/master_thesis/lib/python3.11/site-packages (from lightly) (2.32.3)\n",
      "Requirement already satisfied: six>=1.10 in /cluster/home/bjorneme/.local/lib/python3.11/site-packages (from lightly) (1.16.0)\n",
      "Requirement already satisfied: tqdm>=4.44 in /cluster/home/bjorneme/.conda/envs/master_thesis/lib/python3.11/site-packages (from lightly) (4.66.5)\n",
      "Requirement already satisfied: torch in /cluster/home/bjorneme/.local/lib/python3.11/site-packages (from lightly) (2.4.1)\n",
      "Requirement already satisfied: torchvision in /cluster/home/bjorneme/.local/lib/python3.11/site-packages (from lightly) (0.19.1)\n",
      "Requirement already satisfied: pydantic>=1.10.5 in /cluster/home/bjorneme/.conda/envs/master_thesis/lib/python3.11/site-packages (from lightly) (2.9.2)\n",
      "Requirement already satisfied: pytorch-lightning>=1.0.4 in /cluster/home/bjorneme/.conda/envs/master_thesis/lib/python3.11/site-packages (from lightly) (1.9.5)\n",
      "Requirement already satisfied: urllib3>=1.25.3 in /cluster/home/bjorneme/.conda/envs/master_thesis/lib/python3.11/site-packages (from lightly) (2.2.3)\n",
      "Requirement already satisfied: aenum>=3.1.11 in /cluster/home/bjorneme/.conda/envs/master_thesis/lib/python3.11/site-packages (from lightly) (3.1.15)\n",
      "Requirement already satisfied: einops==0.8.1 in /cluster/home/bjorneme/.conda/envs/master_thesis/lib/python3.11/site-packages (from mambavision) (0.8.1)\n",
      "Requirement already satisfied: tensorboardX==2.6.2.2 in /cluster/home/bjorneme/.conda/envs/master_thesis/lib/python3.11/site-packages (from mambavision) (2.6.2.2)\n",
      "Requirement already satisfied: Pillow==11.1.0 in /cluster/home/bjorneme/.conda/envs/master_thesis/lib/python3.11/site-packages (from mambavision) (11.1.0)\n",
      "Requirement already satisfied: filelock in /cluster/home/bjorneme/.local/lib/python3.11/site-packages (from transformers) (3.16.1)\n",
      "Requirement already satisfied: huggingface-hub<1.0,>=0.26.0 in /cluster/home/bjorneme/.conda/envs/master_thesis/lib/python3.11/site-packages (from transformers) (0.26.2)\n",
      "Requirement already satisfied: packaging>=20.0 in /cluster/home/bjorneme/.conda/envs/master_thesis/lib/python3.11/site-packages (from transformers) (24.2)\n",
      "Requirement already satisfied: pyyaml>=5.1 in /cluster/home/bjorneme/.conda/envs/master_thesis/lib/python3.11/site-packages (from transformers) (6.0.2)\n",
      "Requirement already satisfied: regex!=2019.12.17 in /cluster/home/bjorneme/.conda/envs/master_thesis/lib/python3.11/site-packages (from transformers) (2024.11.6)\n",
      "Requirement already satisfied: tokenizers<0.22,>=0.21 in /cluster/home/bjorneme/.conda/envs/master_thesis/lib/python3.11/site-packages (from transformers) (0.21.1)\n",
      "Requirement already satisfied: safetensors>=0.4.3 in /cluster/home/bjorneme/.conda/envs/master_thesis/lib/python3.11/site-packages (from transformers) (0.4.5)\n",
      "Requirement already satisfied: ninja in /cluster/home/bjorneme/.conda/envs/master_thesis/lib/python3.11/site-packages (from mamba_ssm) (1.11.1.3)\n",
      "Requirement already satisfied: setuptools>=61.0.0 in /cluster/home/bjorneme/.conda/envs/master_thesis/lib/python3.11/site-packages (from mamba_ssm) (75.1.0)\n",
      "Requirement already satisfied: charset-normalizer<4,>=2 in /cluster/home/bjorneme/.conda/envs/master_thesis/lib/python3.11/site-packages (from requests>=2.23.0->lightly) (3.4.0)\n",
      "Requirement already satisfied: idna<4,>=2.5 in /cluster/home/bjorneme/.conda/envs/master_thesis/lib/python3.11/site-packages (from requests>=2.23.0->lightly) (3.10)\n",
      "Requirement already satisfied: protobuf>=3.20 in /cluster/home/bjorneme/.conda/envs/master_thesis/lib/python3.11/site-packages (from tensorboardX==2.6.2.2->mambavision) (5.28.3)\n",
      "Requirement already satisfied: fsspec>=2023.5.0 in /cluster/home/bjorneme/.local/lib/python3.11/site-packages (from huggingface-hub<1.0,>=0.26.0->transformers) (2024.9.0)\n",
      "Requirement already satisfied: typing-extensions>=3.7.4.3 in /cluster/home/bjorneme/.local/lib/python3.11/site-packages (from huggingface-hub<1.0,>=0.26.0->transformers) (4.12.2)\n",
      "Requirement already satisfied: omegaconf<2.4,>=2.2 in /cluster/home/bjorneme/.conda/envs/master_thesis/lib/python3.11/site-packages (from hydra-core>=1.0.0->lightly) (2.3.0)\n",
      "Requirement already satisfied: antlr4-python3-runtime==4.9.* in /cluster/home/bjorneme/.conda/envs/master_thesis/lib/python3.11/site-packages (from hydra-core>=1.0.0->lightly) (4.9.3)\n",
      "Requirement already satisfied: annotated-types>=0.6.0 in /cluster/home/bjorneme/.conda/envs/master_thesis/lib/python3.11/site-packages (from pydantic>=1.10.5->lightly) (0.7.0)\n",
      "Requirement already satisfied: pydantic-core==2.23.4 in /cluster/home/bjorneme/.conda/envs/master_thesis/lib/python3.11/site-packages (from pydantic>=1.10.5->lightly) (2.23.4)\n",
      "Requirement already satisfied: torchmetrics>=0.7.0 in /cluster/home/bjorneme/.conda/envs/master_thesis/lib/python3.11/site-packages (from pytorch-lightning>=1.0.4->lightly) (1.6.0)\n",
      "Requirement already satisfied: lightning-utilities>=0.6.0.post0 in /cluster/home/bjorneme/.conda/envs/master_thesis/lib/python3.11/site-packages (from pytorch-lightning>=1.0.4->lightly) (0.11.9)\n",
      "Requirement already satisfied: sympy in /cluster/home/bjorneme/.local/lib/python3.11/site-packages (from torch->lightly) (1.13.2)\n",
      "Requirement already satisfied: networkx in /cluster/home/bjorneme/.local/lib/python3.11/site-packages (from torch->lightly) (3.3)\n",
      "Requirement already satisfied: jinja2 in /cluster/home/bjorneme/.local/lib/python3.11/site-packages (from torch->lightly) (3.1.4)\n",
      "Requirement already satisfied: nvidia-cuda-nvrtc-cu12==12.1.105 in /cluster/home/bjorneme/.local/lib/python3.11/site-packages (from torch->lightly) (12.1.105)\n",
      "Requirement already satisfied: nvidia-cuda-runtime-cu12==12.1.105 in /cluster/home/bjorneme/.local/lib/python3.11/site-packages (from torch->lightly) (12.1.105)\n",
      "Requirement already satisfied: nvidia-cuda-cupti-cu12==12.1.105 in /cluster/home/bjorneme/.local/lib/python3.11/site-packages (from torch->lightly) (12.1.105)\n",
      "Requirement already satisfied: nvidia-cudnn-cu12==9.1.0.70 in /cluster/home/bjorneme/.local/lib/python3.11/site-packages (from torch->lightly) (9.1.0.70)\n",
      "Requirement already satisfied: nvidia-cublas-cu12==12.1.3.1 in /cluster/home/bjorneme/.local/lib/python3.11/site-packages (from torch->lightly) (12.1.3.1)\n",
      "Requirement already satisfied: nvidia-cufft-cu12==11.0.2.54 in /cluster/home/bjorneme/.local/lib/python3.11/site-packages (from torch->lightly) (11.0.2.54)\n",
      "Requirement already satisfied: nvidia-curand-cu12==10.3.2.106 in /cluster/home/bjorneme/.local/lib/python3.11/site-packages (from torch->lightly) (10.3.2.106)\n",
      "Requirement already satisfied: nvidia-cusolver-cu12==11.4.5.107 in /cluster/home/bjorneme/.local/lib/python3.11/site-packages (from torch->lightly) (11.4.5.107)\n",
      "Requirement already satisfied: nvidia-cusparse-cu12==12.1.0.106 in /cluster/home/bjorneme/.local/lib/python3.11/site-packages (from torch->lightly) (12.1.0.106)\n",
      "Requirement already satisfied: nvidia-nccl-cu12==2.20.5 in /cluster/home/bjorneme/.local/lib/python3.11/site-packages (from torch->lightly) (2.20.5)\n",
      "Requirement already satisfied: nvidia-nvtx-cu12==12.1.105 in /cluster/home/bjorneme/.local/lib/python3.11/site-packages (from torch->lightly) (12.1.105)\n",
      "Requirement already satisfied: triton==3.0.0 in /cluster/home/bjorneme/.local/lib/python3.11/site-packages (from torch->lightly) (3.0.0)\n",
      "Requirement already satisfied: nvidia-nvjitlink-cu12 in /cluster/home/bjorneme/.local/lib/python3.11/site-packages (from nvidia-cusolver-cu12==11.4.5.107->torch->lightly) (12.6.68)\n",
      "Requirement already satisfied: aiohttp!=4.0.0a0,!=4.0.0a1 in /cluster/home/bjorneme/.conda/envs/master_thesis/lib/python3.11/site-packages (from fsspec[http]>2021.06.0->pytorch-lightning>=1.0.4->lightly) (3.11.7)\n",
      "Requirement already satisfied: MarkupSafe>=2.0 in /cluster/home/bjorneme/.local/lib/python3.11/site-packages (from jinja2->torch->lightly) (2.1.5)\n",
      "Requirement already satisfied: mpmath<1.4,>=1.1.0 in /cluster/home/bjorneme/.local/lib/python3.11/site-packages (from sympy->torch->lightly) (1.3.0)\n",
      "Requirement already satisfied: aiohappyeyeballs>=2.3.0 in /cluster/home/bjorneme/.conda/envs/master_thesis/lib/python3.11/site-packages (from aiohttp!=4.0.0a0,!=4.0.0a1->fsspec[http]>2021.06.0->pytorch-lightning>=1.0.4->lightly) (2.4.3)\n",
      "Requirement already satisfied: aiosignal>=1.1.2 in /cluster/home/bjorneme/.conda/envs/master_thesis/lib/python3.11/site-packages (from aiohttp!=4.0.0a0,!=4.0.0a1->fsspec[http]>2021.06.0->pytorch-lightning>=1.0.4->lightly) (1.3.1)\n",
      "Requirement already satisfied: attrs>=17.3.0 in /cluster/home/bjorneme/.conda/envs/master_thesis/lib/python3.11/site-packages (from aiohttp!=4.0.0a0,!=4.0.0a1->fsspec[http]>2021.06.0->pytorch-lightning>=1.0.4->lightly) (24.2.0)\n",
      "Requirement already satisfied: frozenlist>=1.1.1 in /cluster/home/bjorneme/.conda/envs/master_thesis/lib/python3.11/site-packages (from aiohttp!=4.0.0a0,!=4.0.0a1->fsspec[http]>2021.06.0->pytorch-lightning>=1.0.4->lightly) (1.5.0)\n",
      "Requirement already satisfied: multidict<7.0,>=4.5 in /cluster/home/bjorneme/.conda/envs/master_thesis/lib/python3.11/site-packages (from aiohttp!=4.0.0a0,!=4.0.0a1->fsspec[http]>2021.06.0->pytorch-lightning>=1.0.4->lightly) (6.1.0)\n",
      "Requirement already satisfied: propcache>=0.2.0 in /cluster/home/bjorneme/.conda/envs/master_thesis/lib/python3.11/site-packages (from aiohttp!=4.0.0a0,!=4.0.0a1->fsspec[http]>2021.06.0->pytorch-lightning>=1.0.4->lightly) (0.2.0)\n",
      "Requirement already satisfied: yarl<2.0,>=1.17.0 in /cluster/home/bjorneme/.conda/envs/master_thesis/lib/python3.11/site-packages (from aiohttp!=4.0.0a0,!=4.0.0a1->fsspec[http]>2021.06.0->pytorch-lightning>=1.0.4->lightly) (1.18.0)\n",
      "Note: you may need to restart the kernel to use updated packages.\n"
     ]
    }
   ],
   "source": [
    "pip install lightly mambavision transformers mamba_ssm timm"
   ]
  },
  {
   "cell_type": "code",
   "execution_count": 2,
   "metadata": {},
   "outputs": [
    {
     "name": "stderr",
     "output_type": "stream",
     "text": [
      "/cluster/home/bjorneme/.conda/envs/master_thesis/lib/python3.11/site-packages/tqdm/auto.py:21: TqdmWarning: IProgress not found. Please update jupyter and ipywidgets. See https://ipywidgets.readthedocs.io/en/stable/user_install.html\n",
      "  from .autonotebook import tqdm as notebook_tqdm\n"
     ]
    }
   ],
   "source": [
    "# Standard Libraries\n",
    "import os\n",
    "import copy\n",
    "import random\n",
    "from glob import glob\n",
    "from PIL import Image\n",
    "import zipfile\n",
    "\n",
    "# Data Manipulation Libraries\n",
    "import pandas as pd\n",
    "import numpy as np\n",
    "\n",
    "# Visualization Libraries\n",
    "import matplotlib.pyplot as plt\n",
    "\n",
    "# Progress Bar\n",
    "from tqdm import tqdm\n",
    "\n",
    "# Machine Learning Libraries\n",
    "import torch\n",
    "import torch.nn as nn\n",
    "import torch.optim as optim\n",
    "from torch.utils.data import Dataset, DataLoader, random_split\n",
    "from torchvision import transforms, models\n",
    "from sklearn.model_selection import train_test_split\n",
    "from sklearn.metrics import accuracy_score, roc_auc_score, roc_curve, auc, f1_score\n",
    "from torch.amp import GradScaler, autocast\n",
    "\n",
    "# BYOL library\n",
    "from lightly.transforms.byol_transform import BYOLTransform, BYOLView1Transform, BYOLView2Transform\n",
    "from lightly.models.modules import BYOLProjectionHead, BYOLPredictionHead\n",
    "from lightly.models.utils import deactivate_requires_grad, update_momentum\n",
    "from lightly.loss import NegativeCosineSimilarity\n",
    "from lightly.utils.scheduler import cosine_schedule\n",
    "\n",
    "# Hugging Face transformers to load the MambaVision model\n",
    "from transformers import AutoModel"
   ]
  },
  {
   "cell_type": "markdown",
   "metadata": {},
   "source": [
    "**Define Parameters**"
   ]
  },
  {
   "cell_type": "code",
   "execution_count": 3,
   "metadata": {},
   "outputs": [
    {
     "name": "stdout",
     "output_type": "stream",
     "text": [
      "Using device: cuda\n"
     ]
    }
   ],
   "source": [
    "# Paths\n",
    "ZIP_PATH = '/cluster/home/bjorneme/projects/Data/chestX-ray14.zip'\n",
    "EXTRACTED_PATH = '/cluster/home/bjorneme/projects/Data/chestX-ray14-extracted'\n",
    "\n",
    "# Model\n",
    "MODEL_NAME = \"nvidia/MambaVision-T2-1K\"\n",
    "\n",
    "# Disease labels\n",
    "disease_labels = [\n",
    "    'Atelectasis', 'Consolidation', 'Infiltration', 'Pneumothorax', 'Edema',\n",
    "    'Emphysema', 'Fibrosis', 'Effusion', 'Pneumonia', 'Pleural_Thickening',\n",
    "    'Cardiomegaly', 'Nodule', 'Mass', 'Hernia'\n",
    "]\n",
    "\n",
    "# Parameters BYOL pre-training\n",
    "LEARNING_RATE_BYOL = 0.06\n",
    "EPOCHS_BYOL = 200\n",
    "BATCH_SIZE_BYOL = 128\n",
    "\n",
    "# Parameters training\n",
    "LEARNING_RATE = 0.001\n",
    "LEARNING_RATE_FINE_TUNING = 0.0001\n",
    "EPOCHS = 3\n",
    "EPOCHS_FINE_TUNING = 100\n",
    "BATCH_SIZE = 32\n",
    "\n",
    "# Parameters early stopping\n",
    "EARLY_STOPPING_PATIENCE = 10\n",
    "\n",
    "# Parameters learning rate scheduler\n",
    "LEARNING_RATE_SCHEDULER_PATIENCE = 1\n",
    "LEARNING_RATE_SCHEDULER_MODE = 'min'\n",
    "LEARNING_RATE_SCHEDULER_FACTOR = 0.1\n",
    "\n",
    "# Other parameters\n",
    "SEED = 42\n",
    "NUM_WORKERS = 64\n",
    "\n",
    "# Device Configuration\n",
    "device = torch.device(\"cuda\" if torch.cuda.is_available() else \"cpu\")\n",
    "print(f\"Using device: {device}\")"
   ]
  },
  {
   "cell_type": "markdown",
   "metadata": {},
   "source": [
    "**Set Seed for Reproducibility**"
   ]
  },
  {
   "cell_type": "code",
   "execution_count": 4,
   "metadata": {},
   "outputs": [],
   "source": [
    "def seed_everything(seed=SEED):\n",
    "    \"\"\"\n",
    "    Sets the seed to ensure reproducibility.\n",
    "    \"\"\"\n",
    "    random.seed(seed)\n",
    "    os.environ[\"PYTHONHASHSEED\"] = str(seed)\n",
    "    np.random.seed(seed)\n",
    "    torch.manual_seed(seed)\n",
    "    torch.cuda.manual_seed_all(seed)\n",
    "    torch.backends.cudnn.deterministic = True\n",
    "    torch.backends.cudnn.benchmark = False\n",
    "\n",
    "# Apply the seed\n",
    "seed_everything()"
   ]
  },
  {
   "cell_type": "markdown",
   "metadata": {},
   "source": [
    "# **Step 1: Load Data**"
   ]
  },
  {
   "cell_type": "code",
   "execution_count": 5,
   "metadata": {},
   "outputs": [],
   "source": [
    "def extract_data(zip_path, extracted_path):\n",
    "    \"\"\"\n",
    "    Extracts the ZIP file of the dataset.\n",
    "    \"\"\"\n",
    "    os.makedirs(extracted_path, exist_ok=True)\n",
    "    with zipfile.ZipFile(zip_path, 'r') as zip_ref:\n",
    "        zip_ref.extractall(extracted_path)\n",
    "\n",
    "# Extract ChestX-ray14 dataset\n",
    "# extract_data(ZIP_PATH, EXTRACTED_PATH)"
   ]
  },
  {
   "cell_type": "markdown",
   "metadata": {},
   "source": [
    "# **Step 2: Data Preprocessing**"
   ]
  },
  {
   "cell_type": "code",
   "execution_count": 6,
   "metadata": {},
   "outputs": [],
   "source": [
    "def load_labels(csv_path, extracted_path):\n",
    "    \"\"\"\n",
    "    Read labels from CSV, maps images to paths, and create binary disease labels.\n",
    "    \"\"\"\n",
    "\n",
    "    # Read the CSV containing labels\n",
    "    labels_df = pd.read_csv(csv_path)\n",
    "\n",
    "    # Create binary columns for each disease label\n",
    "    for disease in disease_labels:\n",
    "        labels_df[disease] = labels_df['Finding Labels'].str.contains(disease).astype(int)\n",
    "\n",
    "    # Create binary column for 'No Finding'\n",
    "    labels_df['No Finding'] = labels_df['Finding Labels'].str.contains('No Finding').astype(int)\n",
    "\n",
    "    # Map images to their full path\n",
    "    labels_df['Path'] = labels_df['Image Index'].map(\n",
    "        {os.path.basename(path): path for path in glob(os.path.join(extracted_path, '**', 'images', '*.png'))}\n",
    "    )\n",
    "    \n",
    "    return labels_df\n",
    "\n",
    "# Path to the labels CSV file\n",
    "labels_csv_path = os.path.join(EXTRACTED_PATH, 'Data_Entry_2017.csv')\n",
    "\n",
    "# Load and preprocess the labels\n",
    "df = load_labels(labels_csv_path, EXTRACTED_PATH)"
   ]
  },
  {
   "cell_type": "markdown",
   "metadata": {},
   "source": [
    "**Split Dataset**"
   ]
  },
  {
   "cell_type": "code",
   "execution_count": 7,
   "metadata": {},
   "outputs": [
    {
     "name": "stdout",
     "output_type": "stream",
     "text": [
      "Train dataset size: 78614. Number of unique patients: 21563\n",
      "Validation size: 11212. Number of unique patients: 3081\n",
      "Test size: 22294. Number of unique patients: 6161\n"
     ]
    }
   ],
   "source": [
    "# Split based on patients\n",
    "unique_patients = df['Patient ID'].unique()\n",
    "\n",
    "# Split patients into training, validation and test sets\n",
    "train_val_patients, test_patients = train_test_split(\n",
    "    unique_patients, test_size=0.2, random_state=SEED\n",
    ")\n",
    "train_patients, val_patients = train_test_split(\n",
    "    train_val_patients, test_size=0.125, random_state=SEED\n",
    ")\n",
    "\n",
    "# Create dataframes for training, validation, and test sets\n",
    "train_df = df[df['Patient ID'].isin(train_patients)].reset_index(drop=True)\n",
    "val_df = df[df['Patient ID'].isin(val_patients)].reset_index(drop=True)\n",
    "test_df = df[df['Patient ID'].isin(test_patients)].reset_index(drop=True)\n",
    "\n",
    "# Verify Split Sizes\n",
    "print(f\"Train dataset size: {len(train_df)}. Number of unique patients: {len(train_patients)}\")\n",
    "print(f\"Validation size: {len(val_df)}. Number of unique patients: {len(val_patients)}\")\n",
    "print(f\"Test size: {len(test_df)}. Number of unique patients: {len(test_patients)}\")"
   ]
  },
  {
   "cell_type": "markdown",
   "metadata": {},
   "source": [
    "**Define Dataset for Chest X-ray images**"
   ]
  },
  {
   "cell_type": "code",
   "execution_count": 8,
   "metadata": {},
   "outputs": [],
   "source": [
    "class ChestXrayDataset(Dataset):\n",
    "    \"\"\"\n",
    "    Create dataset for Chest X-ray images.\n",
    "    \"\"\"\n",
    "    def __init__(self, df, transform=None):\n",
    "        self.df = df\n",
    "        self.transform = transform\n",
    "\n",
    "    def __len__(self):\n",
    "        return len(self.df)\n",
    "\n",
    "    def __getitem__(self, idx):\n",
    "        \n",
    "        # Get image and labels\n",
    "        img_path = self.df.iloc[idx]['Path']\n",
    "        image = plt.imread(img_path)\n",
    "        label = self.df.iloc[idx][disease_labels].values.astype(np.float32)\n",
    "        \n",
    "        # Apply transformation on image\n",
    "        image = self.transform(image)\n",
    "        \n",
    "        return image, label"
   ]
  },
  {
   "cell_type": "markdown",
   "metadata": {},
   "source": [
    "**Define Data Transformations**"
   ]
  },
  {
   "cell_type": "code",
   "execution_count": 9,
   "metadata": {},
   "outputs": [],
   "source": [
    "mean=[0.485, 0.456, 0.406]\n",
    "std=[0.229, 0.224, 0.225]\n",
    "\n",
    "# Define transformations for training data\n",
    "train_transforms = transforms.Compose([\n",
    "\n",
    "    # Convert image to PIL format\n",
    "    transforms.ToPILImage(),\n",
    "\n",
    "    # Convert to 3 channels\n",
    "    transforms.Grayscale(num_output_channels=3),\n",
    "\n",
    "    # Resize the image to 256x256\n",
    "    transforms.Resize((256,256)),\n",
    "\n",
    "    # Randomly 224x224 crops\n",
    "    transforms.RandomCrop(224),\n",
    "\n",
    "    # Apply random horizontal flip\n",
    "    transforms.RandomHorizontalFlip(),\n",
    "\n",
    "    # Randomly rotate the image with ±10 degrees\n",
    "    transforms.RandomRotation(10),\n",
    "\n",
    "    # Apply random brightness\n",
    "    transforms.ColorJitter(\n",
    "        brightness=(0.8, 1.2),\n",
    "    ),\n",
    "\n",
    "    # Convert the image to a PyTorch tensor\n",
    "    transforms.ToTensor(),\n",
    "\n",
    "    # Normalize using ImageNet mean and std\n",
    "    transforms.Normalize(mean=mean, std=std)\n",
    "])\n",
    "\n",
    "# Define transformations for test data\n",
    "test_transforms = transforms.Compose([\n",
    "\n",
    "    # Convert image to PIL format\n",
    "    transforms.ToPILImage(),\n",
    "\n",
    "    # Convert to 3 channels\n",
    "    transforms.Grayscale(num_output_channels=3),\n",
    "\n",
    "    # Resize the image to 256x256\n",
    "    transforms.Resize((256,256)),\n",
    "\n",
    "    # Create 10 crops\n",
    "    transforms.TenCrop(224),\n",
    "    transforms.Lambda(lambda crops: torch.stack([\n",
    "        transforms.ToTensor()(crop) for crop in crops\n",
    "    ])),\n",
    "\n",
    "    # Normalize using ImageNet mean and std\n",
    "    transforms.Lambda(lambda crops: torch.stack(\n",
    "        [transforms.Normalize(mean, std)(crop) for crop in crops]\n",
    "    ))\n",
    "])"
   ]
  },
  {
   "cell_type": "markdown",
   "metadata": {},
   "source": [
    "**Create Datasets**"
   ]
  },
  {
   "cell_type": "code",
   "execution_count": 10,
   "metadata": {},
   "outputs": [],
   "source": [
    "train_dataset = ChestXrayDataset(train_df, transform=train_transforms)\n",
    "val_dataset = ChestXrayDataset(val_df, transform=test_transforms)\n",
    "test_dataset = ChestXrayDataset(test_df, transform=test_transforms)"
   ]
  },
  {
   "cell_type": "markdown",
   "metadata": {},
   "source": [
    "**Create DataLoaders**"
   ]
  },
  {
   "cell_type": "code",
   "execution_count": 11,
   "metadata": {},
   "outputs": [],
   "source": [
    "train_loader = DataLoader(train_dataset, batch_size=BATCH_SIZE, shuffle=True, num_workers=NUM_WORKERS)\n",
    "val_loader = DataLoader(val_dataset, batch_size=BATCH_SIZE, shuffle=False, num_workers=NUM_WORKERS)\n",
    "test_loader = DataLoader(test_dataset, batch_size=BATCH_SIZE, shuffle=False, num_workers=NUM_WORKERS)"
   ]
  },
  {
   "cell_type": "markdown",
   "metadata": {},
   "source": [
    "# **Step 3: BYOL Pre-training**"
   ]
  },
  {
   "cell_type": "markdown",
   "metadata": {},
   "source": [
    "**Define the BYOL transformations**"
   ]
  },
  {
   "cell_type": "code",
   "execution_count": 12,
   "metadata": {},
   "outputs": [],
   "source": [
    "def get_xray_transform():\n",
    "    return transforms.Compose([\n",
    "        \n",
    "        # Convert image to PIL format\n",
    "        transforms.ToPILImage(),\n",
    "\n",
    "        # Convert to 3 channels\n",
    "        transforms.Grayscale(num_output_channels=3),\n",
    "\n",
    "        # Resize the image to 256x256\n",
    "        transforms.Resize((256,256)),\n",
    "\n",
    "        # Randomly 224x224 crops\n",
    "        transforms.RandomCrop(224),\n",
    "\n",
    "        # Apply random horizontal flip\n",
    "        transforms.RandomHorizontalFlip(),\n",
    "\n",
    "        # Randomly rotate the image with ±10 degrees\n",
    "        transforms.RandomRotation(10),\n",
    "\n",
    "        # Apply random brightness\n",
    "        transforms.ColorJitter(\n",
    "            brightness=(0.8, 1.2),\n",
    "        ),\n",
    "\n",
    "        # Convert the image to a PyTorch tensor\n",
    "        transforms.ToTensor(),\n",
    "\n",
    "        # Normalize using ImageNet mean and std\n",
    "        transforms.Normalize(mean=mean, std=std)\n",
    "    ])\n",
    "\n",
    "byol_transform = BYOLTransform(\n",
    "    view_1_transform=get_xray_transform(),\n",
    "    view_2_transform=get_xray_transform()\n",
    ")"
   ]
  },
  {
   "cell_type": "markdown",
   "metadata": {},
   "source": [
    "**Define the BYOL model**"
   ]
  },
  {
   "cell_type": "code",
   "execution_count": 13,
   "metadata": {},
   "outputs": [
    {
     "name": "stderr",
     "output_type": "stream",
     "text": [
      "/cluster/home/bjorneme/.conda/envs/master_thesis/lib/python3.11/site-packages/timm/models/registry.py:4: FutureWarning: Importing from timm.models.registry is deprecated, please import via timm.models\n",
      "  warnings.warn(f\"Importing from {__name__} is deprecated, please import via timm.models\", FutureWarning)\n",
      "/cluster/home/bjorneme/.conda/envs/master_thesis/lib/python3.11/site-packages/timm/models/layers/__init__.py:48: FutureWarning: Importing from timm.models.layers is deprecated, please import via timm.layers\n",
      "  warnings.warn(f\"Importing from {__name__} is deprecated, please import via timm.layers\", FutureWarning)\n",
      "2025-04-25 00:06:08.606365: I tensorflow/core/util/port.cc:153] oneDNN custom operations are on. You may see slightly different numerical results due to floating-point round-off errors from different computation orders. To turn them off, set the environment variable `TF_ENABLE_ONEDNN_OPTS=0`.\n",
      "2025-04-25 00:06:09.470440: E external/local_xla/xla/stream_executor/cuda/cuda_fft.cc:477] Unable to register cuFFT factory: Attempting to register factory for plugin cuFFT when one has already been registered\n",
      "WARNING: All log messages before absl::InitializeLog() is called are written to STDERR\n",
      "E0000 00:00:1745532370.479474 2114821 cuda_dnn.cc:8310] Unable to register cuDNN factory: Attempting to register factory for plugin cuDNN when one has already been registered\n",
      "E0000 00:00:1745532370.762382 2114821 cuda_blas.cc:1418] Unable to register cuBLAS factory: Attempting to register factory for plugin cuBLAS when one has already been registered\n",
      "2025-04-25 00:06:13.723340: I tensorflow/core/platform/cpu_feature_guard.cc:210] This TensorFlow binary is optimized to use available CPU instructions in performance-critical operations.\n",
      "To enable the following instructions: AVX2 AVX512F AVX512_VNNI AVX512_BF16 AVX512_FP16 AVX_VNNI AMX_TILE AMX_INT8 AMX_BF16 FMA, in other operations, rebuild TensorFlow with the appropriate compiler flags.\n"
     ]
    }
   ],
   "source": [
    "class BYOL(nn.Module):\n",
    "    def __init__(self, model_name=\"nvidia/MambaVision-T2-1K\"):\n",
    "        super().__init__()\n",
    "\n",
    "        # The online network\n",
    "        self.backbone = AutoModel.from_pretrained(model_name, trust_remote_code=True)\n",
    "        self.projection_head = BYOLProjectionHead(self.backbone.model.head.in_features, 1024, 256)\n",
    "        self.prediction_head = BYOLPredictionHead(256, 1024, 256)\n",
    "\n",
    "        # The target network\n",
    "        self.backbone_momentum = copy.deepcopy(self.backbone)\n",
    "        self.projection_head_momentum = copy.deepcopy(self.projection_head)\n",
    "\n",
    "        # Freeze the teacher network. Only update using EMA\n",
    "        deactivate_requires_grad(self.backbone_momentum)\n",
    "        deactivate_requires_grad(self.projection_head_momentum)\n",
    "\n",
    "    def forward_student(self, x):\n",
    "        # Forward pass student network\n",
    "        y, _ = self.backbone(x)\n",
    "        z = self.projection_head(y)\n",
    "        p = self.prediction_head(z)\n",
    "        return p\n",
    "\n",
    "    def forward_teacher(self, x):\n",
    "        # Forward pass teacher network\n",
    "        y, _ = self.backbone_momentum(x)\n",
    "        z = self.projection_head_momentum(y)\n",
    "        return z.detach()\n",
    "\n",
    "# Initalize BYOL model\n",
    "byol_model = BYOL(MODEL_NAME).to(device)"
   ]
  },
  {
   "cell_type": "markdown",
   "metadata": {},
   "source": [
    "**Create BYOL Dataset**"
   ]
  },
  {
   "cell_type": "code",
   "execution_count": 14,
   "metadata": {},
   "outputs": [],
   "source": [
    "class BYOLDataset(torch.utils.data.Dataset):\n",
    "    \"\"\"\n",
    "    Dataset for BYOL.\n",
    "    Returns two augmented versions of each image.\n",
    "    \"\"\"\n",
    "    def __init__(self, df, transform):\n",
    "        self.df = df\n",
    "        self.transform = transform\n",
    "\n",
    "    def __len__(self):\n",
    "        return len(self.df)\n",
    "\n",
    "    def __getitem__(self, idx):\n",
    "        # Get image path\n",
    "        img_path = self.df.iloc[idx]['Path']\n",
    "        image = plt.imread(img_path)\n",
    "\n",
    "        # Apply the BYOL transform on image\n",
    "        view1, view2 = self.transform(image)\n",
    "\n",
    "        # Return two different views\n",
    "        return view1, view2\n",
    "\n",
    "# Create dataset for training and validation using BYOL\n",
    "byol_train_dataset = BYOLDataset(train_df, transform=byol_transform)\n",
    "byol_val_dataset = BYOLDataset(val_df, transform=byol_transform)"
   ]
  },
  {
   "cell_type": "markdown",
   "metadata": {},
   "source": [
    "**Initialize BYOL DataLoader**"
   ]
  },
  {
   "cell_type": "code",
   "execution_count": 15,
   "metadata": {},
   "outputs": [],
   "source": [
    "# Initialize loader for BYOL training\n",
    "byol_train_loader = DataLoader(\n",
    "    byol_train_dataset,\n",
    "    batch_size=BATCH_SIZE_BYOL,\n",
    "    shuffle=True,\n",
    "    num_workers=NUM_WORKERS,\n",
    "    drop_last=True\n",
    ")\n",
    "\n",
    "# Initialize loader for BYOL validation\n",
    "byol_val_loader = DataLoader(\n",
    "    byol_val_dataset,\n",
    "    batch_size=BATCH_SIZE_BYOL,\n",
    "    shuffle=False,\n",
    "    num_workers=NUM_WORKERS,\n",
    "    drop_last=False\n",
    ")"
   ]
  },
  {
   "cell_type": "markdown",
   "metadata": {},
   "source": [
    "**Initialize Optimizer and Loss for BYOL**"
   ]
  },
  {
   "cell_type": "code",
   "execution_count": 16,
   "metadata": {},
   "outputs": [],
   "source": [
    "criterion = NegativeCosineSimilarity()\n",
    "optimizer_byol = torch.optim.SGD(byol_model.parameters(), lr=LEARNING_RATE_BYOL)"
   ]
  },
  {
   "cell_type": "markdown",
   "metadata": {},
   "source": [
    "**Train BYOL Model**"
   ]
  },
  {
   "cell_type": "code",
   "execution_count": 17,
   "metadata": {},
   "outputs": [
    {
     "name": "stderr",
     "output_type": "stream",
     "text": [
      "BYOL Epoch 1/200:   0%|          | 0/614 [00:00<?, ?it/s]"
     ]
    },
    {
     "name": "stderr",
     "output_type": "stream",
     "text": [
      "BYOL Epoch 1/200: 100%|██████████| 614/614 [02:47<00:00,  3.66it/s, Loss=-0.868]\n",
      "BYOL Epoch 1/200: 100%|██████████| 88/88 [00:25<00:00,  3.47it/s, Loss=-0.798]\n"
     ]
    },
    {
     "name": "stdout",
     "output_type": "stream",
     "text": [
      "Epoch 1/200 | Training Loss: -0.7161 | Validation Loss: -0.8828\n",
      "New best model with Validation Loss: -0.8828\n"
     ]
    },
    {
     "name": "stderr",
     "output_type": "stream",
     "text": [
      "BYOL Epoch 2/200: 100%|██████████| 614/614 [03:01<00:00,  3.38it/s, Loss=-0.94] \n",
      "BYOL Epoch 2/200: 100%|██████████| 88/88 [00:39<00:00,  2.20it/s, Loss=-0.902]\n"
     ]
    },
    {
     "name": "stdout",
     "output_type": "stream",
     "text": [
      "Epoch 2/200 | Training Loss: -0.9034 | Validation Loss: -0.9442\n",
      "New best model with Validation Loss: -0.9442\n"
     ]
    },
    {
     "name": "stderr",
     "output_type": "stream",
     "text": [
      "BYOL Epoch 3/200: 100%|██████████| 614/614 [04:25<00:00,  2.31it/s, Loss=-0.949]\n",
      "BYOL Epoch 3/200: 100%|██████████| 88/88 [00:40<00:00,  2.15it/s, Loss=-0.936]\n"
     ]
    },
    {
     "name": "stdout",
     "output_type": "stream",
     "text": [
      "Epoch 3/200 | Training Loss: -0.9404 | Validation Loss: -0.9618\n",
      "New best model with Validation Loss: -0.9618\n"
     ]
    },
    {
     "name": "stderr",
     "output_type": "stream",
     "text": [
      "BYOL Epoch 4/200: 100%|██████████| 614/614 [04:27<00:00,  2.30it/s, Loss=-0.957]\n",
      "BYOL Epoch 4/200: 100%|██████████| 88/88 [00:40<00:00,  2.18it/s, Loss=-0.946]\n"
     ]
    },
    {
     "name": "stdout",
     "output_type": "stream",
     "text": [
      "Epoch 4/200 | Training Loss: -0.9530 | Validation Loss: -0.9677\n",
      "New best model with Validation Loss: -0.9677\n"
     ]
    },
    {
     "name": "stderr",
     "output_type": "stream",
     "text": [
      "BYOL Epoch 5/200: 100%|██████████| 614/614 [04:25<00:00,  2.31it/s, Loss=-0.956]\n",
      "BYOL Epoch 5/200: 100%|██████████| 88/88 [00:40<00:00,  2.16it/s, Loss=-0.961]\n"
     ]
    },
    {
     "name": "stdout",
     "output_type": "stream",
     "text": [
      "Epoch 5/200 | Training Loss: -0.9593 | Validation Loss: -0.9672\n"
     ]
    },
    {
     "name": "stderr",
     "output_type": "stream",
     "text": [
      "BYOL Epoch 6/200: 100%|██████████| 614/614 [04:25<00:00,  2.31it/s, Loss=-0.96] \n",
      "BYOL Epoch 6/200: 100%|██████████| 88/88 [00:40<00:00,  2.19it/s, Loss=-0.969]\n"
     ]
    },
    {
     "name": "stdout",
     "output_type": "stream",
     "text": [
      "Epoch 6/200 | Training Loss: -0.9638 | Validation Loss: -0.9762\n",
      "New best model with Validation Loss: -0.9762\n"
     ]
    },
    {
     "name": "stderr",
     "output_type": "stream",
     "text": [
      "BYOL Epoch 7/200: 100%|██████████| 614/614 [04:27<00:00,  2.30it/s, Loss=-0.967]\n",
      "BYOL Epoch 7/200: 100%|██████████| 88/88 [00:40<00:00,  2.18it/s, Loss=-0.973]\n"
     ]
    },
    {
     "name": "stdout",
     "output_type": "stream",
     "text": [
      "Epoch 7/200 | Training Loss: -0.9667 | Validation Loss: -0.9794\n",
      "New best model with Validation Loss: -0.9794\n"
     ]
    },
    {
     "name": "stderr",
     "output_type": "stream",
     "text": [
      "BYOL Epoch 8/200: 100%|██████████| 614/614 [04:28<00:00,  2.29it/s, Loss=-0.972]\n",
      "BYOL Epoch 8/200: 100%|██████████| 88/88 [00:40<00:00,  2.18it/s, Loss=-0.971]\n"
     ]
    },
    {
     "name": "stdout",
     "output_type": "stream",
     "text": [
      "Epoch 8/200 | Training Loss: -0.9688 | Validation Loss: -0.9807\n",
      "New best model with Validation Loss: -0.9807\n"
     ]
    },
    {
     "name": "stderr",
     "output_type": "stream",
     "text": [
      "BYOL Epoch 9/200: 100%|██████████| 614/614 [04:25<00:00,  2.31it/s, Loss=-0.972]\n",
      "BYOL Epoch 9/200: 100%|██████████| 88/88 [00:40<00:00,  2.19it/s, Loss=-0.974]\n"
     ]
    },
    {
     "name": "stdout",
     "output_type": "stream",
     "text": [
      "Epoch 9/200 | Training Loss: -0.9704 | Validation Loss: -0.9813\n",
      "New best model with Validation Loss: -0.9813\n"
     ]
    },
    {
     "name": "stderr",
     "output_type": "stream",
     "text": [
      "BYOL Epoch 10/200: 100%|██████████| 614/614 [04:28<00:00,  2.29it/s, Loss=-0.973]\n",
      "BYOL Epoch 10/200: 100%|██████████| 88/88 [00:40<00:00,  2.18it/s, Loss=-0.976]\n"
     ]
    },
    {
     "name": "stdout",
     "output_type": "stream",
     "text": [
      "Epoch 10/200 | Training Loss: -0.9718 | Validation Loss: -0.9793\n"
     ]
    },
    {
     "name": "stderr",
     "output_type": "stream",
     "text": [
      "BYOL Epoch 11/200: 100%|██████████| 614/614 [04:27<00:00,  2.29it/s, Loss=-0.974]\n",
      "BYOL Epoch 11/200: 100%|██████████| 88/88 [00:40<00:00,  2.18it/s, Loss=-0.975]\n"
     ]
    },
    {
     "name": "stdout",
     "output_type": "stream",
     "text": [
      "Epoch 11/200 | Training Loss: -0.9732 | Validation Loss: -0.9812\n"
     ]
    },
    {
     "name": "stderr",
     "output_type": "stream",
     "text": [
      "BYOL Epoch 12/200: 100%|██████████| 614/614 [04:30<00:00,  2.27it/s, Loss=-0.977]\n",
      "BYOL Epoch 12/200: 100%|██████████| 88/88 [00:38<00:00,  2.26it/s, Loss=-0.977]\n"
     ]
    },
    {
     "name": "stdout",
     "output_type": "stream",
     "text": [
      "Epoch 12/200 | Training Loss: -0.9742 | Validation Loss: -0.9819\n",
      "New best model with Validation Loss: -0.9819\n"
     ]
    },
    {
     "name": "stderr",
     "output_type": "stream",
     "text": [
      "BYOL Epoch 13/200: 100%|██████████| 614/614 [04:27<00:00,  2.29it/s, Loss=-0.973]\n",
      "BYOL Epoch 13/200: 100%|██████████| 88/88 [00:39<00:00,  2.21it/s, Loss=-0.979]\n"
     ]
    },
    {
     "name": "stdout",
     "output_type": "stream",
     "text": [
      "Epoch 13/200 | Training Loss: -0.9752 | Validation Loss: -0.9847\n",
      "New best model with Validation Loss: -0.9847\n"
     ]
    },
    {
     "name": "stderr",
     "output_type": "stream",
     "text": [
      "BYOL Epoch 14/200: 100%|██████████| 614/614 [04:29<00:00,  2.28it/s, Loss=-0.978]\n",
      "BYOL Epoch 14/200: 100%|██████████| 88/88 [00:40<00:00,  2.18it/s, Loss=-0.982]\n"
     ]
    },
    {
     "name": "stdout",
     "output_type": "stream",
     "text": [
      "Epoch 14/200 | Training Loss: -0.9761 | Validation Loss: -0.9856\n",
      "New best model with Validation Loss: -0.9856\n"
     ]
    },
    {
     "name": "stderr",
     "output_type": "stream",
     "text": [
      "BYOL Epoch 15/200: 100%|██████████| 614/614 [04:31<00:00,  2.26it/s, Loss=-0.979]\n",
      "BYOL Epoch 15/200: 100%|██████████| 88/88 [00:40<00:00,  2.20it/s, Loss=-0.984]\n"
     ]
    },
    {
     "name": "stdout",
     "output_type": "stream",
     "text": [
      "Epoch 15/200 | Training Loss: -0.9769 | Validation Loss: -0.9862\n",
      "New best model with Validation Loss: -0.9862\n"
     ]
    },
    {
     "name": "stderr",
     "output_type": "stream",
     "text": [
      "BYOL Epoch 16/200: 100%|██████████| 614/614 [04:27<00:00,  2.29it/s, Loss=-0.976]\n",
      "BYOL Epoch 16/200: 100%|██████████| 88/88 [00:40<00:00,  2.20it/s, Loss=-0.984]\n"
     ]
    },
    {
     "name": "stdout",
     "output_type": "stream",
     "text": [
      "Epoch 16/200 | Training Loss: -0.9776 | Validation Loss: -0.9865\n",
      "New best model with Validation Loss: -0.9865\n"
     ]
    },
    {
     "name": "stderr",
     "output_type": "stream",
     "text": [
      "BYOL Epoch 17/200: 100%|██████████| 614/614 [04:29<00:00,  2.28it/s, Loss=-0.979]\n",
      "BYOL Epoch 17/200: 100%|██████████| 88/88 [00:40<00:00,  2.18it/s, Loss=-0.984]\n"
     ]
    },
    {
     "name": "stdout",
     "output_type": "stream",
     "text": [
      "Epoch 17/200 | Training Loss: -0.9783 | Validation Loss: -0.9863\n"
     ]
    },
    {
     "name": "stderr",
     "output_type": "stream",
     "text": [
      "BYOL Epoch 18/200: 100%|██████████| 614/614 [04:30<00:00,  2.27it/s, Loss=-0.978]\n",
      "BYOL Epoch 18/200: 100%|██████████| 88/88 [00:39<00:00,  2.22it/s, Loss=-0.986]\n"
     ]
    },
    {
     "name": "stdout",
     "output_type": "stream",
     "text": [
      "Epoch 18/200 | Training Loss: -0.9788 | Validation Loss: -0.9870\n",
      "New best model with Validation Loss: -0.9870\n"
     ]
    },
    {
     "name": "stderr",
     "output_type": "stream",
     "text": [
      "BYOL Epoch 19/200: 100%|██████████| 614/614 [04:31<00:00,  2.26it/s, Loss=-0.981]\n",
      "BYOL Epoch 19/200: 100%|██████████| 88/88 [00:40<00:00,  2.20it/s, Loss=-0.984]\n"
     ]
    },
    {
     "name": "stdout",
     "output_type": "stream",
     "text": [
      "Epoch 19/200 | Training Loss: -0.9791 | Validation Loss: -0.9851\n"
     ]
    },
    {
     "name": "stderr",
     "output_type": "stream",
     "text": [
      "BYOL Epoch 20/200: 100%|██████████| 614/614 [04:31<00:00,  2.26it/s, Loss=-0.981]\n",
      "BYOL Epoch 20/200: 100%|██████████| 88/88 [00:40<00:00,  2.18it/s, Loss=-0.987]\n"
     ]
    },
    {
     "name": "stdout",
     "output_type": "stream",
     "text": [
      "Epoch 20/200 | Training Loss: -0.9796 | Validation Loss: -0.9878\n",
      "New best model with Validation Loss: -0.9878\n"
     ]
    },
    {
     "name": "stderr",
     "output_type": "stream",
     "text": [
      "BYOL Epoch 21/200: 100%|██████████| 614/614 [04:32<00:00,  2.25it/s, Loss=-0.982]\n",
      "BYOL Epoch 21/200: 100%|██████████| 88/88 [00:40<00:00,  2.18it/s, Loss=-0.989]\n"
     ]
    },
    {
     "name": "stdout",
     "output_type": "stream",
     "text": [
      "Epoch 21/200 | Training Loss: -0.9799 | Validation Loss: -0.9875\n"
     ]
    },
    {
     "name": "stderr",
     "output_type": "stream",
     "text": [
      "BYOL Epoch 22/200: 100%|██████████| 614/614 [04:30<00:00,  2.27it/s, Loss=-0.982]\n",
      "BYOL Epoch 22/200: 100%|██████████| 88/88 [00:41<00:00,  2.14it/s, Loss=-0.987]\n"
     ]
    },
    {
     "name": "stdout",
     "output_type": "stream",
     "text": [
      "Epoch 22/200 | Training Loss: -0.9800 | Validation Loss: -0.9877\n"
     ]
    },
    {
     "name": "stderr",
     "output_type": "stream",
     "text": [
      "BYOL Epoch 23/200: 100%|██████████| 614/614 [04:28<00:00,  2.29it/s, Loss=-0.98] \n",
      "BYOL Epoch 23/200: 100%|██████████| 88/88 [00:40<00:00,  2.17it/s, Loss=-0.986]\n"
     ]
    },
    {
     "name": "stdout",
     "output_type": "stream",
     "text": [
      "Epoch 23/200 | Training Loss: -0.9802 | Validation Loss: -0.9866\n"
     ]
    },
    {
     "name": "stderr",
     "output_type": "stream",
     "text": [
      "BYOL Epoch 24/200: 100%|██████████| 614/614 [04:30<00:00,  2.27it/s, Loss=-0.983]\n",
      "BYOL Epoch 24/200: 100%|██████████| 88/88 [00:40<00:00,  2.20it/s, Loss=-0.987]\n"
     ]
    },
    {
     "name": "stdout",
     "output_type": "stream",
     "text": [
      "Epoch 24/200 | Training Loss: -0.9803 | Validation Loss: -0.9864\n"
     ]
    },
    {
     "name": "stderr",
     "output_type": "stream",
     "text": [
      "BYOL Epoch 25/200: 100%|██████████| 614/614 [04:29<00:00,  2.27it/s, Loss=-0.981]\n",
      "BYOL Epoch 25/200: 100%|██████████| 88/88 [00:39<00:00,  2.20it/s, Loss=-0.987]\n"
     ]
    },
    {
     "name": "stdout",
     "output_type": "stream",
     "text": [
      "Epoch 25/200 | Training Loss: -0.9804 | Validation Loss: -0.9877\n"
     ]
    },
    {
     "name": "stderr",
     "output_type": "stream",
     "text": [
      "BYOL Epoch 26/200: 100%|██████████| 614/614 [04:29<00:00,  2.28it/s, Loss=-0.98] \n",
      "BYOL Epoch 26/200: 100%|██████████| 88/88 [00:40<00:00,  2.15it/s, Loss=-0.987]\n"
     ]
    },
    {
     "name": "stdout",
     "output_type": "stream",
     "text": [
      "Epoch 26/200 | Training Loss: -0.9805 | Validation Loss: -0.9864\n"
     ]
    },
    {
     "name": "stderr",
     "output_type": "stream",
     "text": [
      "BYOL Epoch 27/200: 100%|██████████| 614/614 [04:25<00:00,  2.31it/s, Loss=-0.981]\n",
      "BYOL Epoch 27/200: 100%|██████████| 88/88 [00:39<00:00,  2.21it/s, Loss=-0.988]\n"
     ]
    },
    {
     "name": "stdout",
     "output_type": "stream",
     "text": [
      "Epoch 27/200 | Training Loss: -0.9806 | Validation Loss: -0.9873\n"
     ]
    },
    {
     "name": "stderr",
     "output_type": "stream",
     "text": [
      "BYOL Epoch 28/200: 100%|██████████| 614/614 [04:30<00:00,  2.27it/s, Loss=-0.982]\n",
      "BYOL Epoch 28/200: 100%|██████████| 88/88 [00:40<00:00,  2.17it/s, Loss=-0.985]\n"
     ]
    },
    {
     "name": "stdout",
     "output_type": "stream",
     "text": [
      "Epoch 28/200 | Training Loss: -0.9807 | Validation Loss: -0.9862\n"
     ]
    },
    {
     "name": "stderr",
     "output_type": "stream",
     "text": [
      "BYOL Epoch 29/200: 100%|██████████| 614/614 [04:28<00:00,  2.29it/s, Loss=-0.982]\n",
      "BYOL Epoch 29/200: 100%|██████████| 88/88 [00:39<00:00,  2.20it/s, Loss=-0.988]\n"
     ]
    },
    {
     "name": "stdout",
     "output_type": "stream",
     "text": [
      "Epoch 29/200 | Training Loss: -0.9809 | Validation Loss: -0.9881\n",
      "New best model with Validation Loss: -0.9881\n"
     ]
    },
    {
     "name": "stderr",
     "output_type": "stream",
     "text": [
      "BYOL Epoch 30/200: 100%|██████████| 614/614 [04:28<00:00,  2.29it/s, Loss=-0.981]\n",
      "BYOL Epoch 30/200: 100%|██████████| 88/88 [00:39<00:00,  2.24it/s, Loss=-0.988]\n"
     ]
    },
    {
     "name": "stdout",
     "output_type": "stream",
     "text": [
      "Epoch 30/200 | Training Loss: -0.9810 | Validation Loss: -0.9884\n",
      "New best model with Validation Loss: -0.9884\n"
     ]
    },
    {
     "name": "stderr",
     "output_type": "stream",
     "text": [
      "BYOL Epoch 31/200: 100%|██████████| 614/614 [04:27<00:00,  2.30it/s, Loss=-0.982]\n",
      "BYOL Epoch 31/200: 100%|██████████| 88/88 [00:39<00:00,  2.20it/s, Loss=-0.986]\n"
     ]
    },
    {
     "name": "stdout",
     "output_type": "stream",
     "text": [
      "Epoch 31/200 | Training Loss: -0.9812 | Validation Loss: -0.9850\n"
     ]
    },
    {
     "name": "stderr",
     "output_type": "stream",
     "text": [
      "BYOL Epoch 32/200: 100%|██████████| 614/614 [04:27<00:00,  2.29it/s, Loss=-0.985]\n",
      "BYOL Epoch 32/200: 100%|██████████| 88/88 [00:40<00:00,  2.16it/s, Loss=-0.99] \n"
     ]
    },
    {
     "name": "stdout",
     "output_type": "stream",
     "text": [
      "Epoch 32/200 | Training Loss: -0.9815 | Validation Loss: -0.9888\n",
      "New best model with Validation Loss: -0.9888\n"
     ]
    },
    {
     "name": "stderr",
     "output_type": "stream",
     "text": [
      "BYOL Epoch 33/200: 100%|██████████| 614/614 [04:28<00:00,  2.29it/s, Loss=-0.983]\n",
      "BYOL Epoch 33/200: 100%|██████████| 88/88 [00:40<00:00,  2.16it/s, Loss=-0.988]\n"
     ]
    },
    {
     "name": "stdout",
     "output_type": "stream",
     "text": [
      "Epoch 33/200 | Training Loss: -0.9816 | Validation Loss: -0.9888\n",
      "New best model with Validation Loss: -0.9888\n"
     ]
    },
    {
     "name": "stderr",
     "output_type": "stream",
     "text": [
      "BYOL Epoch 34/200: 100%|██████████| 614/614 [04:25<00:00,  2.31it/s, Loss=-0.983]\n",
      "BYOL Epoch 34/200: 100%|██████████| 88/88 [00:40<00:00,  2.17it/s, Loss=-0.989]\n"
     ]
    },
    {
     "name": "stdout",
     "output_type": "stream",
     "text": [
      "Epoch 34/200 | Training Loss: -0.9818 | Validation Loss: -0.9890\n",
      "New best model with Validation Loss: -0.9890\n"
     ]
    },
    {
     "name": "stderr",
     "output_type": "stream",
     "text": [
      "BYOL Epoch 35/200: 100%|██████████| 614/614 [04:25<00:00,  2.31it/s, Loss=-0.983]\n",
      "BYOL Epoch 35/200: 100%|██████████| 88/88 [00:40<00:00,  2.18it/s, Loss=-0.988]\n"
     ]
    },
    {
     "name": "stdout",
     "output_type": "stream",
     "text": [
      "Epoch 35/200 | Training Loss: -0.9820 | Validation Loss: -0.9888\n"
     ]
    },
    {
     "name": "stderr",
     "output_type": "stream",
     "text": [
      "BYOL Epoch 36/200: 100%|██████████| 614/614 [04:24<00:00,  2.32it/s, Loss=-0.983]\n",
      "BYOL Epoch 36/200: 100%|██████████| 88/88 [00:39<00:00,  2.22it/s, Loss=-0.989]\n"
     ]
    },
    {
     "name": "stdout",
     "output_type": "stream",
     "text": [
      "Epoch 36/200 | Training Loss: -0.9821 | Validation Loss: -0.9890\n",
      "New best model with Validation Loss: -0.9890\n"
     ]
    },
    {
     "name": "stderr",
     "output_type": "stream",
     "text": [
      "BYOL Epoch 37/200: 100%|██████████| 614/614 [04:27<00:00,  2.30it/s, Loss=-0.983]\n",
      "BYOL Epoch 37/200: 100%|██████████| 88/88 [00:40<00:00,  2.16it/s, Loss=-0.989]\n"
     ]
    },
    {
     "name": "stdout",
     "output_type": "stream",
     "text": [
      "Epoch 37/200 | Training Loss: -0.9823 | Validation Loss: -0.9893\n",
      "New best model with Validation Loss: -0.9893\n"
     ]
    },
    {
     "name": "stderr",
     "output_type": "stream",
     "text": [
      "BYOL Epoch 38/200: 100%|██████████| 614/614 [04:29<00:00,  2.28it/s, Loss=-0.983]\n",
      "BYOL Epoch 38/200: 100%|██████████| 88/88 [00:41<00:00,  2.12it/s, Loss=-0.989]\n"
     ]
    },
    {
     "name": "stdout",
     "output_type": "stream",
     "text": [
      "Epoch 38/200 | Training Loss: -0.9825 | Validation Loss: -0.9885\n"
     ]
    },
    {
     "name": "stderr",
     "output_type": "stream",
     "text": [
      "BYOL Epoch 39/200: 100%|██████████| 614/614 [04:26<00:00,  2.31it/s, Loss=-0.984]\n",
      "BYOL Epoch 39/200: 100%|██████████| 88/88 [00:40<00:00,  2.17it/s, Loss=-0.989]\n"
     ]
    },
    {
     "name": "stdout",
     "output_type": "stream",
     "text": [
      "Epoch 39/200 | Training Loss: -0.9826 | Validation Loss: -0.9890\n"
     ]
    },
    {
     "name": "stderr",
     "output_type": "stream",
     "text": [
      "BYOL Epoch 40/200: 100%|██████████| 614/614 [04:27<00:00,  2.29it/s, Loss=-0.983]\n",
      "BYOL Epoch 40/200: 100%|██████████| 88/88 [00:40<00:00,  2.18it/s, Loss=-0.984]\n"
     ]
    },
    {
     "name": "stdout",
     "output_type": "stream",
     "text": [
      "Epoch 40/200 | Training Loss: -0.9828 | Validation Loss: -0.9877\n"
     ]
    },
    {
     "name": "stderr",
     "output_type": "stream",
     "text": [
      "BYOL Epoch 41/200: 100%|██████████| 614/614 [04:27<00:00,  2.29it/s, Loss=-0.984]\n",
      "BYOL Epoch 41/200: 100%|██████████| 88/88 [00:39<00:00,  2.20it/s, Loss=-0.989]\n"
     ]
    },
    {
     "name": "stdout",
     "output_type": "stream",
     "text": [
      "Epoch 41/200 | Training Loss: -0.9829 | Validation Loss: -0.9886\n"
     ]
    },
    {
     "name": "stderr",
     "output_type": "stream",
     "text": [
      "BYOL Epoch 42/200: 100%|██████████| 614/614 [04:28<00:00,  2.29it/s, Loss=-0.983]\n",
      "BYOL Epoch 42/200: 100%|██████████| 88/88 [00:40<00:00,  2.17it/s, Loss=-0.991]\n"
     ]
    },
    {
     "name": "stdout",
     "output_type": "stream",
     "text": [
      "Epoch 42/200 | Training Loss: -0.9831 | Validation Loss: -0.9889\n"
     ]
    },
    {
     "name": "stderr",
     "output_type": "stream",
     "text": [
      "BYOL Epoch 43/200: 100%|██████████| 614/614 [04:27<00:00,  2.30it/s, Loss=-0.981]\n",
      "BYOL Epoch 43/200: 100%|██████████| 88/88 [00:40<00:00,  2.16it/s, Loss=-0.99] \n"
     ]
    },
    {
     "name": "stdout",
     "output_type": "stream",
     "text": [
      "Epoch 43/200 | Training Loss: -0.9832 | Validation Loss: -0.9892\n"
     ]
    },
    {
     "name": "stderr",
     "output_type": "stream",
     "text": [
      "BYOL Epoch 44/200: 100%|██████████| 614/614 [04:25<00:00,  2.31it/s, Loss=-0.983]\n",
      "BYOL Epoch 44/200: 100%|██████████| 88/88 [00:40<00:00,  2.19it/s, Loss=-0.989]\n"
     ]
    },
    {
     "name": "stdout",
     "output_type": "stream",
     "text": [
      "Epoch 44/200 | Training Loss: -0.9833 | Validation Loss: -0.9897\n",
      "New best model with Validation Loss: -0.9897\n"
     ]
    },
    {
     "name": "stderr",
     "output_type": "stream",
     "text": [
      "BYOL Epoch 45/200: 100%|██████████| 614/614 [04:26<00:00,  2.31it/s, Loss=-0.984]\n",
      "BYOL Epoch 45/200: 100%|██████████| 88/88 [00:40<00:00,  2.17it/s, Loss=-0.99] \n"
     ]
    },
    {
     "name": "stdout",
     "output_type": "stream",
     "text": [
      "Epoch 45/200 | Training Loss: -0.9834 | Validation Loss: -0.9896\n"
     ]
    },
    {
     "name": "stderr",
     "output_type": "stream",
     "text": [
      "BYOL Epoch 46/200: 100%|██████████| 614/614 [04:26<00:00,  2.30it/s, Loss=-0.984]\n",
      "BYOL Epoch 46/200: 100%|██████████| 88/88 [00:39<00:00,  2.23it/s, Loss=-0.991]\n"
     ]
    },
    {
     "name": "stdout",
     "output_type": "stream",
     "text": [
      "Epoch 46/200 | Training Loss: -0.9835 | Validation Loss: -0.9903\n",
      "New best model with Validation Loss: -0.9903\n"
     ]
    },
    {
     "name": "stderr",
     "output_type": "stream",
     "text": [
      "BYOL Epoch 47/200: 100%|██████████| 614/614 [04:28<00:00,  2.29it/s, Loss=-0.985]\n",
      "BYOL Epoch 47/200: 100%|██████████| 88/88 [00:40<00:00,  2.19it/s, Loss=-0.991]\n"
     ]
    },
    {
     "name": "stdout",
     "output_type": "stream",
     "text": [
      "Epoch 47/200 | Training Loss: -0.9838 | Validation Loss: -0.9902\n"
     ]
    },
    {
     "name": "stderr",
     "output_type": "stream",
     "text": [
      "BYOL Epoch 48/200: 100%|██████████| 614/614 [04:27<00:00,  2.30it/s, Loss=-0.985]\n",
      "BYOL Epoch 48/200: 100%|██████████| 88/88 [00:40<00:00,  2.16it/s, Loss=-0.989]\n"
     ]
    },
    {
     "name": "stdout",
     "output_type": "stream",
     "text": [
      "Epoch 48/200 | Training Loss: -0.9838 | Validation Loss: -0.9897\n"
     ]
    },
    {
     "name": "stderr",
     "output_type": "stream",
     "text": [
      "BYOL Epoch 49/200: 100%|██████████| 614/614 [04:28<00:00,  2.29it/s, Loss=-0.985]\n",
      "BYOL Epoch 49/200: 100%|██████████| 88/88 [00:41<00:00,  2.14it/s, Loss=-0.991]\n"
     ]
    },
    {
     "name": "stdout",
     "output_type": "stream",
     "text": [
      "Epoch 49/200 | Training Loss: -0.9839 | Validation Loss: -0.9902\n"
     ]
    },
    {
     "name": "stderr",
     "output_type": "stream",
     "text": [
      "BYOL Epoch 50/200: 100%|██████████| 614/614 [04:26<00:00,  2.31it/s, Loss=-0.984]\n",
      "BYOL Epoch 50/200: 100%|██████████| 88/88 [00:40<00:00,  2.17it/s, Loss=-0.989]\n"
     ]
    },
    {
     "name": "stdout",
     "output_type": "stream",
     "text": [
      "Epoch 50/200 | Training Loss: -0.9840 | Validation Loss: -0.9878\n"
     ]
    },
    {
     "name": "stderr",
     "output_type": "stream",
     "text": [
      "BYOL Epoch 51/200: 100%|██████████| 614/614 [04:29<00:00,  2.28it/s, Loss=-0.984]\n",
      "BYOL Epoch 51/200: 100%|██████████| 88/88 [00:40<00:00,  2.17it/s, Loss=-0.99] \n"
     ]
    },
    {
     "name": "stdout",
     "output_type": "stream",
     "text": [
      "Epoch 51/200 | Training Loss: -0.9841 | Validation Loss: -0.9900\n"
     ]
    },
    {
     "name": "stderr",
     "output_type": "stream",
     "text": [
      "BYOL Epoch 52/200: 100%|██████████| 614/614 [04:26<00:00,  2.30it/s, Loss=-0.984]\n",
      "BYOL Epoch 52/200: 100%|██████████| 88/88 [00:40<00:00,  2.18it/s, Loss=-0.991]\n"
     ]
    },
    {
     "name": "stdout",
     "output_type": "stream",
     "text": [
      "Epoch 52/200 | Training Loss: -0.9842 | Validation Loss: -0.9893\n"
     ]
    },
    {
     "name": "stderr",
     "output_type": "stream",
     "text": [
      "BYOL Epoch 53/200: 100%|██████████| 614/614 [04:27<00:00,  2.29it/s, Loss=-0.984]\n",
      "BYOL Epoch 53/200: 100%|██████████| 88/88 [00:40<00:00,  2.20it/s, Loss=-0.991]\n"
     ]
    },
    {
     "name": "stdout",
     "output_type": "stream",
     "text": [
      "Epoch 53/200 | Training Loss: -0.9843 | Validation Loss: -0.9902\n"
     ]
    },
    {
     "name": "stderr",
     "output_type": "stream",
     "text": [
      "BYOL Epoch 54/200: 100%|██████████| 614/614 [04:26<00:00,  2.30it/s, Loss=-0.985]\n",
      "BYOL Epoch 54/200: 100%|██████████| 88/88 [00:40<00:00,  2.19it/s, Loss=-0.991]\n"
     ]
    },
    {
     "name": "stdout",
     "output_type": "stream",
     "text": [
      "Epoch 54/200 | Training Loss: -0.9844 | Validation Loss: -0.9898\n"
     ]
    },
    {
     "name": "stderr",
     "output_type": "stream",
     "text": [
      "BYOL Epoch 55/200: 100%|██████████| 614/614 [04:25<00:00,  2.31it/s, Loss=-0.983]\n",
      "BYOL Epoch 55/200: 100%|██████████| 88/88 [00:40<00:00,  2.16it/s, Loss=-0.991]\n"
     ]
    },
    {
     "name": "stdout",
     "output_type": "stream",
     "text": [
      "Epoch 55/200 | Training Loss: -0.9845 | Validation Loss: -0.9898\n"
     ]
    },
    {
     "name": "stderr",
     "output_type": "stream",
     "text": [
      "BYOL Epoch 56/200: 100%|██████████| 614/614 [04:25<00:00,  2.31it/s, Loss=-0.984]\n",
      "BYOL Epoch 56/200: 100%|██████████| 88/88 [00:40<00:00,  2.18it/s, Loss=-0.991]\n"
     ]
    },
    {
     "name": "stdout",
     "output_type": "stream",
     "text": [
      "Epoch 56/200 | Training Loss: -0.9846 | Validation Loss: -0.9905\n",
      "New best model with Validation Loss: -0.9905\n"
     ]
    },
    {
     "name": "stderr",
     "output_type": "stream",
     "text": [
      "BYOL Epoch 57/200: 100%|██████████| 614/614 [04:27<00:00,  2.30it/s, Loss=-0.985]\n",
      "BYOL Epoch 57/200: 100%|██████████| 88/88 [00:39<00:00,  2.21it/s, Loss=-0.991]\n"
     ]
    },
    {
     "name": "stdout",
     "output_type": "stream",
     "text": [
      "Epoch 57/200 | Training Loss: -0.9847 | Validation Loss: -0.9896\n"
     ]
    },
    {
     "name": "stderr",
     "output_type": "stream",
     "text": [
      "BYOL Epoch 58/200: 100%|██████████| 614/614 [04:28<00:00,  2.28it/s, Loss=-0.985]\n",
      "BYOL Epoch 58/200: 100%|██████████| 88/88 [00:39<00:00,  2.25it/s, Loss=-0.991]\n"
     ]
    },
    {
     "name": "stdout",
     "output_type": "stream",
     "text": [
      "Epoch 58/200 | Training Loss: -0.9848 | Validation Loss: -0.9909\n",
      "New best model with Validation Loss: -0.9909\n"
     ]
    },
    {
     "name": "stderr",
     "output_type": "stream",
     "text": [
      "BYOL Epoch 59/200: 100%|██████████| 614/614 [04:28<00:00,  2.29it/s, Loss=-0.984]\n",
      "BYOL Epoch 59/200: 100%|██████████| 88/88 [00:39<00:00,  2.25it/s, Loss=-0.988]\n"
     ]
    },
    {
     "name": "stdout",
     "output_type": "stream",
     "text": [
      "Epoch 59/200 | Training Loss: -0.9848 | Validation Loss: -0.9878\n"
     ]
    },
    {
     "name": "stderr",
     "output_type": "stream",
     "text": [
      "BYOL Epoch 60/200: 100%|██████████| 614/614 [04:27<00:00,  2.29it/s, Loss=-0.984]\n",
      "BYOL Epoch 60/200: 100%|██████████| 88/88 [00:40<00:00,  2.19it/s, Loss=-0.991]\n"
     ]
    },
    {
     "name": "stdout",
     "output_type": "stream",
     "text": [
      "Epoch 60/200 | Training Loss: -0.9849 | Validation Loss: -0.9907\n"
     ]
    },
    {
     "name": "stderr",
     "output_type": "stream",
     "text": [
      "BYOL Epoch 61/200: 100%|██████████| 614/614 [04:28<00:00,  2.29it/s, Loss=-0.984]\n",
      "BYOL Epoch 61/200: 100%|██████████| 88/88 [00:38<00:00,  2.26it/s, Loss=-0.989]\n"
     ]
    },
    {
     "name": "stdout",
     "output_type": "stream",
     "text": [
      "Epoch 61/200 | Training Loss: -0.9851 | Validation Loss: -0.9889\n"
     ]
    },
    {
     "name": "stderr",
     "output_type": "stream",
     "text": [
      "BYOL Epoch 62/200: 100%|██████████| 614/614 [04:27<00:00,  2.30it/s, Loss=-0.985]\n",
      "BYOL Epoch 62/200: 100%|██████████| 88/88 [00:39<00:00,  2.21it/s, Loss=-0.99] \n"
     ]
    },
    {
     "name": "stdout",
     "output_type": "stream",
     "text": [
      "Epoch 62/200 | Training Loss: -0.9852 | Validation Loss: -0.9885\n"
     ]
    },
    {
     "name": "stderr",
     "output_type": "stream",
     "text": [
      "BYOL Epoch 63/200: 100%|██████████| 614/614 [04:26<00:00,  2.30it/s, Loss=-0.985]\n",
      "BYOL Epoch 63/200: 100%|██████████| 88/88 [00:40<00:00,  2.17it/s, Loss=-0.992]\n"
     ]
    },
    {
     "name": "stdout",
     "output_type": "stream",
     "text": [
      "Epoch 63/200 | Training Loss: -0.9853 | Validation Loss: -0.9910\n",
      "New best model with Validation Loss: -0.9910\n"
     ]
    },
    {
     "name": "stderr",
     "output_type": "stream",
     "text": [
      "BYOL Epoch 64/200: 100%|██████████| 614/614 [04:26<00:00,  2.30it/s, Loss=-0.987]\n",
      "BYOL Epoch 64/200: 100%|██████████| 88/88 [00:40<00:00,  2.16it/s, Loss=-0.992]\n"
     ]
    },
    {
     "name": "stdout",
     "output_type": "stream",
     "text": [
      "Epoch 64/200 | Training Loss: -0.9854 | Validation Loss: -0.9911\n",
      "New best model with Validation Loss: -0.9911\n"
     ]
    },
    {
     "name": "stderr",
     "output_type": "stream",
     "text": [
      "BYOL Epoch 65/200: 100%|██████████| 614/614 [04:26<00:00,  2.30it/s, Loss=-0.986]\n",
      "BYOL Epoch 65/200: 100%|██████████| 88/88 [00:38<00:00,  2.26it/s, Loss=-0.991]\n"
     ]
    },
    {
     "name": "stdout",
     "output_type": "stream",
     "text": [
      "Epoch 65/200 | Training Loss: -0.9855 | Validation Loss: -0.9903\n"
     ]
    },
    {
     "name": "stderr",
     "output_type": "stream",
     "text": [
      "BYOL Epoch 66/200: 100%|██████████| 614/614 [04:27<00:00,  2.29it/s, Loss=-0.984]\n",
      "BYOL Epoch 66/200: 100%|██████████| 88/88 [00:39<00:00,  2.25it/s, Loss=-0.991]\n"
     ]
    },
    {
     "name": "stdout",
     "output_type": "stream",
     "text": [
      "Epoch 66/200 | Training Loss: -0.9856 | Validation Loss: -0.9914\n",
      "New best model with Validation Loss: -0.9914\n"
     ]
    },
    {
     "name": "stderr",
     "output_type": "stream",
     "text": [
      "BYOL Epoch 67/200: 100%|██████████| 614/614 [04:25<00:00,  2.31it/s, Loss=-0.987]\n",
      "BYOL Epoch 67/200: 100%|██████████| 88/88 [00:39<00:00,  2.24it/s, Loss=-0.992]\n"
     ]
    },
    {
     "name": "stdout",
     "output_type": "stream",
     "text": [
      "Epoch 67/200 | Training Loss: -0.9857 | Validation Loss: -0.9906\n"
     ]
    },
    {
     "name": "stderr",
     "output_type": "stream",
     "text": [
      "BYOL Epoch 68/200: 100%|██████████| 614/614 [04:29<00:00,  2.28it/s, Loss=-0.986]\n",
      "BYOL Epoch 68/200: 100%|██████████| 88/88 [00:38<00:00,  2.26it/s, Loss=-0.99] \n"
     ]
    },
    {
     "name": "stdout",
     "output_type": "stream",
     "text": [
      "Epoch 68/200 | Training Loss: -0.9858 | Validation Loss: -0.9876\n"
     ]
    },
    {
     "name": "stderr",
     "output_type": "stream",
     "text": [
      "BYOL Epoch 69/200: 100%|██████████| 614/614 [04:26<00:00,  2.30it/s, Loss=-0.986]\n",
      "BYOL Epoch 69/200: 100%|██████████| 88/88 [00:39<00:00,  2.25it/s, Loss=-0.992]\n"
     ]
    },
    {
     "name": "stdout",
     "output_type": "stream",
     "text": [
      "Epoch 69/200 | Training Loss: -0.9859 | Validation Loss: -0.9907\n"
     ]
    },
    {
     "name": "stderr",
     "output_type": "stream",
     "text": [
      "BYOL Epoch 70/200: 100%|██████████| 614/614 [04:28<00:00,  2.29it/s, Loss=-0.985]\n",
      "BYOL Epoch 70/200: 100%|██████████| 88/88 [00:38<00:00,  2.28it/s, Loss=-0.991]\n"
     ]
    },
    {
     "name": "stdout",
     "output_type": "stream",
     "text": [
      "Epoch 70/200 | Training Loss: -0.9860 | Validation Loss: -0.9886\n"
     ]
    },
    {
     "name": "stderr",
     "output_type": "stream",
     "text": [
      "BYOL Epoch 71/200: 100%|██████████| 614/614 [04:27<00:00,  2.30it/s, Loss=-0.988]\n",
      "BYOL Epoch 71/200: 100%|██████████| 88/88 [00:38<00:00,  2.26it/s, Loss=-0.992]\n"
     ]
    },
    {
     "name": "stdout",
     "output_type": "stream",
     "text": [
      "Epoch 71/200 | Training Loss: -0.9861 | Validation Loss: -0.9915\n",
      "New best model with Validation Loss: -0.9915\n"
     ]
    },
    {
     "name": "stderr",
     "output_type": "stream",
     "text": [
      "BYOL Epoch 72/200: 100%|██████████| 614/614 [04:29<00:00,  2.28it/s, Loss=-0.985]\n",
      "BYOL Epoch 72/200: 100%|██████████| 88/88 [00:38<00:00,  2.26it/s, Loss=-0.992]\n"
     ]
    },
    {
     "name": "stdout",
     "output_type": "stream",
     "text": [
      "Epoch 72/200 | Training Loss: -0.9862 | Validation Loss: -0.9916\n",
      "New best model with Validation Loss: -0.9916\n"
     ]
    },
    {
     "name": "stderr",
     "output_type": "stream",
     "text": [
      "BYOL Epoch 73/200: 100%|██████████| 614/614 [04:28<00:00,  2.28it/s, Loss=-0.987]\n",
      "BYOL Epoch 73/200: 100%|██████████| 88/88 [00:38<00:00,  2.28it/s, Loss=-0.991]\n"
     ]
    },
    {
     "name": "stdout",
     "output_type": "stream",
     "text": [
      "Epoch 73/200 | Training Loss: -0.9862 | Validation Loss: -0.9899\n"
     ]
    },
    {
     "name": "stderr",
     "output_type": "stream",
     "text": [
      "BYOL Epoch 74/200: 100%|██████████| 614/614 [04:29<00:00,  2.28it/s, Loss=-0.988]\n",
      "BYOL Epoch 74/200: 100%|██████████| 88/88 [00:38<00:00,  2.31it/s, Loss=-0.991]\n"
     ]
    },
    {
     "name": "stdout",
     "output_type": "stream",
     "text": [
      "Epoch 74/200 | Training Loss: -0.9863 | Validation Loss: -0.9904\n"
     ]
    },
    {
     "name": "stderr",
     "output_type": "stream",
     "text": [
      "BYOL Epoch 75/200: 100%|██████████| 614/614 [04:26<00:00,  2.31it/s, Loss=-0.987]\n",
      "BYOL Epoch 75/200: 100%|██████████| 88/88 [00:38<00:00,  2.27it/s, Loss=-0.991]\n"
     ]
    },
    {
     "name": "stdout",
     "output_type": "stream",
     "text": [
      "Epoch 75/200 | Training Loss: -0.9864 | Validation Loss: -0.9907\n"
     ]
    },
    {
     "name": "stderr",
     "output_type": "stream",
     "text": [
      "BYOL Epoch 76/200: 100%|██████████| 614/614 [04:28<00:00,  2.29it/s, Loss=-0.988]\n",
      "BYOL Epoch 76/200: 100%|██████████| 88/88 [00:39<00:00,  2.25it/s, Loss=-0.991]\n"
     ]
    },
    {
     "name": "stdout",
     "output_type": "stream",
     "text": [
      "Epoch 76/200 | Training Loss: -0.9865 | Validation Loss: -0.9917\n",
      "New best model with Validation Loss: -0.9917\n"
     ]
    },
    {
     "name": "stderr",
     "output_type": "stream",
     "text": [
      "BYOL Epoch 77/200: 100%|██████████| 614/614 [04:28<00:00,  2.29it/s, Loss=-0.986]\n",
      "BYOL Epoch 77/200: 100%|██████████| 88/88 [00:38<00:00,  2.26it/s, Loss=-0.992]\n"
     ]
    },
    {
     "name": "stdout",
     "output_type": "stream",
     "text": [
      "Epoch 77/200 | Training Loss: -0.9865 | Validation Loss: -0.9916\n"
     ]
    },
    {
     "name": "stderr",
     "output_type": "stream",
     "text": [
      "BYOL Epoch 78/200: 100%|██████████| 614/614 [04:29<00:00,  2.27it/s, Loss=-0.984]\n",
      "BYOL Epoch 78/200: 100%|██████████| 88/88 [00:38<00:00,  2.28it/s, Loss=-0.982]\n"
     ]
    },
    {
     "name": "stdout",
     "output_type": "stream",
     "text": [
      "Epoch 78/200 | Training Loss: -0.9866 | Validation Loss: -0.9715\n"
     ]
    },
    {
     "name": "stderr",
     "output_type": "stream",
     "text": [
      "BYOL Epoch 79/200: 100%|██████████| 614/614 [04:28<00:00,  2.29it/s, Loss=-0.986]\n",
      "BYOL Epoch 79/200: 100%|██████████| 88/88 [00:37<00:00,  2.35it/s, Loss=-0.993]\n"
     ]
    },
    {
     "name": "stdout",
     "output_type": "stream",
     "text": [
      "Epoch 79/200 | Training Loss: -0.9867 | Validation Loss: -0.9917\n",
      "New best model with Validation Loss: -0.9917\n"
     ]
    },
    {
     "name": "stderr",
     "output_type": "stream",
     "text": [
      "BYOL Epoch 80/200: 100%|██████████| 614/614 [03:26<00:00,  2.97it/s, Loss=-0.986]\n",
      "BYOL Epoch 80/200: 100%|██████████| 88/88 [00:34<00:00,  2.54it/s, Loss=-0.991]\n"
     ]
    },
    {
     "name": "stdout",
     "output_type": "stream",
     "text": [
      "Epoch 80/200 | Training Loss: -0.9867 | Validation Loss: -0.9917\n",
      "New best model with Validation Loss: -0.9917\n"
     ]
    },
    {
     "name": "stderr",
     "output_type": "stream",
     "text": [
      "BYOL Epoch 81/200: 100%|██████████| 614/614 [03:26<00:00,  2.97it/s, Loss=-0.988]\n",
      "BYOL Epoch 81/200: 100%|██████████| 88/88 [00:34<00:00,  2.53it/s, Loss=-0.993]\n"
     ]
    },
    {
     "name": "stdout",
     "output_type": "stream",
     "text": [
      "Epoch 81/200 | Training Loss: -0.9868 | Validation Loss: -0.9917\n"
     ]
    },
    {
     "name": "stderr",
     "output_type": "stream",
     "text": [
      "BYOL Epoch 82/200: 100%|██████████| 614/614 [03:36<00:00,  2.84it/s, Loss=-0.987]\n",
      "BYOL Epoch 82/200: 100%|██████████| 88/88 [00:34<00:00,  2.56it/s, Loss=-0.993]\n"
     ]
    },
    {
     "name": "stdout",
     "output_type": "stream",
     "text": [
      "Epoch 82/200 | Training Loss: -0.9868 | Validation Loss: -0.9917\n"
     ]
    },
    {
     "name": "stderr",
     "output_type": "stream",
     "text": [
      "BYOL Epoch 83/200: 100%|██████████| 614/614 [03:39<00:00,  2.79it/s, Loss=-0.987]\n",
      "BYOL Epoch 83/200: 100%|██████████| 88/88 [00:37<00:00,  2.35it/s, Loss=-0.993]\n"
     ]
    },
    {
     "name": "stdout",
     "output_type": "stream",
     "text": [
      "Epoch 83/200 | Training Loss: -0.9868 | Validation Loss: -0.9919\n",
      "New best model with Validation Loss: -0.9919\n"
     ]
    },
    {
     "name": "stderr",
     "output_type": "stream",
     "text": [
      "BYOL Epoch 84/200: 100%|██████████| 614/614 [03:38<00:00,  2.81it/s, Loss=-0.988]\n",
      "BYOL Epoch 84/200: 100%|██████████| 88/88 [00:36<00:00,  2.41it/s, Loss=-0.992]\n"
     ]
    },
    {
     "name": "stdout",
     "output_type": "stream",
     "text": [
      "Epoch 84/200 | Training Loss: -0.9869 | Validation Loss: -0.9918\n"
     ]
    },
    {
     "name": "stderr",
     "output_type": "stream",
     "text": [
      "BYOL Epoch 85/200: 100%|██████████| 614/614 [03:39<00:00,  2.80it/s, Loss=-0.987]\n",
      "BYOL Epoch 85/200: 100%|██████████| 88/88 [00:36<00:00,  2.39it/s, Loss=-0.993]\n"
     ]
    },
    {
     "name": "stdout",
     "output_type": "stream",
     "text": [
      "Epoch 85/200 | Training Loss: -0.9869 | Validation Loss: -0.9919\n",
      "New best model with Validation Loss: -0.9919\n"
     ]
    },
    {
     "name": "stderr",
     "output_type": "stream",
     "text": [
      "BYOL Epoch 86/200: 100%|██████████| 614/614 [03:39<00:00,  2.80it/s, Loss=-0.987]\n",
      "BYOL Epoch 86/200: 100%|██████████| 88/88 [00:36<00:00,  2.40it/s, Loss=-0.993]\n"
     ]
    },
    {
     "name": "stdout",
     "output_type": "stream",
     "text": [
      "Epoch 86/200 | Training Loss: -0.9870 | Validation Loss: -0.9921\n",
      "New best model with Validation Loss: -0.9921\n"
     ]
    },
    {
     "name": "stderr",
     "output_type": "stream",
     "text": [
      "BYOL Epoch 87/200: 100%|██████████| 614/614 [03:40<00:00,  2.78it/s, Loss=-0.987]\n",
      "BYOL Epoch 87/200: 100%|██████████| 88/88 [00:36<00:00,  2.40it/s, Loss=-0.991]\n"
     ]
    },
    {
     "name": "stdout",
     "output_type": "stream",
     "text": [
      "Epoch 87/200 | Training Loss: -0.9870 | Validation Loss: -0.9898\n"
     ]
    },
    {
     "name": "stderr",
     "output_type": "stream",
     "text": [
      "BYOL Epoch 88/200: 100%|██████████| 614/614 [03:39<00:00,  2.79it/s, Loss=-0.987]\n",
      "BYOL Epoch 88/200: 100%|██████████| 88/88 [00:36<00:00,  2.40it/s, Loss=-0.992]\n"
     ]
    },
    {
     "name": "stdout",
     "output_type": "stream",
     "text": [
      "Epoch 88/200 | Training Loss: -0.9871 | Validation Loss: -0.9903\n"
     ]
    },
    {
     "name": "stderr",
     "output_type": "stream",
     "text": [
      "BYOL Epoch 89/200: 100%|██████████| 614/614 [03:41<00:00,  2.77it/s, Loss=-0.987]\n",
      "BYOL Epoch 89/200: 100%|██████████| 88/88 [00:35<00:00,  2.45it/s, Loss=-0.992]\n"
     ]
    },
    {
     "name": "stdout",
     "output_type": "stream",
     "text": [
      "Epoch 89/200 | Training Loss: -0.9871 | Validation Loss: -0.9907\n"
     ]
    },
    {
     "name": "stderr",
     "output_type": "stream",
     "text": [
      "BYOL Epoch 90/200: 100%|██████████| 614/614 [03:42<00:00,  2.75it/s, Loss=-0.987]\n",
      "BYOL Epoch 90/200: 100%|██████████| 88/88 [00:34<00:00,  2.55it/s, Loss=-0.993]\n"
     ]
    },
    {
     "name": "stdout",
     "output_type": "stream",
     "text": [
      "Epoch 90/200 | Training Loss: -0.9871 | Validation Loss: -0.9917\n"
     ]
    },
    {
     "name": "stderr",
     "output_type": "stream",
     "text": [
      "BYOL Epoch 91/200: 100%|██████████| 614/614 [03:42<00:00,  2.76it/s, Loss=-0.988]\n",
      "BYOL Epoch 91/200: 100%|██████████| 88/88 [00:34<00:00,  2.58it/s, Loss=-0.992]\n"
     ]
    },
    {
     "name": "stdout",
     "output_type": "stream",
     "text": [
      "Epoch 91/200 | Training Loss: -0.9872 | Validation Loss: -0.9923\n",
      "New best model with Validation Loss: -0.9923\n"
     ]
    },
    {
     "name": "stderr",
     "output_type": "stream",
     "text": [
      "BYOL Epoch 92/200: 100%|██████████| 614/614 [03:40<00:00,  2.78it/s, Loss=-0.988]\n",
      "BYOL Epoch 92/200: 100%|██████████| 88/88 [00:36<00:00,  2.41it/s, Loss=-0.991]\n"
     ]
    },
    {
     "name": "stdout",
     "output_type": "stream",
     "text": [
      "Epoch 92/200 | Training Loss: -0.9872 | Validation Loss: -0.9893\n"
     ]
    },
    {
     "name": "stderr",
     "output_type": "stream",
     "text": [
      "BYOL Epoch 93/200: 100%|██████████| 614/614 [03:42<00:00,  2.76it/s, Loss=-0.988]\n",
      "BYOL Epoch 93/200: 100%|██████████| 88/88 [00:35<00:00,  2.46it/s, Loss=-0.991]\n"
     ]
    },
    {
     "name": "stdout",
     "output_type": "stream",
     "text": [
      "Epoch 93/200 | Training Loss: -0.9872 | Validation Loss: -0.9897\n"
     ]
    },
    {
     "name": "stderr",
     "output_type": "stream",
     "text": [
      "BYOL Epoch 94/200: 100%|██████████| 614/614 [03:39<00:00,  2.80it/s, Loss=-0.988]\n",
      "BYOL Epoch 94/200: 100%|██████████| 88/88 [00:36<00:00,  2.44it/s, Loss=-0.992]\n"
     ]
    },
    {
     "name": "stdout",
     "output_type": "stream",
     "text": [
      "Epoch 94/200 | Training Loss: -0.9872 | Validation Loss: -0.9916\n"
     ]
    },
    {
     "name": "stderr",
     "output_type": "stream",
     "text": [
      "BYOL Epoch 95/200: 100%|██████████| 614/614 [03:40<00:00,  2.78it/s, Loss=-0.988]\n",
      "BYOL Epoch 95/200: 100%|██████████| 88/88 [00:36<00:00,  2.44it/s, Loss=-0.992]\n"
     ]
    },
    {
     "name": "stdout",
     "output_type": "stream",
     "text": [
      "Epoch 95/200 | Training Loss: -0.9873 | Validation Loss: -0.9919\n"
     ]
    },
    {
     "name": "stderr",
     "output_type": "stream",
     "text": [
      "BYOL Epoch 96/200: 100%|██████████| 614/614 [03:41<00:00,  2.77it/s, Loss=-0.987]\n",
      "BYOL Epoch 96/200: 100%|██████████| 88/88 [00:35<00:00,  2.45it/s, Loss=-0.992]\n"
     ]
    },
    {
     "name": "stdout",
     "output_type": "stream",
     "text": [
      "Epoch 96/200 | Training Loss: -0.9873 | Validation Loss: -0.9920\n"
     ]
    },
    {
     "name": "stderr",
     "output_type": "stream",
     "text": [
      "BYOL Epoch 97/200: 100%|██████████| 614/614 [03:44<00:00,  2.74it/s, Loss=-0.988]\n",
      "BYOL Epoch 97/200: 100%|██████████| 88/88 [00:38<00:00,  2.31it/s, Loss=-0.992]\n"
     ]
    },
    {
     "name": "stdout",
     "output_type": "stream",
     "text": [
      "Epoch 97/200 | Training Loss: -0.9873 | Validation Loss: -0.9922\n"
     ]
    },
    {
     "name": "stderr",
     "output_type": "stream",
     "text": [
      "BYOL Epoch 98/200: 100%|██████████| 614/614 [03:36<00:00,  2.84it/s, Loss=-0.989]\n",
      "BYOL Epoch 98/200: 100%|██████████| 88/88 [00:32<00:00,  2.70it/s, Loss=-0.992]\n"
     ]
    },
    {
     "name": "stdout",
     "output_type": "stream",
     "text": [
      "Epoch 98/200 | Training Loss: -0.9873 | Validation Loss: -0.9922\n"
     ]
    },
    {
     "name": "stderr",
     "output_type": "stream",
     "text": [
      "BYOL Epoch 99/200: 100%|██████████| 614/614 [03:36<00:00,  2.83it/s, Loss=-0.988]\n",
      "BYOL Epoch 99/200: 100%|██████████| 88/88 [00:34<00:00,  2.53it/s, Loss=-0.992]\n"
     ]
    },
    {
     "name": "stdout",
     "output_type": "stream",
     "text": [
      "Epoch 99/200 | Training Loss: -0.9873 | Validation Loss: -0.9922\n"
     ]
    },
    {
     "name": "stderr",
     "output_type": "stream",
     "text": [
      "BYOL Epoch 100/200: 100%|██████████| 614/614 [03:21<00:00,  3.05it/s, Loss=-0.988]\n",
      "BYOL Epoch 100/200: 100%|██████████| 88/88 [00:25<00:00,  3.48it/s, Loss=-0.993]\n"
     ]
    },
    {
     "name": "stdout",
     "output_type": "stream",
     "text": [
      "Epoch 100/200 | Training Loss: -0.9874 | Validation Loss: -0.9921\n"
     ]
    },
    {
     "name": "stderr",
     "output_type": "stream",
     "text": [
      "BYOL Epoch 101/200: 100%|██████████| 614/614 [02:34<00:00,  3.98it/s, Loss=-0.985]\n",
      "BYOL Epoch 101/200: 100%|██████████| 88/88 [00:25<00:00,  3.51it/s, Loss=-0.993]\n"
     ]
    },
    {
     "name": "stdout",
     "output_type": "stream",
     "text": [
      "Epoch 101/200 | Training Loss: -0.9874 | Validation Loss: -0.9922\n",
      "Early stopping.\n"
     ]
    }
   ],
   "source": [
    "def train_model(byol_model, byol_train_loader, byol_val_loader, criterion, optimizer, patience, epochs=10):\n",
    "    \"\"\"\n",
    "    Pre-train the backbone and evaluate it on the validation set after each epoch.\n",
    "    \"\"\"\n",
    "\n",
    "    # List to store byol loss\n",
    "    byol_train_losses = []\n",
    "    byol_val_losses = []\n",
    "\n",
    "    # Early stopping parameters\n",
    "    best_loss = 0\n",
    "    epochs_without_improvement = 0\n",
    "\n",
    "    for epoch in range(epochs):\n",
    "\n",
    "\n",
    "        # ---Training---\n",
    "        byol_model.train()\n",
    "        train_loss = 0.0\n",
    "\n",
    "        # For mixed precision\n",
    "        scaler = GradScaler()\n",
    "\n",
    "        # Progress bar\n",
    "        progress_bar = tqdm(byol_train_loader, desc=f\"BYOL Epoch {epoch+1}/{epochs}\")\n",
    "\n",
    "        # Scheduler\n",
    "        momentum_val = cosine_schedule(epoch, epochs, 0.996, 1)\n",
    "\n",
    "        for batch in progress_bar:\n",
    "            x0, x1 = batch\n",
    "            update_momentum(byol_model.backbone, byol_model.backbone_momentum, m=momentum_val)\n",
    "            update_momentum(byol_model.projection_head, byol_model.projection_head_momentum, m=momentum_val)\n",
    "\n",
    "            x0 = x0.to(device)\n",
    "            x1 = x1.to(device)\n",
    "\n",
    "            # Clear gradients\n",
    "            optimizer.zero_grad()\n",
    "\n",
    "            with autocast('cuda'):\n",
    "\n",
    "                # Forward pass\n",
    "                p0 = byol_model.forward_student(x0)\n",
    "                z0 = byol_model.forward_teacher(x0)\n",
    "                p1 = byol_model.forward_student(x1)\n",
    "                z1 = byol_model.forward_teacher(x1)\n",
    "\n",
    "                # Compute loss\n",
    "                loss = 0.5 * (criterion(p0, z1) + criterion(p1, z0))\n",
    "\n",
    "            # Backward pass + scaling\n",
    "            scaler.scale(loss).backward()\n",
    "            scaler.step(optimizer)\n",
    "            scaler.update()\n",
    "\n",
    "            train_loss += loss.item()\n",
    "            progress_bar.set_postfix({\"Loss\": loss.item()})\n",
    "\n",
    "        # Calculate average training loss\n",
    "        train_loss = train_loss / len(byol_train_loader)\n",
    "        byol_train_losses.append(train_loss)\n",
    "\n",
    "\n",
    "        # ---Validation---\n",
    "        byol_model.eval()\n",
    "        val_loss = 0\n",
    "\n",
    "        # Progress bar\n",
    "        progress_bar = tqdm(byol_val_loader, desc=f\"BYOL Epoch {epoch+1}/{epochs}\")\n",
    "\n",
    "        # Disable gradients for evaluation\n",
    "        with torch.no_grad():\n",
    "            for batch in progress_bar:\n",
    "                x0, x1 = batch\n",
    "\n",
    "                x0 = x0.to(device)\n",
    "                x1 = x1.to(device)\n",
    "\n",
    "                # Forward pass\n",
    "                p0 = byol_model.forward_student(x0)\n",
    "                z0 = byol_model.forward_teacher(x0)\n",
    "                p1 = byol_model.forward_student(x1)\n",
    "                z1 = byol_model.forward_teacher(x1)\n",
    "\n",
    "                # Compute loss\n",
    "                loss = 0.5 * (criterion(p0, z1) + criterion(p1, z0))\n",
    "\n",
    "                val_loss  += loss.item()\n",
    "                progress_bar.set_postfix({\"Loss\": loss.item()})\n",
    "\n",
    "        # Calculate average validation loss\n",
    "        val_loss = val_loss / len(byol_val_loader)\n",
    "        byol_val_losses.append(val_loss)\n",
    "\n",
    "        print(f\"Epoch {epoch+1}/{epochs} | Training Loss: {train_loss:.4f} | \"\n",
    "              f\"Validation Loss: {val_loss:.4f}\")\n",
    "\n",
    "        # Early stopping\n",
    "        if best_loss > val_loss:\n",
    "\n",
    "            # Reset early stopping parameters\n",
    "            best_loss = val_loss\n",
    "            epochs_without_improvement = 0\n",
    "\n",
    "            # Save the best model\n",
    "            torch.save(byol_model.state_dict(), 'byol_four_augmentation.pt')\n",
    "            print(f\"New best model with Validation Loss: {val_loss:.4f}\")\n",
    "        else:\n",
    "            epochs_without_improvement += 1\n",
    "\n",
    "            # Condition for doing early stopping\n",
    "            if epochs_without_improvement >= patience :\n",
    "                print(f\"Early stopping.\")\n",
    "                break\n",
    "\n",
    "    # Load the best model\n",
    "    byol_model.load_state_dict(torch.load('byol_four_augmentation.pt', weights_only=True))\n",
    "\n",
    "    return byol_train_losses, byol_val_losses\n",
    "\n",
    "# Train the model\n",
    "byol_train_losses, byol_val_losses = train_model(byol_model, byol_train_loader, byol_val_loader, criterion, optimizer_byol, EARLY_STOPPING_PATIENCE, EPOCHS_BYOL)"
   ]
  },
  {
   "cell_type": "markdown",
   "metadata": {},
   "source": [
    "# **Step 4: Build the Model**"
   ]
  },
  {
   "cell_type": "markdown",
   "metadata": {},
   "source": [
    "**Initialize the Multi-Label Classifier Model**"
   ]
  },
  {
   "cell_type": "code",
   "execution_count": 18,
   "metadata": {},
   "outputs": [
    {
     "data": {
      "text/plain": [
       "MultiLabelClassifier(\n",
       "  (base_model): MambaVisionModel(\n",
       "    (model): MambaVision(\n",
       "      (patch_embed): PatchEmbed(\n",
       "        (proj): Identity()\n",
       "        (conv_down): Sequential(\n",
       "          (0): Conv2d(3, 32, kernel_size=(3, 3), stride=(2, 2), padding=(1, 1), bias=False)\n",
       "          (1): BatchNorm2d(32, eps=0.0001, momentum=0.1, affine=True, track_running_stats=True)\n",
       "          (2): ReLU()\n",
       "          (3): Conv2d(32, 80, kernel_size=(3, 3), stride=(2, 2), padding=(1, 1), bias=False)\n",
       "          (4): BatchNorm2d(80, eps=0.0001, momentum=0.1, affine=True, track_running_stats=True)\n",
       "          (5): ReLU()\n",
       "        )\n",
       "      )\n",
       "      (levels): ModuleList(\n",
       "        (0): MambaVisionLayer(\n",
       "          (blocks): ModuleList(\n",
       "            (0): ConvBlock(\n",
       "              (conv1): Conv2d(80, 80, kernel_size=(3, 3), stride=(1, 1), padding=(1, 1))\n",
       "              (norm1): BatchNorm2d(80, eps=1e-05, momentum=0.1, affine=True, track_running_stats=True)\n",
       "              (act1): GELU(approximate='tanh')\n",
       "              (conv2): Conv2d(80, 80, kernel_size=(3, 3), stride=(1, 1), padding=(1, 1))\n",
       "              (norm2): BatchNorm2d(80, eps=1e-05, momentum=0.1, affine=True, track_running_stats=True)\n",
       "              (drop_path): Identity()\n",
       "            )\n",
       "          )\n",
       "          (downsample): Downsample(\n",
       "            (reduction): Sequential(\n",
       "              (0): Conv2d(80, 160, kernel_size=(3, 3), stride=(2, 2), padding=(1, 1), bias=False)\n",
       "            )\n",
       "          )\n",
       "        )\n",
       "        (1): MambaVisionLayer(\n",
       "          (blocks): ModuleList(\n",
       "            (0): ConvBlock(\n",
       "              (conv1): Conv2d(160, 160, kernel_size=(3, 3), stride=(1, 1), padding=(1, 1))\n",
       "              (norm1): BatchNorm2d(160, eps=1e-05, momentum=0.1, affine=True, track_running_stats=True)\n",
       "              (act1): GELU(approximate='tanh')\n",
       "              (conv2): Conv2d(160, 160, kernel_size=(3, 3), stride=(1, 1), padding=(1, 1))\n",
       "              (norm2): BatchNorm2d(160, eps=1e-05, momentum=0.1, affine=True, track_running_stats=True)\n",
       "              (drop_path): DropPath(drop_prob=0.011)\n",
       "            )\n",
       "            (1): ConvBlock(\n",
       "              (conv1): Conv2d(160, 160, kernel_size=(3, 3), stride=(1, 1), padding=(1, 1))\n",
       "              (norm1): BatchNorm2d(160, eps=1e-05, momentum=0.1, affine=True, track_running_stats=True)\n",
       "              (act1): GELU(approximate='tanh')\n",
       "              (conv2): Conv2d(160, 160, kernel_size=(3, 3), stride=(1, 1), padding=(1, 1))\n",
       "              (norm2): BatchNorm2d(160, eps=1e-05, momentum=0.1, affine=True, track_running_stats=True)\n",
       "              (drop_path): DropPath(drop_prob=0.022)\n",
       "            )\n",
       "            (2): ConvBlock(\n",
       "              (conv1): Conv2d(160, 160, kernel_size=(3, 3), stride=(1, 1), padding=(1, 1))\n",
       "              (norm1): BatchNorm2d(160, eps=1e-05, momentum=0.1, affine=True, track_running_stats=True)\n",
       "              (act1): GELU(approximate='tanh')\n",
       "              (conv2): Conv2d(160, 160, kernel_size=(3, 3), stride=(1, 1), padding=(1, 1))\n",
       "              (norm2): BatchNorm2d(160, eps=1e-05, momentum=0.1, affine=True, track_running_stats=True)\n",
       "              (drop_path): DropPath(drop_prob=0.033)\n",
       "            )\n",
       "          )\n",
       "          (downsample): Downsample(\n",
       "            (reduction): Sequential(\n",
       "              (0): Conv2d(160, 320, kernel_size=(3, 3), stride=(2, 2), padding=(1, 1), bias=False)\n",
       "            )\n",
       "          )\n",
       "        )\n",
       "        (2): MambaVisionLayer(\n",
       "          (blocks): ModuleList(\n",
       "            (0): Block(\n",
       "              (norm1): LayerNorm((320,), eps=1e-05, elementwise_affine=True)\n",
       "              (mixer): MambaVisionMixer(\n",
       "                (in_proj): Linear(in_features=320, out_features=320, bias=False)\n",
       "                (x_proj): Linear(in_features=160, out_features=36, bias=False)\n",
       "                (dt_proj): Linear(in_features=20, out_features=160, bias=True)\n",
       "                (out_proj): Linear(in_features=320, out_features=320, bias=False)\n",
       "                (conv1d_x): Conv1d(160, 160, kernel_size=(3,), stride=(1,), groups=160, bias=False)\n",
       "                (conv1d_z): Conv1d(160, 160, kernel_size=(3,), stride=(1,), groups=160, bias=False)\n",
       "              )\n",
       "              (drop_path): DropPath(drop_prob=0.044)\n",
       "              (norm2): LayerNorm((320,), eps=1e-05, elementwise_affine=True)\n",
       "              (mlp): Mlp(\n",
       "                (fc1): Linear(in_features=320, out_features=1280, bias=True)\n",
       "                (act): GELU(approximate='none')\n",
       "                (drop1): Dropout(p=0.0, inplace=False)\n",
       "                (norm): Identity()\n",
       "                (fc2): Linear(in_features=1280, out_features=320, bias=True)\n",
       "                (drop2): Dropout(p=0.0, inplace=False)\n",
       "              )\n",
       "            )\n",
       "            (1): Block(\n",
       "              (norm1): LayerNorm((320,), eps=1e-05, elementwise_affine=True)\n",
       "              (mixer): MambaVisionMixer(\n",
       "                (in_proj): Linear(in_features=320, out_features=320, bias=False)\n",
       "                (x_proj): Linear(in_features=160, out_features=36, bias=False)\n",
       "                (dt_proj): Linear(in_features=20, out_features=160, bias=True)\n",
       "                (out_proj): Linear(in_features=320, out_features=320, bias=False)\n",
       "                (conv1d_x): Conv1d(160, 160, kernel_size=(3,), stride=(1,), groups=160, bias=False)\n",
       "                (conv1d_z): Conv1d(160, 160, kernel_size=(3,), stride=(1,), groups=160, bias=False)\n",
       "              )\n",
       "              (drop_path): DropPath(drop_prob=0.056)\n",
       "              (norm2): LayerNorm((320,), eps=1e-05, elementwise_affine=True)\n",
       "              (mlp): Mlp(\n",
       "                (fc1): Linear(in_features=320, out_features=1280, bias=True)\n",
       "                (act): GELU(approximate='none')\n",
       "                (drop1): Dropout(p=0.0, inplace=False)\n",
       "                (norm): Identity()\n",
       "                (fc2): Linear(in_features=1280, out_features=320, bias=True)\n",
       "                (drop2): Dropout(p=0.0, inplace=False)\n",
       "              )\n",
       "            )\n",
       "            (2): Block(\n",
       "              (norm1): LayerNorm((320,), eps=1e-05, elementwise_affine=True)\n",
       "              (mixer): MambaVisionMixer(\n",
       "                (in_proj): Linear(in_features=320, out_features=320, bias=False)\n",
       "                (x_proj): Linear(in_features=160, out_features=36, bias=False)\n",
       "                (dt_proj): Linear(in_features=20, out_features=160, bias=True)\n",
       "                (out_proj): Linear(in_features=320, out_features=320, bias=False)\n",
       "                (conv1d_x): Conv1d(160, 160, kernel_size=(3,), stride=(1,), groups=160, bias=False)\n",
       "                (conv1d_z): Conv1d(160, 160, kernel_size=(3,), stride=(1,), groups=160, bias=False)\n",
       "              )\n",
       "              (drop_path): DropPath(drop_prob=0.067)\n",
       "              (norm2): LayerNorm((320,), eps=1e-05, elementwise_affine=True)\n",
       "              (mlp): Mlp(\n",
       "                (fc1): Linear(in_features=320, out_features=1280, bias=True)\n",
       "                (act): GELU(approximate='none')\n",
       "                (drop1): Dropout(p=0.0, inplace=False)\n",
       "                (norm): Identity()\n",
       "                (fc2): Linear(in_features=1280, out_features=320, bias=True)\n",
       "                (drop2): Dropout(p=0.0, inplace=False)\n",
       "              )\n",
       "            )\n",
       "            (3): Block(\n",
       "              (norm1): LayerNorm((320,), eps=1e-05, elementwise_affine=True)\n",
       "              (mixer): MambaVisionMixer(\n",
       "                (in_proj): Linear(in_features=320, out_features=320, bias=False)\n",
       "                (x_proj): Linear(in_features=160, out_features=36, bias=False)\n",
       "                (dt_proj): Linear(in_features=20, out_features=160, bias=True)\n",
       "                (out_proj): Linear(in_features=320, out_features=320, bias=False)\n",
       "                (conv1d_x): Conv1d(160, 160, kernel_size=(3,), stride=(1,), groups=160, bias=False)\n",
       "                (conv1d_z): Conv1d(160, 160, kernel_size=(3,), stride=(1,), groups=160, bias=False)\n",
       "              )\n",
       "              (drop_path): DropPath(drop_prob=0.078)\n",
       "              (norm2): LayerNorm((320,), eps=1e-05, elementwise_affine=True)\n",
       "              (mlp): Mlp(\n",
       "                (fc1): Linear(in_features=320, out_features=1280, bias=True)\n",
       "                (act): GELU(approximate='none')\n",
       "                (drop1): Dropout(p=0.0, inplace=False)\n",
       "                (norm): Identity()\n",
       "                (fc2): Linear(in_features=1280, out_features=320, bias=True)\n",
       "                (drop2): Dropout(p=0.0, inplace=False)\n",
       "              )\n",
       "            )\n",
       "            (4): Block(\n",
       "              (norm1): LayerNorm((320,), eps=1e-05, elementwise_affine=True)\n",
       "              (mixer): MambaVisionMixer(\n",
       "                (in_proj): Linear(in_features=320, out_features=320, bias=False)\n",
       "                (x_proj): Linear(in_features=160, out_features=36, bias=False)\n",
       "                (dt_proj): Linear(in_features=20, out_features=160, bias=True)\n",
       "                (out_proj): Linear(in_features=320, out_features=320, bias=False)\n",
       "                (conv1d_x): Conv1d(160, 160, kernel_size=(3,), stride=(1,), groups=160, bias=False)\n",
       "                (conv1d_z): Conv1d(160, 160, kernel_size=(3,), stride=(1,), groups=160, bias=False)\n",
       "              )\n",
       "              (drop_path): DropPath(drop_prob=0.089)\n",
       "              (norm2): LayerNorm((320,), eps=1e-05, elementwise_affine=True)\n",
       "              (mlp): Mlp(\n",
       "                (fc1): Linear(in_features=320, out_features=1280, bias=True)\n",
       "                (act): GELU(approximate='none')\n",
       "                (drop1): Dropout(p=0.0, inplace=False)\n",
       "                (norm): Identity()\n",
       "                (fc2): Linear(in_features=1280, out_features=320, bias=True)\n",
       "                (drop2): Dropout(p=0.0, inplace=False)\n",
       "              )\n",
       "            )\n",
       "            (5): Block(\n",
       "              (norm1): LayerNorm((320,), eps=1e-05, elementwise_affine=True)\n",
       "              (mixer): MambaVisionMixer(\n",
       "                (in_proj): Linear(in_features=320, out_features=320, bias=False)\n",
       "                (x_proj): Linear(in_features=160, out_features=36, bias=False)\n",
       "                (dt_proj): Linear(in_features=20, out_features=160, bias=True)\n",
       "                (out_proj): Linear(in_features=320, out_features=320, bias=False)\n",
       "                (conv1d_x): Conv1d(160, 160, kernel_size=(3,), stride=(1,), groups=160, bias=False)\n",
       "                (conv1d_z): Conv1d(160, 160, kernel_size=(3,), stride=(1,), groups=160, bias=False)\n",
       "              )\n",
       "              (drop_path): DropPath(drop_prob=0.100)\n",
       "              (norm2): LayerNorm((320,), eps=1e-05, elementwise_affine=True)\n",
       "              (mlp): Mlp(\n",
       "                (fc1): Linear(in_features=320, out_features=1280, bias=True)\n",
       "                (act): GELU(approximate='none')\n",
       "                (drop1): Dropout(p=0.0, inplace=False)\n",
       "                (norm): Identity()\n",
       "                (fc2): Linear(in_features=1280, out_features=320, bias=True)\n",
       "                (drop2): Dropout(p=0.0, inplace=False)\n",
       "              )\n",
       "            )\n",
       "            (6): Block(\n",
       "              (norm1): LayerNorm((320,), eps=1e-05, elementwise_affine=True)\n",
       "              (mixer): Attention(\n",
       "                (qkv): Linear(in_features=320, out_features=960, bias=True)\n",
       "                (q_norm): Identity()\n",
       "                (k_norm): Identity()\n",
       "                (attn_drop): Dropout(p=0.0, inplace=False)\n",
       "                (proj): Linear(in_features=320, out_features=320, bias=True)\n",
       "                (proj_drop): Dropout(p=0.0, inplace=False)\n",
       "              )\n",
       "              (drop_path): DropPath(drop_prob=0.111)\n",
       "              (norm2): LayerNorm((320,), eps=1e-05, elementwise_affine=True)\n",
       "              (mlp): Mlp(\n",
       "                (fc1): Linear(in_features=320, out_features=1280, bias=True)\n",
       "                (act): GELU(approximate='none')\n",
       "                (drop1): Dropout(p=0.0, inplace=False)\n",
       "                (norm): Identity()\n",
       "                (fc2): Linear(in_features=1280, out_features=320, bias=True)\n",
       "                (drop2): Dropout(p=0.0, inplace=False)\n",
       "              )\n",
       "            )\n",
       "            (7): Block(\n",
       "              (norm1): LayerNorm((320,), eps=1e-05, elementwise_affine=True)\n",
       "              (mixer): Attention(\n",
       "                (qkv): Linear(in_features=320, out_features=960, bias=True)\n",
       "                (q_norm): Identity()\n",
       "                (k_norm): Identity()\n",
       "                (attn_drop): Dropout(p=0.0, inplace=False)\n",
       "                (proj): Linear(in_features=320, out_features=320, bias=True)\n",
       "                (proj_drop): Dropout(p=0.0, inplace=False)\n",
       "              )\n",
       "              (drop_path): DropPath(drop_prob=0.122)\n",
       "              (norm2): LayerNorm((320,), eps=1e-05, elementwise_affine=True)\n",
       "              (mlp): Mlp(\n",
       "                (fc1): Linear(in_features=320, out_features=1280, bias=True)\n",
       "                (act): GELU(approximate='none')\n",
       "                (drop1): Dropout(p=0.0, inplace=False)\n",
       "                (norm): Identity()\n",
       "                (fc2): Linear(in_features=1280, out_features=320, bias=True)\n",
       "                (drop2): Dropout(p=0.0, inplace=False)\n",
       "              )\n",
       "            )\n",
       "            (8): Block(\n",
       "              (norm1): LayerNorm((320,), eps=1e-05, elementwise_affine=True)\n",
       "              (mixer): Attention(\n",
       "                (qkv): Linear(in_features=320, out_features=960, bias=True)\n",
       "                (q_norm): Identity()\n",
       "                (k_norm): Identity()\n",
       "                (attn_drop): Dropout(p=0.0, inplace=False)\n",
       "                (proj): Linear(in_features=320, out_features=320, bias=True)\n",
       "                (proj_drop): Dropout(p=0.0, inplace=False)\n",
       "              )\n",
       "              (drop_path): DropPath(drop_prob=0.133)\n",
       "              (norm2): LayerNorm((320,), eps=1e-05, elementwise_affine=True)\n",
       "              (mlp): Mlp(\n",
       "                (fc1): Linear(in_features=320, out_features=1280, bias=True)\n",
       "                (act): GELU(approximate='none')\n",
       "                (drop1): Dropout(p=0.0, inplace=False)\n",
       "                (norm): Identity()\n",
       "                (fc2): Linear(in_features=1280, out_features=320, bias=True)\n",
       "                (drop2): Dropout(p=0.0, inplace=False)\n",
       "              )\n",
       "            )\n",
       "            (9): Block(\n",
       "              (norm1): LayerNorm((320,), eps=1e-05, elementwise_affine=True)\n",
       "              (mixer): Attention(\n",
       "                (qkv): Linear(in_features=320, out_features=960, bias=True)\n",
       "                (q_norm): Identity()\n",
       "                (k_norm): Identity()\n",
       "                (attn_drop): Dropout(p=0.0, inplace=False)\n",
       "                (proj): Linear(in_features=320, out_features=320, bias=True)\n",
       "                (proj_drop): Dropout(p=0.0, inplace=False)\n",
       "              )\n",
       "              (drop_path): DropPath(drop_prob=0.144)\n",
       "              (norm2): LayerNorm((320,), eps=1e-05, elementwise_affine=True)\n",
       "              (mlp): Mlp(\n",
       "                (fc1): Linear(in_features=320, out_features=1280, bias=True)\n",
       "                (act): GELU(approximate='none')\n",
       "                (drop1): Dropout(p=0.0, inplace=False)\n",
       "                (norm): Identity()\n",
       "                (fc2): Linear(in_features=1280, out_features=320, bias=True)\n",
       "                (drop2): Dropout(p=0.0, inplace=False)\n",
       "              )\n",
       "            )\n",
       "            (10): Block(\n",
       "              (norm1): LayerNorm((320,), eps=1e-05, elementwise_affine=True)\n",
       "              (mixer): Attention(\n",
       "                (qkv): Linear(in_features=320, out_features=960, bias=True)\n",
       "                (q_norm): Identity()\n",
       "                (k_norm): Identity()\n",
       "                (attn_drop): Dropout(p=0.0, inplace=False)\n",
       "                (proj): Linear(in_features=320, out_features=320, bias=True)\n",
       "                (proj_drop): Dropout(p=0.0, inplace=False)\n",
       "              )\n",
       "              (drop_path): DropPath(drop_prob=0.156)\n",
       "              (norm2): LayerNorm((320,), eps=1e-05, elementwise_affine=True)\n",
       "              (mlp): Mlp(\n",
       "                (fc1): Linear(in_features=320, out_features=1280, bias=True)\n",
       "                (act): GELU(approximate='none')\n",
       "                (drop1): Dropout(p=0.0, inplace=False)\n",
       "                (norm): Identity()\n",
       "                (fc2): Linear(in_features=1280, out_features=320, bias=True)\n",
       "                (drop2): Dropout(p=0.0, inplace=False)\n",
       "              )\n",
       "            )\n",
       "          )\n",
       "          (downsample): Downsample(\n",
       "            (reduction): Sequential(\n",
       "              (0): Conv2d(320, 640, kernel_size=(3, 3), stride=(2, 2), padding=(1, 1), bias=False)\n",
       "            )\n",
       "          )\n",
       "        )\n",
       "        (3): MambaVisionLayer(\n",
       "          (blocks): ModuleList(\n",
       "            (0): Block(\n",
       "              (norm1): LayerNorm((640,), eps=1e-05, elementwise_affine=True)\n",
       "              (mixer): MambaVisionMixer(\n",
       "                (in_proj): Linear(in_features=640, out_features=640, bias=False)\n",
       "                (x_proj): Linear(in_features=320, out_features=56, bias=False)\n",
       "                (dt_proj): Linear(in_features=40, out_features=320, bias=True)\n",
       "                (out_proj): Linear(in_features=640, out_features=640, bias=False)\n",
       "                (conv1d_x): Conv1d(320, 320, kernel_size=(3,), stride=(1,), groups=320, bias=False)\n",
       "                (conv1d_z): Conv1d(320, 320, kernel_size=(3,), stride=(1,), groups=320, bias=False)\n",
       "              )\n",
       "              (drop_path): DropPath(drop_prob=0.167)\n",
       "              (norm2): LayerNorm((640,), eps=1e-05, elementwise_affine=True)\n",
       "              (mlp): Mlp(\n",
       "                (fc1): Linear(in_features=640, out_features=2560, bias=True)\n",
       "                (act): GELU(approximate='none')\n",
       "                (drop1): Dropout(p=0.0, inplace=False)\n",
       "                (norm): Identity()\n",
       "                (fc2): Linear(in_features=2560, out_features=640, bias=True)\n",
       "                (drop2): Dropout(p=0.0, inplace=False)\n",
       "              )\n",
       "            )\n",
       "            (1): Block(\n",
       "              (norm1): LayerNorm((640,), eps=1e-05, elementwise_affine=True)\n",
       "              (mixer): MambaVisionMixer(\n",
       "                (in_proj): Linear(in_features=640, out_features=640, bias=False)\n",
       "                (x_proj): Linear(in_features=320, out_features=56, bias=False)\n",
       "                (dt_proj): Linear(in_features=40, out_features=320, bias=True)\n",
       "                (out_proj): Linear(in_features=640, out_features=640, bias=False)\n",
       "                (conv1d_x): Conv1d(320, 320, kernel_size=(3,), stride=(1,), groups=320, bias=False)\n",
       "                (conv1d_z): Conv1d(320, 320, kernel_size=(3,), stride=(1,), groups=320, bias=False)\n",
       "              )\n",
       "              (drop_path): DropPath(drop_prob=0.178)\n",
       "              (norm2): LayerNorm((640,), eps=1e-05, elementwise_affine=True)\n",
       "              (mlp): Mlp(\n",
       "                (fc1): Linear(in_features=640, out_features=2560, bias=True)\n",
       "                (act): GELU(approximate='none')\n",
       "                (drop1): Dropout(p=0.0, inplace=False)\n",
       "                (norm): Identity()\n",
       "                (fc2): Linear(in_features=2560, out_features=640, bias=True)\n",
       "                (drop2): Dropout(p=0.0, inplace=False)\n",
       "              )\n",
       "            )\n",
       "            (2): Block(\n",
       "              (norm1): LayerNorm((640,), eps=1e-05, elementwise_affine=True)\n",
       "              (mixer): Attention(\n",
       "                (qkv): Linear(in_features=640, out_features=1920, bias=True)\n",
       "                (q_norm): Identity()\n",
       "                (k_norm): Identity()\n",
       "                (attn_drop): Dropout(p=0.0, inplace=False)\n",
       "                (proj): Linear(in_features=640, out_features=640, bias=True)\n",
       "                (proj_drop): Dropout(p=0.0, inplace=False)\n",
       "              )\n",
       "              (drop_path): DropPath(drop_prob=0.189)\n",
       "              (norm2): LayerNorm((640,), eps=1e-05, elementwise_affine=True)\n",
       "              (mlp): Mlp(\n",
       "                (fc1): Linear(in_features=640, out_features=2560, bias=True)\n",
       "                (act): GELU(approximate='none')\n",
       "                (drop1): Dropout(p=0.0, inplace=False)\n",
       "                (norm): Identity()\n",
       "                (fc2): Linear(in_features=2560, out_features=640, bias=True)\n",
       "                (drop2): Dropout(p=0.0, inplace=False)\n",
       "              )\n",
       "            )\n",
       "            (3): Block(\n",
       "              (norm1): LayerNorm((640,), eps=1e-05, elementwise_affine=True)\n",
       "              (mixer): Attention(\n",
       "                (qkv): Linear(in_features=640, out_features=1920, bias=True)\n",
       "                (q_norm): Identity()\n",
       "                (k_norm): Identity()\n",
       "                (attn_drop): Dropout(p=0.0, inplace=False)\n",
       "                (proj): Linear(in_features=640, out_features=640, bias=True)\n",
       "                (proj_drop): Dropout(p=0.0, inplace=False)\n",
       "              )\n",
       "              (drop_path): DropPath(drop_prob=0.200)\n",
       "              (norm2): LayerNorm((640,), eps=1e-05, elementwise_affine=True)\n",
       "              (mlp): Mlp(\n",
       "                (fc1): Linear(in_features=640, out_features=2560, bias=True)\n",
       "                (act): GELU(approximate='none')\n",
       "                (drop1): Dropout(p=0.0, inplace=False)\n",
       "                (norm): Identity()\n",
       "                (fc2): Linear(in_features=2560, out_features=640, bias=True)\n",
       "                (drop2): Dropout(p=0.0, inplace=False)\n",
       "              )\n",
       "            )\n",
       "          )\n",
       "        )\n",
       "      )\n",
       "      (norm): BatchNorm2d(640, eps=1e-05, momentum=0.1, affine=True, track_running_stats=True)\n",
       "      (avgpool): AdaptiveAvgPool2d(output_size=1)\n",
       "      (head): Linear(in_features=640, out_features=14, bias=True)\n",
       "    )\n",
       "  )\n",
       ")"
      ]
     },
     "execution_count": 18,
     "metadata": {},
     "output_type": "execute_result"
    }
   ],
   "source": [
    "# Define the model\n",
    "class MultiLabelClassifier(nn.Module):\n",
    "    \"\"\"\n",
    "    Multi-Label Classification Model using MambaVision as the base model.\n",
    "    \"\"\"\n",
    "    def __init__(self, backbone, num_classes=len(disease_labels)):\n",
    "        super(MultiLabelClassifier, self).__init__()\n",
    "\n",
    "        # Load pre-trained MambaVision model\n",
    "        self.base_model = backbone.backbone\n",
    "\n",
    "        # Replace the classification head to match the number of disease labels\n",
    "        self.base_model.model.head = nn.Linear(self.base_model.model.head.in_features, num_classes)\n",
    "\n",
    "    def forward(self, x):\n",
    "        avg_pool, _ = self.base_model(x)\n",
    "        return self.base_model.model.head(avg_pool)\n",
    "\n",
    "# Initialize the Model\n",
    "model = MultiLabelClassifier(byol_model)\n",
    "model.to(device)"
   ]
  },
  {
   "cell_type": "markdown",
   "metadata": {},
   "source": [
    "**Use Multiple GPUs**"
   ]
  },
  {
   "cell_type": "code",
   "execution_count": 19,
   "metadata": {},
   "outputs": [],
   "source": [
    "model = nn.DataParallel(model)"
   ]
  },
  {
   "cell_type": "markdown",
   "metadata": {},
   "source": [
    "# **Step 5: Train the Model**"
   ]
  },
  {
   "cell_type": "markdown",
   "metadata": {},
   "source": [
    "**Training Loop  Function**"
   ]
  },
  {
   "cell_type": "code",
   "execution_count": 20,
   "metadata": {},
   "outputs": [],
   "source": [
    "def train_model(model, train_loader, val_loader, criterion, optimizer, patience, epochs=10):\n",
    "\n",
    "    \"\"\"\n",
    "    Trains the model and evaluates it on the validation set after each epoch.\n",
    "    \"\"\"\n",
    "    # List to store loss and AUC\n",
    "    train_losses = []\n",
    "    val_losses = []\n",
    "    val_aucs = []\n",
    "\n",
    "    # For mixed precision\n",
    "    scaler = GradScaler()\n",
    "\n",
    "    # Early stopping parameters\n",
    "    best_score = 0\n",
    "    epochs_without_improvement = 0\n",
    "\n",
    "    for epoch in range(epochs):\n",
    "\n",
    "        # Training\n",
    "        model.train()\n",
    "        train_loss = 0.0\n",
    "\n",
    "        # Progress bar\n",
    "        progress_bar = tqdm(train_loader, desc=f\"Epoch {epoch+1}/{epochs}\")\n",
    "\n",
    "        for inputs, labels in progress_bar:\n",
    "            inputs, labels = inputs.to(device), labels.to(device)\n",
    "\n",
    "            # Clear gradients\n",
    "            optimizer.zero_grad()\n",
    "\n",
    "            with autocast('cuda'):\n",
    "\n",
    "                # Forward pass\n",
    "                outputs = model(inputs)\n",
    "\n",
    "                # Compute loss\n",
    "                loss = criterion(outputs, labels)\n",
    "\n",
    "            # Backward pass + scaling\n",
    "            scaler.scale(loss).backward()\n",
    "            scaler.step(optimizer)\n",
    "            scaler.update()\n",
    "\n",
    "            train_loss += loss.item() * inputs.size(0)\n",
    "            progress_bar.set_postfix({\"Loss\": loss.item()})\n",
    "\n",
    "        # Calculate average training loss\n",
    "        train_loss /= len(train_loader.dataset)\n",
    "        train_losses.append(train_loss)\n",
    "\n",
    "        # Validation\n",
    "        model.eval()\n",
    "        val_loss = 0.0\n",
    "        all_labels = []\n",
    "        all_preds = []\n",
    "\n",
    "        # Progress bar\n",
    "        progress_bar = tqdm(val_loader, desc=f\"Epoch {epoch+1}/{epochs}\")\n",
    "\n",
    "        # Disable gradients for evaluation\n",
    "        with torch.no_grad():\n",
    "            for inputs, labels in progress_bar:\n",
    "                \n",
    "                # Retrieve input sizes\n",
    "                batch_size, ncrops, C, H, W = inputs.size()\n",
    "\n",
    "                # Move to device\n",
    "                inputs, labels = inputs.to(device), labels.to(device)\n",
    "\n",
    "                # Change to [batch_size * ncrops, C, H, W]\n",
    "                inputs = inputs.view(-1, C, H, W)  \n",
    "\n",
    "                with autocast('cuda'):\n",
    "\n",
    "                    # Forward pass\n",
    "                    outputs = model(inputs)\n",
    "\n",
    "                    # Change to [batch_size * ncrops, C, H, W] and average\n",
    "                    outputs = outputs.view(batch_size, ncrops, -1).mean(1)\n",
    "\n",
    "                    # Compute loss\n",
    "                    loss = criterion(outputs, labels)\n",
    "                \n",
    "                val_loss += loss.item() * inputs.size(0)\n",
    "\n",
    "                # Apply sigmoid\n",
    "                preds = torch.sigmoid(outputs).cpu()\n",
    "\n",
    "                # Store predictions and true labels\n",
    "                all_preds.append(preds)\n",
    "                all_labels.append(labels.cpu())\n",
    "                \n",
    "                progress_bar.set_postfix({\"Loss\": loss.item()})\n",
    "\n",
    "        # Calculate average validation loss\n",
    "        val_loss /= (len(val_loader.dataset)*10)\n",
    "        val_losses.append(val_loss)\n",
    "\n",
    "        # Concatenate all batches\n",
    "        preds = torch.cat(all_preds)\n",
    "        labels = torch.cat(all_labels)\n",
    "    \n",
    "        roc_auc_per_label = []\n",
    "\n",
    "        # Compute metrics for each label\n",
    "        for i, label in enumerate(disease_labels):\n",
    "\n",
    "            # Calculate ROC AUC\n",
    "            roc_auc = roc_auc_score(labels[:, i].numpy(), preds[:, i].numpy())\n",
    "            roc_auc_per_label.append(roc_auc)\n",
    "\n",
    "        # Calculate and add overall metrics\n",
    "        mean_auc = np.mean(roc_auc_per_label)\n",
    "        val_aucs.append(mean_auc)\n",
    "\n",
    "        # Update the scheduler\n",
    "        scheduler.step(val_loss)\n",
    "        \n",
    "        print(f\"Epoch {epoch+1}/{epochs} | Training Loss: {train_loss:.4f} | \"\n",
    "              f\"Validation Loss: {val_loss:.4f} | Validation mAUC: {mean_auc:.4f}\")\n",
    "\n",
    "        # Early stopping\n",
    "        if mean_auc > best_score:\n",
    "            best_score = mean_auc\n",
    "            epochs_without_improvement = 0\n",
    "            torch.save(model.state_dict(), 'best_model_four_augmentations.pt')\n",
    "            print(f\"New best model with Validation mAUC: {mean_auc:.4f}\")\n",
    "        else:\n",
    "            epochs_without_improvement += 1\n",
    "            if epochs_without_improvement >= patience:\n",
    "                print(f\"Early stopping.\")\n",
    "                break\n",
    "\n",
    "    # Load the best model\n",
    "    model.load_state_dict(torch.load('best_model_four_augmentations.pt', weights_only=True))\n",
    "\n",
    "    return train_losses, val_losses, val_aucs"
   ]
  },
  {
   "cell_type": "markdown",
   "metadata": {},
   "source": [
    "### **Step 1: Train Classification Head Only**"
   ]
  },
  {
   "cell_type": "markdown",
   "metadata": {},
   "source": [
    "**Freeze the Backbone Parameters**"
   ]
  },
  {
   "cell_type": "code",
   "execution_count": 21,
   "metadata": {},
   "outputs": [],
   "source": [
    "for name, param in model.named_parameters():\n",
    "    if \"head\" not in name:\n",
    "        param.requires_grad = False"
   ]
  },
  {
   "cell_type": "markdown",
   "metadata": {},
   "source": [
    "**Initialize Loss Function, Optimizer and Scheduler**"
   ]
  },
  {
   "cell_type": "code",
   "execution_count": 22,
   "metadata": {},
   "outputs": [],
   "source": [
    "criterion = nn.BCEWithLogitsLoss()\n",
    "optimizer_head = optim.Adam(model.parameters(), lr=LEARNING_RATE)\n",
    "scheduler = torch.optim.lr_scheduler.ReduceLROnPlateau(optimizer_head, factor=LEARNING_RATE_SCHEDULER_FACTOR, patience=LEARNING_RATE_SCHEDULER_PATIENCE, mode=LEARNING_RATE_SCHEDULER_MODE)"
   ]
  },
  {
   "cell_type": "markdown",
   "metadata": {},
   "source": [
    "**Train the Model**"
   ]
  },
  {
   "cell_type": "code",
   "execution_count": 23,
   "metadata": {},
   "outputs": [
    {
     "name": "stderr",
     "output_type": "stream",
     "text": [
      "Epoch 1/3: 100%|██████████| 2457/2457 [01:14<00:00, 32.91it/s, Loss=0.18] \n",
      "Epoch 1/3: 100%|██████████| 351/351 [00:39<00:00,  8.80it/s, Loss=0.144] \n"
     ]
    },
    {
     "name": "stdout",
     "output_type": "stream",
     "text": [
      "Epoch 1/3 | Training Loss: 0.2331 | Validation Loss: 0.1698 | Validation mAUC: 0.6712\n",
      "New best model with Validation mAUC: 0.6712\n"
     ]
    },
    {
     "name": "stderr",
     "output_type": "stream",
     "text": [
      "Epoch 2/3: 100%|██████████| 2457/2457 [01:13<00:00, 33.62it/s, Loss=0.21]  \n",
      "Epoch 2/3: 100%|██████████| 351/351 [00:39<00:00,  8.91it/s, Loss=0.133] \n"
     ]
    },
    {
     "name": "stdout",
     "output_type": "stream",
     "text": [
      "Epoch 2/3 | Training Loss: 0.1730 | Validation Loss: 0.1666 | Validation mAUC: 0.7030\n",
      "New best model with Validation mAUC: 0.7030\n"
     ]
    },
    {
     "name": "stderr",
     "output_type": "stream",
     "text": [
      "Epoch 3/3: 100%|██████████| 2457/2457 [01:12<00:00, 34.00it/s, Loss=0.232] \n",
      "Epoch 3/3: 100%|██████████| 351/351 [00:39<00:00,  8.87it/s, Loss=0.144] \n"
     ]
    },
    {
     "name": "stdout",
     "output_type": "stream",
     "text": [
      "Epoch 3/3 | Training Loss: 0.1703 | Validation Loss: 0.1662 | Validation mAUC: 0.7214\n",
      "New best model with Validation mAUC: 0.7214\n"
     ]
    }
   ],
   "source": [
    "train_losses_1, val_losses_1, val_aucs_1 = train_model(model, train_loader, val_loader, criterion, optimizer_head, EARLY_STOPPING_PATIENCE, EPOCHS)"
   ]
  },
  {
   "cell_type": "markdown",
   "metadata": {},
   "source": [
    "### **Step 2: Fine Tune Entire Network**"
   ]
  },
  {
   "cell_type": "markdown",
   "metadata": {},
   "source": [
    "**Unfreeze All Layers**"
   ]
  },
  {
   "cell_type": "code",
   "execution_count": 24,
   "metadata": {},
   "outputs": [],
   "source": [
    "for param in model.parameters():\n",
    "    param.requires_grad = True"
   ]
  },
  {
   "cell_type": "markdown",
   "metadata": {},
   "source": [
    "**Initialize Optimizer and Scheduler**"
   ]
  },
  {
   "cell_type": "code",
   "execution_count": 25,
   "metadata": {},
   "outputs": [],
   "source": [
    "optimizer_full = optim.Adam(model.parameters(), lr=LEARNING_RATE_FINE_TUNING)\n",
    "scheduler = torch.optim.lr_scheduler.ReduceLROnPlateau(optimizer_full, factor=LEARNING_RATE_SCHEDULER_FACTOR, patience=LEARNING_RATE_SCHEDULER_PATIENCE, mode=LEARNING_RATE_SCHEDULER_MODE)"
   ]
  },
  {
   "cell_type": "markdown",
   "metadata": {},
   "source": [
    "**Train the Model**"
   ]
  },
  {
   "cell_type": "code",
   "execution_count": 26,
   "metadata": {},
   "outputs": [
    {
     "name": "stderr",
     "output_type": "stream",
     "text": [
      "Epoch 1/100: 100%|██████████| 2457/2457 [02:20<00:00, 17.45it/s, Loss=0.165] \n",
      "Epoch 1/100: 100%|██████████| 351/351 [00:39<00:00,  8.88it/s, Loss=0.121] \n"
     ]
    },
    {
     "name": "stdout",
     "output_type": "stream",
     "text": [
      "Epoch 1/100 | Training Loss: 0.1622 | Validation Loss: 0.1529 | Validation mAUC: 0.7987\n",
      "New best model with Validation mAUC: 0.7987\n"
     ]
    },
    {
     "name": "stderr",
     "output_type": "stream",
     "text": [
      "Epoch 2/100: 100%|██████████| 2457/2457 [02:18<00:00, 17.68it/s, Loss=0.179] \n",
      "Epoch 2/100: 100%|██████████| 351/351 [00:39<00:00,  8.81it/s, Loss=0.125] \n"
     ]
    },
    {
     "name": "stdout",
     "output_type": "stream",
     "text": [
      "Epoch 2/100 | Training Loss: 0.1532 | Validation Loss: 0.1476 | Validation mAUC: 0.8263\n",
      "New best model with Validation mAUC: 0.8263\n"
     ]
    },
    {
     "name": "stderr",
     "output_type": "stream",
     "text": [
      "Epoch 3/100: 100%|██████████| 2457/2457 [02:19<00:00, 17.63it/s, Loss=0.168] \n",
      "Epoch 3/100: 100%|██████████| 351/351 [00:39<00:00,  8.79it/s, Loss=0.116] \n"
     ]
    },
    {
     "name": "stdout",
     "output_type": "stream",
     "text": [
      "Epoch 3/100 | Training Loss: 0.1490 | Validation Loss: 0.1446 | Validation mAUC: 0.8330\n",
      "New best model with Validation mAUC: 0.8330\n"
     ]
    },
    {
     "name": "stderr",
     "output_type": "stream",
     "text": [
      "Epoch 4/100: 100%|██████████| 2457/2457 [02:17<00:00, 17.84it/s, Loss=0.176] \n",
      "Epoch 4/100: 100%|██████████| 351/351 [00:38<00:00,  9.00it/s, Loss=0.115] \n"
     ]
    },
    {
     "name": "stdout",
     "output_type": "stream",
     "text": [
      "Epoch 4/100 | Training Loss: 0.1461 | Validation Loss: 0.1434 | Validation mAUC: 0.8385\n",
      "New best model with Validation mAUC: 0.8385\n"
     ]
    },
    {
     "name": "stderr",
     "output_type": "stream",
     "text": [
      "Epoch 5/100: 100%|██████████| 2457/2457 [02:19<00:00, 17.58it/s, Loss=0.0963]\n",
      "Epoch 5/100: 100%|██████████| 351/351 [00:38<00:00,  9.02it/s, Loss=0.124] \n"
     ]
    },
    {
     "name": "stdout",
     "output_type": "stream",
     "text": [
      "Epoch 5/100 | Training Loss: 0.1436 | Validation Loss: 0.1430 | Validation mAUC: 0.8435\n",
      "New best model with Validation mAUC: 0.8435\n"
     ]
    },
    {
     "name": "stderr",
     "output_type": "stream",
     "text": [
      "Epoch 6/100: 100%|██████████| 2457/2457 [02:17<00:00, 17.88it/s, Loss=0.126] \n",
      "Epoch 6/100: 100%|██████████| 351/351 [00:39<00:00,  8.88it/s, Loss=0.125] \n"
     ]
    },
    {
     "name": "stdout",
     "output_type": "stream",
     "text": [
      "Epoch 6/100 | Training Loss: 0.1414 | Validation Loss: 0.1436 | Validation mAUC: 0.8369\n"
     ]
    },
    {
     "name": "stderr",
     "output_type": "stream",
     "text": [
      "Epoch 7/100: 100%|██████████| 2457/2457 [02:17<00:00, 17.89it/s, Loss=0.154] \n",
      "Epoch 7/100: 100%|██████████| 351/351 [00:39<00:00,  8.98it/s, Loss=0.111] \n"
     ]
    },
    {
     "name": "stdout",
     "output_type": "stream",
     "text": [
      "Epoch 7/100 | Training Loss: 0.1392 | Validation Loss: 0.1421 | Validation mAUC: 0.8442\n",
      "New best model with Validation mAUC: 0.8442\n"
     ]
    },
    {
     "name": "stderr",
     "output_type": "stream",
     "text": [
      "Epoch 8/100: 100%|██████████| 2457/2457 [02:19<00:00, 17.60it/s, Loss=0.166] \n",
      "Epoch 8/100: 100%|██████████| 351/351 [00:39<00:00,  8.96it/s, Loss=0.108] \n"
     ]
    },
    {
     "name": "stdout",
     "output_type": "stream",
     "text": [
      "Epoch 8/100 | Training Loss: 0.1369 | Validation Loss: 0.1424 | Validation mAUC: 0.8450\n",
      "New best model with Validation mAUC: 0.8450\n"
     ]
    },
    {
     "name": "stderr",
     "output_type": "stream",
     "text": [
      "Epoch 9/100: 100%|██████████| 2457/2457 [02:17<00:00, 17.81it/s, Loss=0.242] \n",
      "Epoch 9/100: 100%|██████████| 351/351 [00:39<00:00,  8.79it/s, Loss=0.11]  \n"
     ]
    },
    {
     "name": "stdout",
     "output_type": "stream",
     "text": [
      "Epoch 9/100 | Training Loss: 0.1346 | Validation Loss: 0.1435 | Validation mAUC: 0.8392\n"
     ]
    },
    {
     "name": "stderr",
     "output_type": "stream",
     "text": [
      "Epoch 10/100: 100%|██████████| 2457/2457 [02:19<00:00, 17.63it/s, Loss=0.149] \n",
      "Epoch 10/100: 100%|██████████| 351/351 [00:39<00:00,  8.91it/s, Loss=0.107] \n"
     ]
    },
    {
     "name": "stdout",
     "output_type": "stream",
     "text": [
      "Epoch 10/100 | Training Loss: 0.1273 | Validation Loss: 0.1431 | Validation mAUC: 0.8464\n",
      "New best model with Validation mAUC: 0.8464\n"
     ]
    },
    {
     "name": "stderr",
     "output_type": "stream",
     "text": [
      "Epoch 11/100: 100%|██████████| 2457/2457 [02:18<00:00, 17.72it/s, Loss=0.0823]\n",
      "Epoch 11/100: 100%|██████████| 351/351 [00:39<00:00,  8.80it/s, Loss=0.109] \n"
     ]
    },
    {
     "name": "stdout",
     "output_type": "stream",
     "text": [
      "Epoch 11/100 | Training Loss: 0.1246 | Validation Loss: 0.1446 | Validation mAUC: 0.8448\n"
     ]
    },
    {
     "name": "stderr",
     "output_type": "stream",
     "text": [
      "Epoch 12/100: 100%|██████████| 2457/2457 [02:19<00:00, 17.57it/s, Loss=0.118] \n",
      "Epoch 12/100: 100%|██████████| 351/351 [00:38<00:00,  9.01it/s, Loss=0.109] \n"
     ]
    },
    {
     "name": "stdout",
     "output_type": "stream",
     "text": [
      "Epoch 12/100 | Training Loss: 0.1231 | Validation Loss: 0.1442 | Validation mAUC: 0.8446\n"
     ]
    },
    {
     "name": "stderr",
     "output_type": "stream",
     "text": [
      "Epoch 13/100: 100%|██████████| 2457/2457 [02:17<00:00, 17.91it/s, Loss=0.132] \n",
      "Epoch 13/100: 100%|██████████| 351/351 [00:38<00:00,  9.02it/s, Loss=0.11]  \n"
     ]
    },
    {
     "name": "stdout",
     "output_type": "stream",
     "text": [
      "Epoch 13/100 | Training Loss: 0.1228 | Validation Loss: 0.1446 | Validation mAUC: 0.8444\n"
     ]
    },
    {
     "name": "stderr",
     "output_type": "stream",
     "text": [
      "Epoch 14/100: 100%|██████████| 2457/2457 [02:19<00:00, 17.62it/s, Loss=0.089] \n",
      "Epoch 14/100: 100%|██████████| 351/351 [00:39<00:00,  8.96it/s, Loss=0.109] \n"
     ]
    },
    {
     "name": "stdout",
     "output_type": "stream",
     "text": [
      "Epoch 14/100 | Training Loss: 0.1227 | Validation Loss: 0.1443 | Validation mAUC: 0.8441\n"
     ]
    },
    {
     "name": "stderr",
     "output_type": "stream",
     "text": [
      "Epoch 15/100: 100%|██████████| 2457/2457 [02:18<00:00, 17.78it/s, Loss=0.141] \n",
      "Epoch 15/100: 100%|██████████| 351/351 [00:39<00:00,  8.92it/s, Loss=0.111] \n"
     ]
    },
    {
     "name": "stdout",
     "output_type": "stream",
     "text": [
      "Epoch 15/100 | Training Loss: 0.1227 | Validation Loss: 0.1449 | Validation mAUC: 0.8449\n"
     ]
    },
    {
     "name": "stderr",
     "output_type": "stream",
     "text": [
      "Epoch 16/100: 100%|██████████| 2457/2457 [02:19<00:00, 17.66it/s, Loss=0.159] \n",
      "Epoch 16/100: 100%|██████████| 351/351 [00:39<00:00,  8.88it/s, Loss=0.109] \n"
     ]
    },
    {
     "name": "stdout",
     "output_type": "stream",
     "text": [
      "Epoch 16/100 | Training Loss: 0.1224 | Validation Loss: 0.1445 | Validation mAUC: 0.8443\n"
     ]
    },
    {
     "name": "stderr",
     "output_type": "stream",
     "text": [
      "Epoch 17/100: 100%|██████████| 2457/2457 [02:16<00:00, 18.04it/s, Loss=0.159] \n",
      "Epoch 17/100: 100%|██████████| 351/351 [00:39<00:00,  8.95it/s, Loss=0.109] \n"
     ]
    },
    {
     "name": "stdout",
     "output_type": "stream",
     "text": [
      "Epoch 17/100 | Training Loss: 0.1227 | Validation Loss: 0.1445 | Validation mAUC: 0.8440\n"
     ]
    },
    {
     "name": "stderr",
     "output_type": "stream",
     "text": [
      "Epoch 18/100: 100%|██████████| 2457/2457 [02:17<00:00, 17.87it/s, Loss=0.0783]\n",
      "Epoch 18/100: 100%|██████████| 351/351 [00:39<00:00,  8.91it/s, Loss=0.108] \n"
     ]
    },
    {
     "name": "stdout",
     "output_type": "stream",
     "text": [
      "Epoch 18/100 | Training Loss: 0.1227 | Validation Loss: 0.1444 | Validation mAUC: 0.8441\n"
     ]
    },
    {
     "name": "stderr",
     "output_type": "stream",
     "text": [
      "Epoch 19/100: 100%|██████████| 2457/2457 [02:19<00:00, 17.58it/s, Loss=0.12]  \n",
      "Epoch 19/100: 100%|██████████| 351/351 [00:39<00:00,  8.92it/s, Loss=0.109] \n"
     ]
    },
    {
     "name": "stdout",
     "output_type": "stream",
     "text": [
      "Epoch 19/100 | Training Loss: 0.1224 | Validation Loss: 0.1445 | Validation mAUC: 0.8438\n"
     ]
    },
    {
     "name": "stderr",
     "output_type": "stream",
     "text": [
      "Epoch 20/100: 100%|██████████| 2457/2457 [02:17<00:00, 17.93it/s, Loss=0.111] \n",
      "Epoch 20/100: 100%|██████████| 351/351 [00:39<00:00,  8.93it/s, Loss=0.111] \n"
     ]
    },
    {
     "name": "stdout",
     "output_type": "stream",
     "text": [
      "Epoch 20/100 | Training Loss: 0.1227 | Validation Loss: 0.1448 | Validation mAUC: 0.8448\n",
      "Early stopping.\n"
     ]
    }
   ],
   "source": [
    "train_losses_2, val_losses_2, val_aucs_2 = train_model(model, train_loader, val_loader, criterion, optimizer_full, EARLY_STOPPING_PATIENCE, EPOCHS_FINE_TUNING)"
   ]
  },
  {
   "cell_type": "markdown",
   "metadata": {},
   "source": [
    "# **Step 6: Evaluate the Model**"
   ]
  },
  {
   "cell_type": "markdown",
   "metadata": {},
   "source": [
    "**Evaluate the Model on Test Set**"
   ]
  },
  {
   "cell_type": "code",
   "execution_count": 27,
   "metadata": {},
   "outputs": [
    {
     "name": "stderr",
     "output_type": "stream",
     "text": [
      "Evaluating on Test Set:   0%|          | 0/697 [00:00<?, ?it/s]"
     ]
    },
    {
     "name": "stderr",
     "output_type": "stream",
     "text": [
      "Evaluating on Test Set: 100%|██████████| 697/697 [01:55<00:00,  6.05it/s]\n"
     ]
    }
   ],
   "source": [
    "def evaluate_model(model, test_loader):\n",
    "    \"\"\"\n",
    "    Evaluate the model on the test set.\n",
    "    \"\"\"\n",
    "\n",
    "    # Store all predictions\n",
    "    all_preds = []\n",
    "    all_labels = []\n",
    "\n",
    "    # Progress bar\n",
    "    progress_bar = tqdm(test_loader, desc=\"Evaluating on Test Set\")\n",
    "\n",
    "    # Set to evaluation mode\n",
    "    model.eval()\n",
    "\n",
    "    # Disable gradients for evaluation\n",
    "    with torch.no_grad():\n",
    "        for inputs, labels in progress_bar:\n",
    "            # Retrieve input sizes\n",
    "            batch_size, ncrops, C, H, W = inputs.size()\n",
    "\n",
    "            # Move to device\n",
    "            inputs, labels = inputs.to(device), labels.to(device)\n",
    "\n",
    "            # Change to [batch_size * ncrops, C, H, W]\n",
    "            inputs = inputs.view(-1, C, H, W)  \n",
    "\n",
    "            # Forward pass\n",
    "            outputs = model(inputs)\n",
    "\n",
    "            # Change to [batch_size * ncrops, C, H, W] and average\n",
    "            outputs = outputs.view(batch_size, ncrops, -1).mean(1)\n",
    "\n",
    "            # Apply sigmoid\n",
    "            predictions = torch.sigmoid(outputs)\n",
    "\n",
    "            # Store predictions and true labels\n",
    "            all_preds.append(predictions.cpu())\n",
    "            all_labels.append(labels.cpu())\n",
    "\n",
    "    # Concatenate all batches\n",
    "    predictions = torch.cat(all_preds)\n",
    "    labels = torch.cat(all_labels)\n",
    "    \n",
    "    return predictions, labels\n",
    "\n",
    "# Retrive predictions and true labels\n",
    "predictions, labels = evaluate_model(model, test_loader)"
   ]
  },
  {
   "cell_type": "markdown",
   "metadata": {},
   "source": [
    "**Compute Metrics for Each Label**"
   ]
  },
  {
   "cell_type": "code",
   "execution_count": 28,
   "metadata": {},
   "outputs": [],
   "source": [
    "# Dictionaries for storing metrics\n",
    "accuracy_per_label, f1_score_per_label, mean_auc_per_label = {}, {}, {}\n",
    "\n",
    "# Compute metrics for each label\n",
    "for i, label in enumerate(disease_labels):\n",
    "\n",
    "    # Create binary predictions\n",
    "    binary_predictions = predictions[:, i] > 0.5\n",
    "\n",
    "    # Calculate accuracy\n",
    "    accuracy_per_label[label] = accuracy_score(labels[:, i], binary_predictions)\n",
    "\n",
    "    # Calculate f1 score\n",
    "    f1_score_per_label[label] = f1_score(labels[:, i], binary_predictions, average='macro')\n",
    "\n",
    "    # Calculate mAUC\n",
    "    mean_auc_per_label[label] = roc_auc_score(labels[:, i], predictions[:, i])\n",
    "\n",
    "# Create a df with metrics\n",
    "metrics_df = pd.DataFrame({\n",
    "    'Accuracy': accuracy_per_label,\n",
    "    'F1 Score': f1_score_per_label,\n",
    "    'mAUC': mean_auc_per_label\n",
    "})\n",
    "\n",
    "# Calculate the mean for all diseases\n",
    "metrics_df.loc['Overall'] = metrics_df.mean()"
   ]
  },
  {
   "cell_type": "markdown",
   "metadata": {},
   "source": [
    "**Print Metrics**"
   ]
  },
  {
   "cell_type": "code",
   "execution_count": 29,
   "metadata": {},
   "outputs": [
    {
     "data": {
      "text/html": [
       "<div>\n",
       "<style scoped>\n",
       "    .dataframe tbody tr th:only-of-type {\n",
       "        vertical-align: middle;\n",
       "    }\n",
       "\n",
       "    .dataframe tbody tr th {\n",
       "        vertical-align: top;\n",
       "    }\n",
       "\n",
       "    .dataframe thead th {\n",
       "        text-align: right;\n",
       "    }\n",
       "</style>\n",
       "<table border=\"1\" class=\"dataframe\">\n",
       "  <thead>\n",
       "    <tr style=\"text-align: right;\">\n",
       "      <th></th>\n",
       "      <th>Accuracy</th>\n",
       "      <th>F1 Score</th>\n",
       "      <th>mAUC</th>\n",
       "    </tr>\n",
       "  </thead>\n",
       "  <tbody>\n",
       "    <tr>\n",
       "      <th>Atelectasis</th>\n",
       "      <td>0.897775</td>\n",
       "      <td>0.635118</td>\n",
       "      <td>0.825180</td>\n",
       "    </tr>\n",
       "    <tr>\n",
       "      <th>Consolidation</th>\n",
       "      <td>0.956356</td>\n",
       "      <td>0.503793</td>\n",
       "      <td>0.819212</td>\n",
       "    </tr>\n",
       "    <tr>\n",
       "      <th>Infiltration</th>\n",
       "      <td>0.813627</td>\n",
       "      <td>0.548565</td>\n",
       "      <td>0.712526</td>\n",
       "    </tr>\n",
       "    <tr>\n",
       "      <th>Pneumothorax</th>\n",
       "      <td>0.953575</td>\n",
       "      <td>0.638097</td>\n",
       "      <td>0.881585</td>\n",
       "    </tr>\n",
       "    <tr>\n",
       "      <th>Edema</th>\n",
       "      <td>0.977617</td>\n",
       "      <td>0.536537</td>\n",
       "      <td>0.893468</td>\n",
       "    </tr>\n",
       "    <tr>\n",
       "      <th>Emphysema</th>\n",
       "      <td>0.975868</td>\n",
       "      <td>0.638043</td>\n",
       "      <td>0.925701</td>\n",
       "    </tr>\n",
       "    <tr>\n",
       "      <th>Fibrosis</th>\n",
       "      <td>0.983045</td>\n",
       "      <td>0.513581</td>\n",
       "      <td>0.812039</td>\n",
       "    </tr>\n",
       "    <tr>\n",
       "      <th>Effusion</th>\n",
       "      <td>0.895757</td>\n",
       "      <td>0.719733</td>\n",
       "      <td>0.885238</td>\n",
       "    </tr>\n",
       "    <tr>\n",
       "      <th>Pneumonia</th>\n",
       "      <td>0.986768</td>\n",
       "      <td>0.496670</td>\n",
       "      <td>0.750475</td>\n",
       "    </tr>\n",
       "    <tr>\n",
       "      <th>Pleural_Thickening</th>\n",
       "      <td>0.969678</td>\n",
       "      <td>0.516240</td>\n",
       "      <td>0.801075</td>\n",
       "    </tr>\n",
       "    <tr>\n",
       "      <th>Cardiomegaly</th>\n",
       "      <td>0.970665</td>\n",
       "      <td>0.654694</td>\n",
       "      <td>0.924220</td>\n",
       "    </tr>\n",
       "    <tr>\n",
       "      <th>Nodule</th>\n",
       "      <td>0.941509</td>\n",
       "      <td>0.574258</td>\n",
       "      <td>0.781924</td>\n",
       "    </tr>\n",
       "    <tr>\n",
       "      <th>Mass</th>\n",
       "      <td>0.950301</td>\n",
       "      <td>0.646391</td>\n",
       "      <td>0.847720</td>\n",
       "    </tr>\n",
       "    <tr>\n",
       "      <th>Hernia</th>\n",
       "      <td>0.998206</td>\n",
       "      <td>0.705433</td>\n",
       "      <td>0.945467</td>\n",
       "    </tr>\n",
       "    <tr>\n",
       "      <th>Overall</th>\n",
       "      <td>0.947910</td>\n",
       "      <td>0.594797</td>\n",
       "      <td>0.843273</td>\n",
       "    </tr>\n",
       "  </tbody>\n",
       "</table>\n",
       "</div>"
      ],
      "text/plain": [
       "                    Accuracy  F1 Score      mAUC\n",
       "Atelectasis         0.897775  0.635118  0.825180\n",
       "Consolidation       0.956356  0.503793  0.819212\n",
       "Infiltration        0.813627  0.548565  0.712526\n",
       "Pneumothorax        0.953575  0.638097  0.881585\n",
       "Edema               0.977617  0.536537  0.893468\n",
       "Emphysema           0.975868  0.638043  0.925701\n",
       "Fibrosis            0.983045  0.513581  0.812039\n",
       "Effusion            0.895757  0.719733  0.885238\n",
       "Pneumonia           0.986768  0.496670  0.750475\n",
       "Pleural_Thickening  0.969678  0.516240  0.801075\n",
       "Cardiomegaly        0.970665  0.654694  0.924220\n",
       "Nodule              0.941509  0.574258  0.781924\n",
       "Mass                0.950301  0.646391  0.847720\n",
       "Hernia              0.998206  0.705433  0.945467\n",
       "Overall             0.947910  0.594797  0.843273"
      ]
     },
     "execution_count": 29,
     "metadata": {},
     "output_type": "execute_result"
    }
   ],
   "source": [
    "metrics_df"
   ]
  },
  {
   "cell_type": "markdown",
   "metadata": {},
   "source": [
    "**Plot ROC curves for each label**"
   ]
  },
  {
   "cell_type": "code",
   "execution_count": 30,
   "metadata": {},
   "outputs": [
    {
     "data": {
      "image/png": "[encoded data removed]",
      "text/plain": [
       "<Figure size 1000x800 with 1 Axes>"
      ]
     },
     "metadata": {},
     "output_type": "display_data"
    }
   ],
   "source": [
    "plt.figure(figsize=(10, 8))\n",
    "for i, label in enumerate(disease_labels):\n",
    "    fpr, tpr, _ = roc_curve(labels[:, i], predictions[:, i])\n",
    "    plt.plot(fpr, tpr, label=f\"{label} (AUC = {mean_auc_per_label[label]:.2f})\")\n",
    "\n",
    "plt.plot([0, 1], [0, 1], linestyle='--', color='black', label=\"Random Guess\")\n",
    "plt.xlabel('False Positive Rate (FPR)')\n",
    "plt.ylabel('True Positive Rate (TPR)')\n",
    "plt.title('ROC Curves for Each Disease')\n",
    "plt.legend(loc='lower right')\n",
    "plt.show()"
   ]
  },
  {
   "cell_type": "markdown",
   "metadata": {},
   "source": [
    "**Plot Training and Validation Loss**"
   ]
  },
  {
   "cell_type": "code",
   "execution_count": 31,
   "metadata": {},
   "outputs": [
    {
     "data": {
      "image/png": "[encoded data removed]",
      "text/plain": [
       "<Figure size 1000x600 with 1 Axes>"
      ]
     },
     "metadata": {},
     "output_type": "display_data"
    }
   ],
   "source": [
    "plt.figure(figsize=(10, 6))\n",
    "plt.plot(train_losses_1 + train_losses_2, label='Training Loss', color='deepskyblue')\n",
    "plt.plot(val_losses_1 + val_losses_2, label='Validation Loss', color='navy')\n",
    "plt.xlabel('Epoch')\n",
    "plt.ylabel('Loss')\n",
    "plt.title('Training and Validation Loss Over Epochs')\n",
    "plt.legend()\n",
    "plt.grid(True)\n",
    "plt.show()"
   ]
  },
  {
   "cell_type": "markdown",
   "metadata": {},
   "source": [
    "**Plot Training and Validation Loss only Fine-tuning**"
   ]
  },
  {
   "cell_type": "code",
   "execution_count": 32,
   "metadata": {},
   "outputs": [
    {
     "data": {
      "image/png": "[encoded data removed]",
      "text/plain": [
       "<Figure size 1000x600 with 1 Axes>"
      ]
     },
     "metadata": {},
     "output_type": "display_data"
    }
   ],
   "source": [
    "plt.figure(figsize=(10, 6))\n",
    "plt.plot(train_losses_2, label='Training Loss', color='deepskyblue')\n",
    "plt.plot(val_losses_2, label='Validation Loss', color='navy')\n",
    "plt.xlabel('Epoch')\n",
    "plt.ylabel('Loss')\n",
    "plt.title('Training and Validation Loss Over Epochs')\n",
    "plt.legend()\n",
    "plt.grid(True)\n",
    "plt.show()"
   ]
  },
  {
   "cell_type": "markdown",
   "metadata": {},
   "source": [
    "**Plot Validation AUC**"
   ]
  },
  {
   "cell_type": "code",
   "execution_count": 33,
   "metadata": {},
   "outputs": [
    {
     "data": {
      "image/png": "[encoded data removed]",
      "text/plain": [
       "<Figure size 1000x600 with 1 Axes>"
      ]
     },
     "metadata": {},
     "output_type": "display_data"
    }
   ],
   "source": [
    "plt.figure(figsize=(10, 6))\n",
    "plt.plot(val_aucs_2, label='Validation AUC', color='navy')\n",
    "plt.xlabel('Epoch')\n",
    "plt.ylabel('AUC')\n",
    "plt.title('Validation ROC AUC Over Epochs')\n",
    "plt.legend()\n",
    "plt.grid(True)\n",
    "plt.show()"
   ]
  },
  {
   "cell_type": "markdown",
   "metadata": {},
   "source": [
    "**Plot Validation AUC only Fine-tuning**"
   ]
  },
  {
   "cell_type": "code",
   "execution_count": 34,
   "metadata": {},
   "outputs": [
    {
     "data": {
      "image/png": "[encoded data removed]",
      "text/plain": [
       "<Figure size 1000x600 with 1 Axes>"
      ]
     },
     "metadata": {},
     "output_type": "display_data"
    }
   ],
   "source": [
    "plt.figure(figsize=(10, 6))\n",
    "plt.plot(val_aucs_1 + val_aucs_2, label='Validation AUC', color='navy')\n",
    "plt.xlabel('Epoch')\n",
    "plt.ylabel('AUC')\n",
    "plt.title('Validation ROC AUC Over Epochs')\n",
    "plt.legend()\n",
    "plt.grid(True)\n",
    "plt.show()"
   ]
  },
  {
   "cell_type": "markdown",
   "metadata": {},
   "source": [
    "**Plot BYOL Loss**"
   ]
  },
  {
   "cell_type": "code",
   "execution_count": 35,
   "metadata": {},
   "outputs": [
    {
     "data": {
      "image/png": "[encoded data removed]",
      "text/plain": [
       "<Figure size 1000x600 with 1 Axes>"
      ]
     },
     "metadata": {},
     "output_type": "display_data"
    }
   ],
   "source": [
    "plt.figure(figsize=(10, 6))\n",
    "plt.plot(byol_train_losses, label='BYOL Training Loss', color='deepskyblue')\n",
    "plt.plot(byol_val_losses, label='BYOL Validation Loss', color='navy')\n",
    "plt.xlabel('Epoch')\n",
    "plt.ylabel('Loss')\n",
    "plt.title('BYOL Loss Over Epochs')\n",
    "plt.legend()\n",
    "plt.grid(True)\n",
    "plt.show()"
   ]
  }
 ],
 "metadata": {
  "kernelspec": {
   "display_name": "master_thesis",
   "language": "python",
   "name": "master_thesis"
  },
  "language_info": {
   "codemirror_mode": {
    "name": "ipython",
    "version": 3
   },
   "file_extension": ".py",
   "mimetype": "text/x-python",
   "name": "python",
   "nbconvert_exporter": "python",
   "pygments_lexer": "ipython3",
   "version": "3.11.8"
  }
 },
 "nbformat": 4,
 "nbformat_minor": 2
}
